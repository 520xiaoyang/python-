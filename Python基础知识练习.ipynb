{
 "cells": [
  {
   "cell_type": "code",
   "execution_count": 1,
   "id": "611e15a9",
   "metadata": {},
   "outputs": [
    {
     "name": "stdout",
     "output_type": "stream",
     "text": [
      "Hello Python world!\n",
      "I can do it\n"
     ]
    }
   ],
   "source": [
    "#变量赋值\n",
    "message = \"Hello Python world!\"#将值“Hello Python world!”赋给变量message\n",
    "print(message)#输出变量\n",
    "message=\"I can do it\"\n",
    "print(message)\n",
    "#在程序中可随时修改变量的值，而Python将始终记录变量的最新值。"
   ]
  },
  {
   "cell_type": "code",
   "execution_count": 2,
   "id": "8d3c4a8a",
   "metadata": {
    "tags": []
   },
   "outputs": [
    {
     "name": "stdout",
     "output_type": "stream",
     "text": [
      "Ada Lovelace\n"
     ]
    }
   ],
   "source": [
    "name = \"ada lovelace\"\n",
    "print(name.title())\n",
    "#name是变量名，title()是函数。在name.title()中，name后面的句点（.）让Python对变量name执行方法title()指定的操作。\n",
    "#每个方法后面都跟着一对括号，这是因为方法通常需要额外的信息来完成其工作。\n",
    "#这种信息是在括号内提供的。函数title()不需要额外的信息，因此它后面的括号是空的"
   ]
  },
  {
   "cell_type": "code",
   "execution_count": null,
   "id": "86ec3860-d597-4951-a2bf-c834df64fca6",
   "metadata": {
    "tags": []
   },
   "outputs": [],
   "source": [
    "favorite_language = 'python '\n",
    "favorite_language = favorite_language.rstrip()\n",
    "favorite_language\n",
    "'python'"
   ]
  },
  {
   "cell_type": "code",
   "execution_count": 4,
   "id": "e2307f52",
   "metadata": {
    "scrolled": true,
    "tags": []
   },
   "outputs": [
    {
     "name": "stdout",
     "output_type": "stream",
     "text": [
      "hello 张阳,would you like to learn some Python today?\n"
     ]
    }
   ],
   "source": [
    "#练习\n",
    "name=\"张阳\"\n",
    "see=\"hello\"+\" \"+name+\",\"+\"would you like to learn some Python today?\"\n",
    "print(see)"
   ]
  },
  {
   "cell_type": "code",
   "execution_count": 5,
   "id": "8d401e6b",
   "metadata": {
    "tags": []
   },
   "outputs": [
    {
     "name": "stdout",
     "output_type": "stream",
     "text": [
      "My first bicycle was a Trek.\n"
     ]
    }
   ],
   "source": [
    "bicycles = ['trek', 'cannondale', 'redline', 'specialized']\n",
    "message = \"My first bicycle was a \" + bicycles[0].title() + \".\"#访问列表中的元素\n",
    "print(message)\n",
    "#发生索引错误却找不到解决办法时，请尝试将列表或其长度打印出来。列表可能与你以为的截然不同，在程序对其进行了动态处理时尤其如此。"
   ]
  },
  {
   "cell_type": "code",
   "execution_count": 6,
   "id": "c32fa241",
   "metadata": {
    "tags": []
   },
   "outputs": [
    {
     "name": "stdout",
     "output_type": "stream",
     "text": [
      "['auiolo', 'yamaha', 'suzuki', 'ducati']\n"
     ]
    }
   ],
   "source": [
    "motorcycles = ['honda', 'yamaha', 'suzuki']\n",
    "motorcycles.append('ducati')#在末尾添加元素\n",
    "motorcycles.insert(0, 'auiolo')#在列表第0个位置添加元素（从左往右第1个）\n",
    "del motorcycles[1]#删除列表第1个位置的元素（从左往右第2个）\n",
    "print(motorcycles)"
   ]
  },
  {
   "cell_type": "code",
   "execution_count": 7,
   "id": "3306d51f",
   "metadata": {},
   "outputs": [
    {
     "name": "stdout",
     "output_type": "stream",
     "text": [
      "The last motorcycle I owned was a Suzuki.\n"
     ]
    }
   ],
   "source": [
    "motorcycles = ['honda', 'yamaha','ducati', 'suzuki']\n",
    "last_owned = motorcycles.pop()#弹出列表末尾的元素 #注意：元素弹出之后，原列表中就不存在这个元素了\n",
    "print(\"The last motorcycle I owned was a \" + last_owned.title() + \".\")"
   ]
  },
  {
   "cell_type": "code",
   "execution_count": 8,
   "id": "9eddf95b",
   "metadata": {
    "tags": []
   },
   "outputs": [
    {
     "name": "stdout",
     "output_type": "stream",
     "text": [
      "['honda', 'yamaha']\n"
     ]
    }
   ],
   "source": [
    "motorcycles.remove('ducati')#删除掉列表中某个的特定的元素\n",
    "print(motorcycles)"
   ]
  },
  {
   "cell_type": "code",
   "execution_count": 9,
   "id": "880b6a74",
   "metadata": {},
   "outputs": [
    {
     "name": "stdout",
     "output_type": "stream",
     "text": [
      "['audi', 'bmw', 'subaru', 'toyota']\n",
      "['toyota', 'subaru', 'bmw', 'audi']\n"
     ]
    }
   ],
   "source": [
    "cars = ['bmw', 'audi', 'toyota', 'subaru']\n",
    "cars.sort()#将列表按照字母顺序进行永久排列\n",
    "print(cars)\n",
    "cars.sort(reverse=True)#按与字母顺序相反的顺序排列列表元素，为此，只需向sort()方法传递参数\n",
    "reverse=True\n",
    "print(cars)\n",
    "#在并非所有的值都是小写时，按字母顺序排列列表要复杂些。"
   ]
  },
  {
   "cell_type": "code",
   "execution_count": 10,
   "id": "46dd80ce",
   "metadata": {},
   "outputs": [
    {
     "name": "stdout",
     "output_type": "stream",
     "text": [
      "['bmw', 'audi', 'toyota', 'subaru']\n",
      "['subaru', 'toyota', 'audi', 'bmw']\n"
     ]
    }
   ],
   "source": [
    "cars = ['bmw', 'audi', 'toyota', 'subaru']\n",
    "print(cars)\n",
    "cars.reverse()#将整个列表反着排列\n",
    "print(cars)"
   ]
  },
  {
   "cell_type": "code",
   "execution_count": 11,
   "id": "bcdf7862",
   "metadata": {
    "tags": []
   },
   "outputs": [
    {
     "data": {
      "text/plain": [
       "4"
      ]
     },
     "execution_count": 11,
     "metadata": {},
     "output_type": "execute_result"
    }
   ],
   "source": [
    "cars = ['bmw', 'audi', 'toyota', 'subaru']\n",
    "len(cars)#统计列表长度"
   ]
  },
  {
   "cell_type": "code",
   "execution_count": 12,
   "id": "bbabc5c8",
   "metadata": {},
   "outputs": [
    {
     "name": "stdout",
     "output_type": "stream",
     "text": [
      "alice\n",
      "david\n",
      "carolina\n"
     ]
    }
   ],
   "source": [
    "magicians = ['alice', 'david', 'carolina']\n",
    "for magician in magicians:#这行代码让Python获取列表magicians中的第一个值（'alice'），并将其存储到变量magician中\n",
    "    print(magician)#编写for循环时，对于用于存储列表中每个值的临时变量，可指定任何名称。#冒号后注意缩进问题"
   ]
  },
  {
   "cell_type": "code",
   "execution_count": 13,
   "id": "c21b9574",
   "metadata": {
    "scrolled": true
   },
   "outputs": [
    {
     "name": "stdout",
     "output_type": "stream",
     "text": [
      "1\n",
      "2\n",
      "3\n",
      "4\n",
      "[1, 2, 3, 4, 5]\n",
      "[2, 4, 6, 8, 10]\n",
      "[1, 4, 9, 16, 25, 36, 49, 64, 81, 100]\n",
      "[1, 4, 9, 16, 25, 36, 49, 64, 81, 100]\n"
     ]
    }
   ],
   "source": [
    "for number in range(1,5):#输出1到4几个数字\n",
    "    print(number)\n",
    "    \n",
    "numbers = list(range(1,6))#输出1到5的列表\n",
    "print(numbers)\n",
    "\n",
    "even_numbers = list(range(2,11,2))#最后的2是“步长”，也就是说函数range()从2开始数，然后不断地加2，直到达到或超过终值（11）\n",
    "print(even_numbers)\n",
    "\n",
    "squares=[]#定义一个空列表\n",
    "for value in range(1,11):#从1到10每个数字分别循环，暂时储存在变量value中\n",
    "    squares.append(value**2)#两个**号的意思是次方\n",
    "print(squares)\n",
    "\n",
    "squares = [value**2 for value in range(1,11)]#简化版的for语句\n",
    "print(squares)"
   ]
  },
  {
   "cell_type": "code",
   "execution_count": 14,
   "id": "cf4b0f97",
   "metadata": {},
   "outputs": [
    {
     "name": "stdout",
     "output_type": "stream",
     "text": [
      "0\n",
      "9\n",
      "45\n"
     ]
    }
   ],
   "source": [
    "digits=[1, 2, 3, 4, 5, 6, 7, 8, 9, 0]\n",
    "print(min(digits))\n",
    "print(max(digits))\n",
    "c=sum(digits)\n",
    "print(c)"
   ]
  },
  {
   "cell_type": "code",
   "execution_count": 15,
   "id": "a38764ee",
   "metadata": {},
   "outputs": [
    {
     "name": "stdout",
     "output_type": "stream",
     "text": [
      "['charles', 'martina', 'michael']\n",
      "['martina', 'michael', 'florence']\n",
      "['charles', 'martina', 'michael', 'florence']\n",
      "['michael', 'florence', 'eli']\n",
      "['michael', 'florence', 'eli']\n"
     ]
    }
   ],
   "source": [
    "players = ['charles', 'martina', 'michael', 'florence', 'eli']\n",
    "print(players[0:3])#输出列表第1,2,3三个元素\n",
    "print(players[1:4])#输出列表第2,3,4三个元素\n",
    "print(players[:4])#不写左边的索引，默认直接从开头数\n",
    "print(players[2:])#不写右边的索引，默认直接从数到结尾\n",
    "print(players[-3:])#默认从倒数第三个直接数到末尾"
   ]
  },
  {
   "cell_type": "code",
   "execution_count": 16,
   "id": "762af27a",
   "metadata": {},
   "outputs": [
    {
     "name": "stdout",
     "output_type": "stream",
     "text": [
      "Here are the first three players on my team:\n",
      "Charles\n",
      "Martina\n",
      "Michael\n"
     ]
    }
   ],
   "source": [
    "players = ['charles', 'martina', 'michael', 'florence', 'eli']\n",
    "print(\"Here are the first three players on my team:\")\n",
    "for player in players[:3]:#通过for循环语句和切片操作，可以实现对数据的批量处理\n",
    "    print(player.title())"
   ]
  },
  {
   "cell_type": "code",
   "execution_count": 17,
   "id": "ada2dbd8",
   "metadata": {},
   "outputs": [
    {
     "name": "stdout",
     "output_type": "stream",
     "text": [
      "My favorite foods are:\n",
      "['pizza', 'falafel', 'carrot cake', 'cannoli']\n",
      "\n",
      "My friend's favorite foods are:\n",
      "['pizza', 'falafel', 'carrot cake', 'ice cream']\n"
     ]
    }
   ],
   "source": [
    "my_foods = ['pizza', 'falafel', 'carrot cake']\n",
    "friend_foods = my_foods[:]#复制列表的方法：通过不写两侧的索引，只留下冒号，对整个列表进行切片\n",
    "my_foods.append('cannoli')\n",
    "friend_foods.append('ice cream')\n",
    "print(\"My favorite foods are:\")\n",
    "print(my_foods)\n",
    "print(\"\\nMy friend's favorite foods are:\")\n",
    "print(friend_foods)"
   ]
  },
  {
   "cell_type": "code",
   "execution_count": 18,
   "id": "5c9912fc",
   "metadata": {},
   "outputs": [
    {
     "name": "stdout",
     "output_type": "stream",
     "text": [
      "50\n",
      "200\n",
      "50\n",
      "70\n",
      "90\n"
     ]
    }
   ],
   "source": [
    "dimensions = (200, 50,70,90)#访问元组的元素\n",
    "print(dimensions[1])\n",
    "\n",
    "dimensions = (200, 50,70,90)#使用for循环来遍历元组中的所有值\n",
    "for dimension in dimensions:\n",
    "    print(dimension)"
   ]
  },
  {
   "cell_type": "code",
   "execution_count": 19,
   "id": "5ea0b521",
   "metadata": {},
   "outputs": [
    {
     "name": "stdout",
     "output_type": "stream",
     "text": [
      "Audi\n",
      "BMW\n",
      "Subaru\n",
      "Toyota\n"
     ]
    }
   ],
   "source": [
    "#if-else语句\n",
    "cars = ['audi', 'bmw', 'subaru', 'toyota']\n",
    "for car in cars:\n",
    "    if car == 'bmw':#记得加冒号和下一行缩进，意思是在if的这个条件下，执行接下来的操作\n",
    "        print(car.upper())\n",
    "    else:\n",
    "        print(car.title())#代码缩进的层次，是程序展开的逻辑"
   ]
  },
  {
   "cell_type": "code",
   "execution_count": 20,
   "id": "cc950ac2",
   "metadata": {},
   "outputs": [
    {
     "name": "stdout",
     "output_type": "stream",
     "text": [
      "Your admission cost is $10.\n"
     ]
    }
   ],
   "source": [
    "#if-elif-else语句\n",
    "age =45 \n",
    "if age < 4:\n",
    "    price = 0#注意冒号后第二行的缩进\n",
    "elif age < 18:\n",
    "    price = 5\n",
    "elif age < 65:#第二个elif，语句可以增加许多个elif\n",
    "    price = 10\n",
    "else:\n",
    "    price = 5\n",
    "print(\"Your admission cost is $\" + str(price) + \".\")"
   ]
  },
  {
   "cell_type": "code",
   "execution_count": 21,
   "id": "3960863f",
   "metadata": {},
   "outputs": [
    {
     "name": "stdout",
     "output_type": "stream",
     "text": [
      "Adding mushrooms.\n",
      "Sorry, we don't have french fries.\n",
      "Adding extra cheese.\n",
      "\n",
      "Finished making your pizza!\n"
     ]
    }
   ],
   "source": [
    "available_toppings = ['mushrooms', 'olives', 'green peppers','pepperoni', 'pineapple', 'extra cheese']\n",
    "requested_toppings = ['mushrooms', 'french fries', 'extra cheese']\n",
    "for requested_topping in requested_toppings:#for循环语句里套if-else语句，在遍历列表的过程中进行条件判断，对列表进行处理\n",
    "    if requested_topping in available_toppings:\n",
    "        print(\"Adding \" + requested_topping + \".\")\n",
    "    else:\n",
    "        print(\"Sorry, we don't have \" + requested_topping + \".\")\n",
    "print(\"\\nFinished making your pizza!\")"
   ]
  },
  {
   "cell_type": "code",
   "execution_count": 22,
   "id": "2459ae0f",
   "metadata": {},
   "outputs": [
    {
     "name": "stdout",
     "output_type": "stream",
     "text": [
      "You just earned 5 points!\n"
     ]
    }
   ],
   "source": [
    "alien_0 = {'color': 'green', 'points': 5}#在Python中，字典用放在花括号{}中的一系列键——值对表示。\n",
    "new_points = alien_0['points']#字典后用方括号扩住键的名字就行（键的名字需要用引号引住）\n",
    "print(\"You just earned \" + str(new_points) + \" points!\")"
   ]
  },
  {
   "cell_type": "code",
   "execution_count": 23,
   "id": "b6a03905",
   "metadata": {},
   "outputs": [
    {
     "name": "stdout",
     "output_type": "stream",
     "text": [
      "{'color': 'green', 'points': 5}\n",
      "{'color': 'green', 'points': 5, 'x_position': 0, 'y_position': 25}\n"
     ]
    }
   ],
   "source": [
    "#在已有的字典中添加值\n",
    "alien_0 = {'color': 'green', 'points': 5}\n",
    "print(alien_0)\n",
    "alien_0['x_position'] = 0\n",
    "alien_0['y_position'] = 25\n",
    "print(alien_0)"
   ]
  },
  {
   "cell_type": "code",
   "execution_count": 24,
   "id": "90f6daaa",
   "metadata": {},
   "outputs": [
    {
     "name": "stdout",
     "output_type": "stream",
     "text": [
      "{'color': 'green', 'points': 5}\n"
     ]
    }
   ],
   "source": [
    "#若之前没有字典，需要新定义一个字典然后添加\n",
    "alien_0 = {}\n",
    "alien_0['color'] = 'green'\n",
    "alien_0['points'] = 5\n",
    "print(alien_0)"
   ]
  },
  {
   "cell_type": "code",
   "execution_count": 25,
   "id": "189f0706",
   "metadata": {},
   "outputs": [
    {
     "name": "stdout",
     "output_type": "stream",
     "text": [
      "The alien is green.\n",
      "The alien is now yellow.\n"
     ]
    }
   ],
   "source": [
    "#要修改字典中的值，可依次指定字典名、用方括号括起的键以及与该键相关联的新值\n",
    "alien_0 = {'color': 'green'}\n",
    "print(\"The alien is \" + alien_0['color'] + \".\")\n",
    "alien_0['color'] = 'yellow'#'yellow'作为字符串，要记得加引号\n",
    "#无论是访问、添加还是修改，都是字典名['键名']=值，区别是新的键就是添加，旧的键新的值就是修改\n",
    "print(\"The alien is now \" + alien_0['color'] + \".\")"
   ]
  },
  {
   "cell_type": "code",
   "execution_count": 26,
   "id": "be5b6255",
   "metadata": {},
   "outputs": [
    {
     "name": "stdout",
     "output_type": "stream",
     "text": [
      "{'jen': 'VB', 'sarah': 'c', 'edward': 'ruby', 'phil': 'python', 'mike': 'python', 'chen': 'VB'}\n",
      "\n",
      "\n",
      "Jen\n",
      "Sarah\n",
      "Edward\n",
      "Phil\n",
      "Mike\n",
      "Chen\n",
      "\n",
      "\n",
      "Chen, thank you for taking the poll.\n",
      "Edward, thank you for taking the poll.\n",
      "Jen, thank you for taking the poll.\n",
      "Mike, thank you for taking the poll.\n",
      "Phil, thank you for taking the poll.\n",
      "Sarah, thank you for taking the poll.\n",
      "\n",
      "\n",
      "Vb\n",
      "C\n",
      "Ruby\n",
      "Python\n",
      "Python\n",
      "Vb\n",
      "\n",
      "\n",
      "Vb\n",
      "C\n",
      "Python\n",
      "Ruby\n"
     ]
    }
   ],
   "source": [
    "favorite_languages={'jen': 'python','sarah': 'c','edward': 'ruby','phil': 'python','mike':'python','chen':'VB'}\n",
    "favorite_languages[\"jen\"]='VB'#注意字符串的元素要加引号\n",
    "print(favorite_languages)\n",
    "print('\\n')\n",
    "for name in favorite_languages.keys():#难点：“字典名.key()”的方法用来遍历字典中的键，不包括值\n",
    "    print(name.title())\n",
    "print('\\n')\n",
    "for name in sorted(favorite_languages.keys()):#难点：直接在字典名后加冒号，即去掉.key()，是遍历字典中的键的省略写法，要能看懂\n",
    "#sorted(字典名)：按首字母顺序遍历字典中的所有键\n",
    "    print(name.title() + \", thank you for taking the poll.\")\n",
    "print('\\n')\n",
    "for language in favorite_languages.values():#难点：“字典名.value()”的方法用于遍历字典中所有的值，不包括键\n",
    "    print(language.title())\n",
    "print('\\n')\n",
    "for language in set(favorite_languages.values()):#难点：为剔除重复项，可使用集合（set）。集合类似于列表，但每个元素都必须是独一无二的：\n",
    "    print(language.title())"
   ]
  },
  {
   "cell_type": "code",
   "execution_count": 27,
   "id": "c624803d",
   "metadata": {},
   "outputs": [
    {
     "name": "stdout",
     "output_type": "stream",
     "text": [
      "\n",
      "Key: username\n",
      "Value: efermi\n",
      "\n",
      "Key: first\n",
      "Value: enrico\n",
      "\n",
      "Key: last\n",
      "Value: fermi\n"
     ]
    }
   ],
   "source": [
    "user_0 = {'username': 'efermi','first': 'enrico','last': 'fermi',}\n",
    "for key, value in user_0.items():\n",
    "    #要编写用于遍历字典的for循环，可声明两个变量，用于存储键—值对中的键和值。对于这两个变量，可使用任何名称。\n",
    "#难点：item() 意思是：通过遍历字典中的键——值，将每次的遍历的单个键——值转化为元组储存在key,value的两个变量中\n",
    "    print(\"\\nKey: \" + key)\n",
    "    print(\"Value: \" + value)\n",
    "    #编写for循环时，对于用于存储列表中每个值的临时变量，可指定任何名称。\n",
    "    #冒号后注意缩进问题"
   ]
  },
  {
   "cell_type": "code",
   "execution_count": 28,
   "id": "d3ca01af",
   "metadata": {},
   "outputs": [
    {
     "name": "stdout",
     "output_type": "stream",
     "text": [
      "{'color': 'yellow', 'points': 10, 'speed': 'medium'}\n",
      "{'color': 'yellow', 'points': 10, 'speed': 'medium'}\n",
      "{'color': 'yellow', 'points': 10, 'speed': 'medium'}\n",
      "{'color': 'yellow', 'points': 10, 'speed': 'medium'}\n",
      "...\n"
     ]
    }
   ],
   "source": [
    "#嵌套\n",
    "aliens = []\n",
    "for alien_number in range (0,30):  #创建30个绿色的外星人\n",
    "    new_alien = {'color': 'green', 'points': 5, 'speed': 'slow'}\n",
    "    aliens.append(new_alien)#数30个数，每一次都创立一个new_alien字典，并附在列表aliens后\n",
    "for alien in aliens[0:4]:#遍历列表aliens前四个元素\n",
    "    if alien['color'] == 'green':#疑问？？？？为什么这里一定要有if,直接修改不行吗\n",
    "        alien['color'] = 'yellow'\n",
    "        alien['speed'] = 'medium'\n",
    "        alien['points'] = 10\n",
    "for alien in aliens[0:4]:\n",
    "    print(alien)\n",
    "print(\"...\")"
   ]
  },
  {
   "cell_type": "code",
   "execution_count": 29,
   "id": "cb01223f",
   "metadata": {},
   "outputs": [
    {
     "name": "stdout",
     "output_type": "stream",
     "text": [
      "\t蘑菇\n",
      "\t奶酪\n"
     ]
    }
   ],
   "source": [
    "# 存储所点比萨的信息\n",
    "pizza = {'厚度': '厚','配料s': ['蘑菇', '奶酪'],}\n",
    "#在字典中嵌套列表  \n",
    "#每当需要在字典中将一个键关联到多个值时，都可以在字典中嵌套一个列表\n",
    "for 配料 in pizza['配料s']:\n",
    "#pizza['配料s']的用法是，在字典后用方括号扩住键的名字就可以访问该键的值\n",
    "    print(\"\\t\" + 配料)"
   ]
  },
  {
   "cell_type": "code",
   "execution_count": 30,
   "id": "447cfedd",
   "metadata": {},
   "outputs": [
    {
     "name": "stdout",
     "output_type": "stream",
     "text": [
      "\n",
      "Username: mike\n",
      "\tFull name: Albert Eins\n",
      "\tLocation: London\n",
      "\n",
      "Username: john\n",
      "\tFull name: Marie Curie\n",
      "\tLocation: Paris\n"
     ]
    }
   ],
   "source": [
    "#在列表里嵌套列表，用户名的列表里，储存了两个用户名字的信息，信息里嵌套了姓名和位置\n",
    "users = {'mike': {'first': 'albert','last': 'eins','location': 'london',}, 'john': {'first': 'marie','last': 'curie','location': 'paris',},}\n",
    "\n",
    "for username, user_info in users.items():\n",
    "    print(\"\\nUsername: \" + username)\n",
    "    full_name = user_info['first'] + \" \" + user_info['last']\n",
    "    location = user_info['location']\n",
    "    print(\"\\tFull name: \" + full_name.title())\n",
    "    print(\"\\tLocation: \" + location.title())"
   ]
  },
  {
   "cell_type": "code",
   "execution_count": 31,
   "id": "41a3efd9",
   "metadata": {
    "scrolled": true
   },
   "outputs": [
    {
     "name": "stdin",
     "output_type": "stream",
     "text": [
      "If you tell us who you are, we can personalize the messages you see.\n",
      "What is your first name? 彭宏博\n"
     ]
    },
    {
     "name": "stdout",
     "output_type": "stream",
     "text": [
      "彭宏博\n",
      "恭喜您十发七七满命 !\n"
     ]
    }
   ],
   "source": [
    "#input()把输入的内容当作字符串处理\n",
    "prompt = \"If you tell us who you are, we can personalize the messages you see.\\nWhat is your first name?\"\n",
    "name = input(prompt)#可以将变量传递给input()，也可以直接在input里输入内容\n",
    "#输入后按回车键程序运行\n",
    "print(name +\"\\n恭喜您十发七七满命 \"+ \"!\")"
   ]
  },
  {
   "cell_type": "code",
   "execution_count": 32,
   "id": "4b2b56b7",
   "metadata": {},
   "outputs": [
    {
     "name": "stdin",
     "output_type": "stream",
     "text": [
      "How tall are you, in cm?  178\n"
     ]
    },
    {
     "name": "stdout",
     "output_type": "stream",
     "text": [
      "\n",
      "You're tall enough to ride!\n"
     ]
    }
   ],
   "source": [
    "#int()将input()的字符串内容转化为数字，但是不能独立使用，必须先用input()\n",
    "height = input(\"How tall are you, in cm? \")#输入后按回车键程序运行\n",
    "height = int(height)\n",
    "if height >= 160:\n",
    "    print(\"\\nYou're tall enough to ride!\")\n",
    "else:\n",
    "    print(\"\\nYou'll be able to ride when you're a little older.\")"
   ]
  },
  {
   "cell_type": "code",
   "execution_count": 33,
   "id": "bfce1097",
   "metadata": {
    "scrolled": true
   },
   "outputs": [
    {
     "name": "stdin",
     "output_type": "stream",
     "text": [
      "Enter a number, and I'll tell you if it's even or odd:  63\n"
     ]
    },
    {
     "name": "stdout",
     "output_type": "stream",
     "text": [
      "\n",
      "The number 63 is odd.\n"
     ]
    }
   ],
   "source": [
    "#求模运算符（%）是一个很有用的工具，它将两个数相除并返回余数\n",
    "number = input(\"Enter a number, and I'll tell you if it's even or odd: \")#even：偶数、odd:奇数\n",
    "number = int(number)#将字符串转化为数字\n",
    "if number % 2 == 0:#求模运算符(%),计算余数\n",
    "    print(\"\\nThe number \" + str(number) + \" is even.\")\n",
    "else:\n",
    "    print(\"\\nThe number \" + str(number) + \" is odd.\")"
   ]
  },
  {
   "cell_type": "code",
   "execution_count": 34,
   "id": "243c13ba",
   "metadata": {},
   "outputs": [
    {
     "name": "stdin",
     "output_type": "stream",
     "text": [
      " 36\n"
     ]
    },
    {
     "name": "stdout",
     "output_type": "stream",
     "text": [
      "36\n"
     ]
    },
    {
     "name": "stdin",
     "output_type": "stream",
     "text": [
      " q\n"
     ]
    },
    {
     "name": "stdout",
     "output_type": "stream",
     "text": [
      "q\n"
     ]
    },
    {
     "name": "stdin",
     "output_type": "stream",
     "text": [
      " quit\n"
     ]
    }
   ],
   "source": [
    "#可定义一个变量，用于判断整个程序是否处于活动状态。在while语句中就只需检查一个条件——标志的当前值是否为True，从而让程序变得更为整洁。\n",
    "active = True \n",
    "while active:\n",
    "    message = input()\n",
    "    if message == 'quit':\n",
    "        active = False\n",
    "    else:\n",
    "        print(message)"
   ]
  },
  {
   "cell_type": "code",
   "execution_count": 35,
   "id": "70643958",
   "metadata": {},
   "outputs": [
    {
     "name": "stdin",
     "output_type": "stream",
     "text": [
      " quit\n"
     ]
    }
   ],
   "source": [
    "#要立即退出while循环，不再运行循环中余下的代码，也不管条件测试的结果如何，可使用break语句。\n",
    "while True:\n",
    "    city = input()\n",
    "    if city == 'quit':\n",
    "        break\n",
    "    else:\n",
    "        print(\"I'd love to go to \" + city.title() + \"!\")"
   ]
  },
  {
   "cell_type": "code",
   "execution_count": 36,
   "id": "40a27f08",
   "metadata": {},
   "outputs": [
    {
     "name": "stdout",
     "output_type": "stream",
     "text": [
      "1\n",
      "3\n",
      "5\n",
      "7\n",
      "9\n"
     ]
    }
   ],
   "source": [
    "current_number = 0\n",
    "while current_number < 10:\n",
    "    current_number += 1\n",
    "    if current_number % 2 == 0:\n",
    "        continue #要返回到循环开头，并根据条件测试结果决定是否继续执行循环，可使用continue语句\n",
    "    print(current_number)"
   ]
  },
  {
   "cell_type": "code",
   "execution_count": null,
   "id": "38ef7c77",
   "metadata": {},
   "outputs": [
    {
     "name": "stdin",
     "output_type": "stream",
     "text": [
      "\n",
      "What is your name?  zhangxiaoyang\n",
      "Which mountain would you like to climb someday?  wugognshan\n"
     ]
    }
   ],
   "source": [
    "responses = {}#定义一个空字典\n",
    "polling_active = True #while循环中定义一个标志\n",
    "while polling_active:\n",
    "    name = input(\"\\nWhat is your name? \")\n",
    "    response = input(\"Which mountain would you like to climb someday? \")\n",
    "    responses[name] = response #responses字典中，在name的键中，匹配response值，形成一个键值对储存在responses的字典中\n",
    "    repeat = input(\"Would you like to let another person respond? (yes/ no) \")\n",
    "    if repeat == 'no':\n",
    "        polling_active = False #回答no时，标志为false，程序终止运行\n",
    "    print(\"\\n--- Poll Results ---\")\n",
    "for name, response in responses.items():\n",
    "    print(name + \" would like to climb \" + response + \".\")"
   ]
  },
  {
   "cell_type": "code",
   "execution_count": null,
   "id": "949b0bad",
   "metadata": {},
   "outputs": [],
   "source": [
    "pets = ['dog', 'cat', 'dog', 'goldfish', 'cat', 'rabbit', 'cat']\n",
    "print(pets)\n",
    "while 'cat' in pets:\n",
    "    pets.remove('cat')#只有去除掉了所有的cat,程序才会停止\n",
    "print(pets)"
   ]
  },
  {
   "cell_type": "code",
   "execution_count": null,
   "id": "e55bcafe",
   "metadata": {},
   "outputs": [],
   "source": [
    "unconfirmed_users = ['alice', 'brian', 'candace']\n",
    "confirmed_users = []\n",
    "while unconfirmed_users:#针对while后的东西操作\n",
    "    current_user = unconfirmed_users.pop()#弹出\n",
    "    print(\"Verifying user: \" + current_user.title())\n",
    "    confirmed_users.append(current_user)\n",
    "print(\"\\nThe following users have been confirmed:\")\n",
    "for confirmed_user in confirmed_users:\n",
    "    print(confirmed_user.title())"
   ]
  },
  {
   "cell_type": "code",
   "execution_count": null,
   "id": "aff7f151",
   "metadata": {},
   "outputs": [],
   "source": [
    "#定义函数的方法：def +函数名（形参）\n",
    "def get_formatted_name(first_name, last_name, middle_name=''):#注意冒号缩进\n",
    "#middle_name=''是默认“空值”值的形参\n",
    "#使用默认值时，在形参列表中必须先列出没有默认值的形参，再列出有默认值的实参。这让Python依然能够正确地解读位置实参\n",
    "#如果给默认值形参提供了新的实参，那么Python将忽略这个形参的默认值\n",
    "    \"\"\"返回整洁的姓名\"\"\"#前后三个引号扩住的是对定义的函数的解释\n",
    "    if middle_name:#if语句判断true or false 这里可能省略了，意思是如果有中间的名字\n",
    "        full_name = first_name + ' ' + middle_name + ' ' + last_name\n",
    "    else:\n",
    "        full_name = first_name + ' ' + last_name\n",
    "    return full_name.title()#调用返回值的函数时，需要提供一个变量，用于存储返回的值。在这里，将返回值存储在了变量musician中\n",
    "musician = get_formatted_name('jimi', 'hendrix')\n",
    "print(musician)\n",
    "musician = get_formatted_name('john', 'hooker', 'lee')\n",
    "print(musician)"
   ]
  },
  {
   "cell_type": "code",
   "execution_count": null,
   "id": "df0a9499",
   "metadata": {
    "scrolled": true
   },
   "outputs": [],
   "source": [
    "def build_person(first_name, last_name, age=''):#age为可选参，为空值参\n",
    "    \"\"\"返回一个字典，其中包含有关一个人的信息\"\"\"\n",
    "    person = {'first': first_name, 'last': last_name}\n",
    "    if age:#如果age在其中\n",
    "        person['age'] = age#在字典中添加键值对\n",
    "    return person#调用返回值的函数时，需要提供一个变量，用于存储返回的值。在这里，将返回值存储在了变量musician中\n",
    "musician = build_person('jimi', 'hendrix', age=27)\n",
    "print(musician)"
   ]
  },
  {
   "cell_type": "code",
   "execution_count": null,
   "id": "e064ccfa",
   "metadata": {},
   "outputs": [],
   "source": [
    "#这个代码与下面的代码功能相同\n",
    "def build_person(first_name, last_name, age=''):\n",
    "    \"\"\"返回一个字典，其中包含有关一个人的信息\"\"\"\n",
    "    person = {'first': first_name, 'last': last_name}\n",
    "    if age:\n",
    "        person['age'] = age\n",
    "    return person\n",
    "musician = build_person('jimi', 'hendrix', age=27)\n",
    "print(musician)"
   ]
  },
  {
   "cell_type": "code",
   "execution_count": null,
   "id": "f3bed8bb",
   "metadata": {},
   "outputs": [],
   "source": [
    "#这段代码与上面代码功能相同\n",
    "#差别在于return方法可以回到函数的定义行，并且之后要将获得的值存下来，这样的话\n",
    "def build_person(first_name, last_name, age=''):\n",
    "    \"\"\"返回一个字典，其中包含有关一个人的信息\"\"\"\n",
    "    person = {'first': first_name, 'last': last_name}\n",
    "    if age:\n",
    "        person['age'] = age\n",
    "    print(person)\n",
    "build_person('jimi', 'hendrix', age=27)"
   ]
  },
  {
   "cell_type": "code",
   "execution_count": null,
   "id": "bc71cebe",
   "metadata": {},
   "outputs": [],
   "source": [
    "# 向函数传递列表很有用，这种列表包含的可能是名字、数字或更复杂的对象（如字典）。\n",
    "#假设有一个用户列表，我们要问候其中的每位用户。下面的示例将一个名字列表传递给一个名为greet_users()的函数，这个函数问候列表中的每个人\n",
    "def greet_users(names):#我们将greet_users()定义成接受一个名字列表，并将其存储在形参names中。\n",
    "    \"\"\"向列表中的每位用户都发出简单的问候\"\"\"\n",
    "    for name in names:#这个函数遍历收到的列表，并对其中的每位用户都打印一条问候语\n",
    "        msg = \"Hello, \" + name.title() + \"!\"\n",
    "        print(msg)#注意缩进\n",
    "usernames = ['hannah', 'ty', 'margot']\n",
    "greet_users(usernames)#usernames是实参，names是形参，形参只是表示位置，实参才是和形参对应的那个真正传递进去的列表"
   ]
  },
  {
   "cell_type": "code",
   "execution_count": null,
   "id": "d425ac60",
   "metadata": {},
   "outputs": [],
   "source": [
    "#以下代码是一个修改列表的代码，在下一段代码中会利用函数优化\n",
    "unprinted_designs = ['iphone case', 'robot pendant', 'dodecahedron']# 首先创建一个列表，其中包含一些要打印的设计\n",
    "completed_models = []\n",
    "while unprinted_designs:# 模拟打印每个设计，直到没有未打印的设计为止\n",
    "    current_design = unprinted_designs.pop()\n",
    "    print(\"Printing model: \" + current_design)\n",
    "    completed_models.append(current_design)# 打印每个设计后，都将其移到列表completed_models中\n",
    "print(\"\\nThe following models have been printed:\")# 显示打印好的所有模型\n",
    "for completed_model in completed_models:\n",
    "    print(completed_model)"
   ]
  },
  {
   "cell_type": "code",
   "execution_count": null,
   "id": "9cd2c626",
   "metadata": {
    "scrolled": true
   },
   "outputs": [],
   "source": [
    "#本段代码是对上一段代码的函数优化（日后更容易拓展和维护）\n",
    "#为重新组织这些代码，我们可编写两个函数，每个都做一件具体的工作。大部分代码都与原来相同，只是效率更高。\n",
    "#第一个函数将负责处理打印设计的工作，而第二个将概述打印了哪些设计\n",
    "\n",
    "def print_models(unprinted_designs, completed_models):#实际中可以切片操作unprinted_designs[:]，原来的数据不会丢失\n",
    "    \"\"\"模拟打印每个设计，直到没有未打印的设计为止，打印每个设计后，都将其移到列表completed_models中\"\"\"\n",
    "    while unprinted_designs:\n",
    "        current_design = unprinted_designs.pop()\n",
    "        print(\"Printing model: \" + current_design)\n",
    "        completed_models.append(current_design)\n",
    "#在上面，我们定义了函数print_models()，它包含两个形参：一个需要打印的设计列表和一个打印好的模型列表。\n",
    "#给定这两个列表，这个函数模拟打印每个设计的过程：将设计逐个地从未打印的设计列表中取出， 并加入到打印好的模型列表中。\n",
    "\n",
    "def show_completed_models(completed_models):\n",
    "    \"\"\"显示打印好的所有模型\"\"\"\n",
    "    print(\"\\nThe following models have been printed:\")\n",
    "    for completed_model in completed_models:\n",
    "        print(completed_model)\n",
    "#在上面，我们定义了函数show_completed_models() ，它包含一个形参：打印好的模型列表。\n",
    "#给定这个列表，函数show_completed_models()显示打印出来的每个模型的名称。\n",
    "        \n",
    "unprinted_designs = ['iphone case', 'robot pendant', 'dodecahedron']#第一个函数的实参\n",
    "completed_models = []\n",
    "print_models(unprinted_designs, completed_models)\n",
    "show_completed_models(completed_models)"
   ]
  },
  {
   "cell_type": "markdown",
   "id": "cee7f2af",
   "metadata": {},
   "source": [
    "相比于没有使用函数的版本，这个程序更容易扩展和维护。如果以后需要打印其他设计，只需再次调用print_models()即可。只需修改这些代码一次，就能影响所有调用该函数的地方；与必须分别修改程序的多个地方相比，这种修改的效率更高。集成化的思维：这个程序还演示了这样一种理念，即每个函数都应只负责一项具体的工作。第一个函数打印每个设计，而第二个显示打印好的模型；这优于使用一个函数来完成两项工作。编写函数时，如果你发现它执行的任务太多，请尝试将这些代码划分到两个函数中。别忘了，总是可以在一个函数中调用另一个函数，这有助于将复杂的任务划分成一系列的步骤。"
   ]
  },
  {
   "cell_type": "markdown",
   "id": "51495271",
   "metadata": {},
   "source": [
    "#禁止函数修改列表\n",
    "\n",
    "切片表示法[:]创建列表的副本。在print_models.py中，如果不想清空未打印的设计列表，可像下面这样调用print_models()：\n",
    "print_models(unprinted_designs[:], completed_models)\n",
    "\n",
    "这样函数print_models()依然能够完成其工作，因为它获得了所有未打印的设计的名称，但它使用的是列表unprinted_designs的副本，而不是列表unprinted_designs本身。像以前一样，列表completed_models也将包含打印好的模型的名称，但函数所做的修改不会影响到列表unprinted_designs。虽然向函数传递列表的副本可保留原始列表的内容，但除非有充分的理由需要传递副本，否则还是应该将原始列表传递给函数，因为让函数使用现成列表可避免花时间和内存创建副本，从而提高效率，在处理大型列表时尤其如此。"
   ]
  },
  {
   "cell_type": "markdown",
   "id": "5eca4777",
   "metadata": {},
   "source": [
    "形参名*toppings中的星号让Python创建一个名为toppings的空元组，并将收到的所有值都封装到这个元组中\n",
    "形参**user_info中的两个星号让Python创建一个名为user_info的空字典，并将收到的所有名称—值对都封装到这个字典中"
   ]
  },
  {
   "cell_type": "code",
   "execution_count": null,
   "id": "ab3ed188",
   "metadata": {
    "scrolled": true
   },
   "outputs": [],
   "source": [
    "#传递任意数量的实参\n",
    "def make_pizza(size, *toppings):#形参名*toppings中的星号让Python创建一个名为toppings的空元组，并将收到的所有值都封装到这个元组中。\n",
    "    \"\"\"概述要制作的比萨\"\"\"\n",
    "    print(\"\\nMaking a \" + str(size) +\"-inch pizza with the following toppings:\")\n",
    "    for topping in toppings:\n",
    "        print(\"- \" + topping)\n",
    "make_pizza(16, 'pepperoni')\n",
    "make_pizza(12, 'mushrooms', 'green peppers', 'extra cheese')"
   ]
  },
  {
   "cell_type": "code",
   "execution_count": null,
   "id": "49105ae9",
   "metadata": {},
   "outputs": [],
   "source": [
    "def build_profile(first, last, **user_info):\n",
    "#形参**user_info中的两个星号让Python创建一个名为user_info的空字典，并将收到的所有名称—值对都封装到这个字典中\n",
    "    \"\"\"创建一个字典，其中包含我们知道的有关用户的一切\"\"\"\n",
    "    profile = {}\n",
    "    profile['first_name'] = first\n",
    "    profile['last_name'] = last\n",
    "    for key, value in user_info.items():\n",
    "        profile[key] = value\n",
    "    return profile\n",
    "user_profile = build_profile('albert', 'einstein',location='princeton',field='physics')\n",
    "print(user_profile)"
   ]
  },
  {
   "cell_type": "markdown",
   "id": "9d55a7bf",
   "metadata": {},
   "source": [
    "#将函数存储在模块中。只需编写一条import语句并在其中指定模块名，就可在程序中使用该模块中的所有函数。"
   ]
  },
  {
   "cell_type": "code",
   "execution_count": null,
   "id": "5e6e9b65",
   "metadata": {},
   "outputs": [],
   "source": [
    "#类中的函数称为方法\n",
    "class Dog():#类的首字母是大写\n",
    "    \"\"\"一次模拟小狗的简单尝试\"\"\"\n",
    "#_init_()是一个方法，，每当根据Dog类创建新实例时，Python都会自动运行它。\n",
    "#在这个方法的名称中，开头和末尾各有两个下划线，这是一种约定，旨在避免Python默认方法与普通方法发生名称冲突。\n",
    "    def __init__(self, name, age):#，形参self必不可少，还必须位于其他形参的前面，可以理解为是一种标记、关联、链接的作用。\n",
    "        \"\"\"初始化属性name和age\"\"\"\n",
    "        self.name = name #这句代码是在获取存储在形参name中的值，并将其存储到变量name中，然后该变量被关联到当前创建的实例\n",
    "        self.age = age\n",
    "    def sit(self):#此方法不需要额外的信息，如名字或年龄，因此它们只有一个形参self\n",
    "        \"\"\"模拟小狗被命令时蹲下\"\"\"\n",
    "        print(self.name.title() + \" is now sitting.\")\n",
    "    def roll_over(self):\n",
    "        \"\"\"模拟小狗被命令时打滚\"\"\"\n",
    "        print(self.name.title() + \" rolled over!\")\n",
    "        \n",
    "my_dog = Dog('willie', 6)\n",
    "print(\"My dog's name is \" + my_dog.name.title() + \".\")\n",
    "print(\"My dog is \" + str(my_dog.age) + \" years old.\")\n",
    "#根据Dog类创建实例后，就可以使用句点表示法来调用Dog类中定义的任何方法，可指定实例的名称（这里是my_dog）和要调用的方法，并用句点分隔它们。\n",
    "my_dog.sit()\n",
    "my_dog.roll_over()"
   ]
  },
  {
   "cell_type": "code",
   "execution_count": null,
   "id": "0f98ba0c",
   "metadata": {},
   "outputs": [],
   "source": [
    "my_dog = Dog('willie', 6)\n",
    "your_dog = Dog('lucy', 3)#可按需求根据类创建任意数量的实例\n",
    "print(\"My dog's name is \" + my_dog.name.title() + \".\")\n",
    "print(\"My dog is \" + str(my_dog.age) + \" years old.\")\n",
    "my_dog.sit()\n",
    "print(\"\\nYour dog's name is \" + your_dog.name.title() + \".\")\n",
    "print(\"Your dog is \" + str(your_dog.age) + \" years old.\")\n",
    "your_dog.sit()"
   ]
  },
  {
   "cell_type": "code",
   "execution_count": null,
   "id": "9ad01d11",
   "metadata": {},
   "outputs": [],
   "source": [
    "class Car():#创建Car类\n",
    "    \"\"\"一次模拟汽车的简单尝试\"\"\"\n",
    "    def __init__(self, make, model, year,odometer_reading):#__init__方法，第一个形参必须是self\n",
    "        \"\"\"初始化描述汽车的属性\"\"\"\n",
    "        self.make = make#把抽象化的形参用self来具体化到将要提出的实例里\n",
    "        self.model = model\n",
    "        self.year = year\n",
    "        self.odometer_reading = odometer_reading\n",
    "        #如果上面__init__方法中没有形参odometer_reading，这里也可以直接self.odometer_reading=0，这样是通过赋值的方法给予odometer_reading值\n",
    "        #my_new_car.odometer_reading = 23  这句代码可以直接在之后实现修改\n",
    "    def get_descriptive_name(self):#此方法不需要额外的信息，因此只有一个形参self\n",
    "        \"\"\"返回整洁的描述性信息\"\"\"\n",
    "        long_name = str(self.year) + ' ' + self.make + ' ' + self.model+' '+ str(self.odometer_reading)\n",
    "        return long_name.title()\n",
    "    def update_odometer(self, mileage):#在类中定义方法，都要有个self的形参，如果需要让这个方法显示什么值，那就在后边加上其他形参\n",
    "        \"\"\"将里程表读数设置为指定的值\"\"\"\n",
    "        self.odometer_reading = mileage#这个形参“赋予”了一个记录它的变量，前边同样需要加上self的前缀\n",
    "        \"\"\"禁止将里程表读数往回调\"\"\"\n",
    "        if mileage >= self.odometer_reading:\n",
    "            self.odometer_reading = mileage\n",
    "        else:\n",
    "            print(\"You can't roll back an odometer!\")\n",
    "    def read_odometer(self):#注意，每一个类下的方法中，都必须有形参self\n",
    "        print(self.odometer_reading)\n",
    "my_new_car = Car('audi', 'a4', 2016,1000)\n",
    "#每次Car这个类一运行，__init__这个方法就会自动地将实参赋予类中的形参，让类创建一个具体化的实例，即变量my_new_car\n",
    "print(my_new_car.get_descriptive_name())\n",
    "\n",
    "my_new_car.update_odometer(6300)\n",
    "my_new_car.read_odometer()\n",
    "print(my_new_car.get_descriptive_name())#update_odometer的方法已经将mileage的值传给了odometer_reading，所以6300更新了传递给Car的实参\n",
    "\n",
    "my_new_car.update_odometer(500)\n",
    "my_new_car.read_odometer()\n",
    "print(my_new_car.get_descriptive_name())#?并未实现显示禁止回调的功能？"
   ]
  },
  {
   "cell_type": "code",
   "execution_count": null,
   "id": "743f24a6",
   "metadata": {},
   "outputs": [],
   "source": [
    "class Car():#创建Car类\n",
    "    \"\"\"一次模拟汽车的简单尝试\"\"\"\n",
    "    \n",
    "    def __init__(self, make, model, year,odometer_reading):\n",
    "        \"\"\"初始化描述汽车的属性\"\"\"\n",
    "        self.make = make\n",
    "        self.model = model\n",
    "        self.year = year\n",
    "        self.odometer_reading = odometer_reading\n",
    "      \n",
    "    def get_descriptive_name(self):\n",
    "        \"\"\"返回整洁的描述性信息\"\"\"\n",
    "        long_name = str(self.year) + ' ' + self.make + ' ' + self.model+' '+ str(self.odometer_reading)\n",
    "        return long_name.title()\n",
    "    \n",
    "    def update_odometer(self, mileage):\n",
    "        \"\"\"将里程表读数设置为指定的值\"\"\"\n",
    "        self.odometer_reading = mileage\n",
    "        \"\"\"禁止将里程表读数往回调\"\"\"\n",
    "        if mileage >= self.odometer_reading:\n",
    "            self.odometer_reading = mileage\n",
    "        else:\n",
    "            print(\"You can't roll back an odometer!\")\n",
    "            \n",
    "my_new_car = Car('audi', 'a4', 2016,1000)\n",
    "print(my_new_car.get_descriptive_name())\n",
    "\n",
    "my_new_car.update_odometer(500)\n",
    "print(my_new_car.get_descriptive_name())"
   ]
  },
  {
   "cell_type": "markdown",
   "id": "beea832b",
   "metadata": {},
   "source": [
    "编写类时，并非总是要从空白开始。如果你要编写的类是另一个现成类的特殊版本，可使用继承。一个类继承另一个类时，它将自动获得另一个类的所有属性和方法；原有的类称为父类，而新类称为子类。子类继承了其父类的所有属性和方法，同时还可以定义自己的属性和方法。\n",
    "\n",
    "父类也称为超类（superclass），名称super因此而得名。创建子类时，父类必须包含在当前文件中，且位于子类前面。\n",
    "\n",
    "继承父类的逻辑：第一步，先在父类的方法下定义子类的方法，再用super()方法继承父类"
   ]
  },
  {
   "cell_type": "code",
   "execution_count": null,
   "id": "0d543389",
   "metadata": {},
   "outputs": [],
   "source": [
    "class Car():\n",
    "    \"\"\"一次模拟汽车的简单尝试\"\"\"\n",
    "    def __init__(self, make, model, year):\n",
    "        self.make = make\n",
    "        self.model = model\n",
    "        self.year = year\n",
    "        self.odometer_reading = 0\n",
    "    def get_descriptive_name(self):\n",
    "        long_name = str(self.year) + ' ' + self.make + ' ' + self.model\n",
    "        return long_name.title()\n",
    "    def read_odometer(self):\n",
    "        print(\"This car has \" + str(self.odometer_reading) + \" miles on it.\")\n",
    "    def update_odometer(self, mileage):\n",
    "        if mileage >= self.odometer_reading:\n",
    "            self.odometer_reading = mileage\n",
    "        else:\n",
    "            print(\"You can't roll back an odometer!\")\n",
    "    def increment_odometer(self, miles):\n",
    "        self.odometer_reading += miles\n",
    "    \n",
    "class ElectricCar(Car):#定义子类时，必须在括号内指定父类的名称\n",
    "    \"\"\"电动汽车的独特之处\"\"\"\n",
    "    def __init__(self, make, model, year,battery_size):#先定义ElectricCar这个类，还是__init__方法后加上self和其他形参\n",
    "        \"\"\"初始化父类的属性\"\"\"\n",
    "        self.battery_size = battery_size\n",
    "        super().__init__(make, model, year)#继承父类的类时不用self形参\n",
    "        #super()是一个特殊函数，帮助Python将父类和子类关联起来 #调用ElectricCar父类的方法__init__()，让ElectricCar实例包含父类的所有属性\n",
    "    def describe_battery(self):\n",
    "        \"\"\"打印一条描述电瓶容量的消息\"\"\"\n",
    "        print(\"This car has a \" + str(self.battery_size) + \"-kWh battery.\")\n",
    "    def update_odometer(self):#重写父类的方法，直接重新定义父类中的方法就好了\n",
    "        \"\"\"改写父类的方法\"\"\"\n",
    "        print(\"电动汽车是全新的\")\n",
    "my_tesla = ElectricCar('tesla', 'model s', 2016,90)\n",
    "print(my_tesla.get_descriptive_name())\n",
    "my_tesla.describe_battery()\n",
    "my_tesla.update_odometer()"
   ]
  },
  {
   "cell_type": "markdown",
   "id": "4166dbd7",
   "metadata": {},
   "source": [
    "类既可以继承，重写。也可以将一个类拆分成不同的小类，这样方便日后维护和添加信息。\n",
    "使用代码模拟实物时，你可能会发现自己给类添加的细节越来越多：属性和方法清单以及文件都越来越长。在这种情况下，可能需要将类的一部分作为一个独立的类提取出来。你可以将大型类拆分成多个协同工作的小类。"
   ]
  },
  {
   "cell_type": "code",
   "execution_count": null,
   "id": "83deb452",
   "metadata": {},
   "outputs": [],
   "source": [
    "class Car():\n",
    "    \"\"\"一次模拟汽车的简单尝试\"\"\"\n",
    "    def __init__(self, make, model, year):\n",
    "        self.make = make\n",
    "        self.model = model\n",
    "        self.year = year\n",
    "        self.odometer_reading = 0\n",
    "    def get_descriptive_name(self):\n",
    "        long_name = str(self.year) + ' ' + self.make + ' ' + self.model\n",
    "        return long_name.title()\n",
    "    def read_odometer(self):\n",
    "        print(\"This car has \" + str(self.odometer_reading) + \" miles on it.\")\n",
    "    def update_odometer(self, mileage):\n",
    "        if mileage >= self.odometer_reading:\n",
    "            self.odometer_reading = mileage\n",
    "        else:\n",
    "            print(\"You can't roll back an odometer!\")\n",
    "    def increment_odometer(self, miles):\n",
    "        self.odometer_reading += miles\n",
    "        \n",
    "class Battery():#将Battery单独建立一个类\n",
    "    \"\"\"一次模拟电动汽车电瓶的简单尝试\"\"\"\n",
    "    def __init__(self, battery_size=70):#默认值为70\n",
    "        \"\"\"初始化电瓶的属性\"\"\"\n",
    "        self.battery_size = battery_size\n",
    "    def describe_battery(self):\n",
    "        \"\"\"打印一条描述电瓶容量的消息\"\"\"\n",
    "        print(\"This car has a \" + str(self.battery_size) + \"-kWh battery.\")  \n",
    "    def get_range(self):\n",
    "        \"\"\"打印一条消息，指出电瓶的续航里程\"\"\"\n",
    "        if self.battery_size == 70:\n",
    "            range = 240\n",
    "        elif self.battery_size == 85:\n",
    "            range = 270\n",
    "        message = \"This car can go approximately \" + str(range)\n",
    "        message += \" miles on a full charge.\"\n",
    "        print(message)\n",
    "        \n",
    "class ElectricCar(Car):\n",
    "    \"\"\"电动汽车的独特之处\"\"\"\n",
    "    def __init__(self, make,model,year):\n",
    "        \"\"\"初始化父类的属性\"\"\"\n",
    "        super().__init__(make,model,year)\n",
    "        self.battery = Battery()#这行代码实现了在Car父类下的子类ElectricCar中，将Battery类中创建的实例放在这里，储存为变量self.battery\n",
    "        #在ElectricCar类中，我们添加了一个名为self.battery的属性。这行代码让Python创建一个新的Battery实例\n",
    "        #（由于没有指定尺寸，因此为默认值70）\n",
    "        \n",
    "my_tesla = ElectricCar('tesla', 'model s', 2016)\n",
    "print(my_tesla.get_descriptive_name())\n",
    "\n",
    "my_tesla.battery.describe_battery()#写法：实例.Battery类.Battery类中的describe_battery()方法\n",
    "my_tesla.battery.get_range()#与上行写法类似"
   ]
  },
  {
   "cell_type": "code",
   "execution_count": null,
   "id": "7b052022",
   "metadata": {},
   "outputs": [],
   "source": [
    "from collections import OrderedDict#从模块collections中导入OrderedDict类\n",
    "#OrderedDict是一个很不错的类，它兼具列表和字典的主要优点（在将信息关联起来的同时保留原来的顺序）\n",
    "favorite_languages = OrderedDict()#在类下创建实例并储存在变量中\n",
    "#我们创建了OrderedDict类的一个实例，并将其存储到favorite_languages中（特别重要）\n",
    "#请注意，这里没有使用花括号，而是调用OrderedDict()来创建一个空的有序字典，并将其存储在favorite_languages中\n",
    "favorite_languages['jen'] = 'python'#以每次一对的方式添加名字—语言对\n",
    "favorite_languages['sarah'] = 'c'\n",
    "favorite_languages['edward'] = 'ruby'\n",
    "favorite_languages['phil'] = 'python'\n",
    "for name, language in favorite_languages.items():#遍历favorite_languages\n",
    "    print(name.title() + \"'s favorite language is \" +language.title() + \".\")"
   ]
  },
  {
   "cell_type": "markdown",
   "id": "1ff11056",
   "metadata": {},
   "source": [
    "Python标准库：https://pymotw.com/3/"
   ]
  },
  {
   "cell_type": "markdown",
   "id": "a078efb3",
   "metadata": {},
   "source": [
    "你必须熟悉有些与类相关的编码风格问题，在你编写的程序较复杂时尤其如此。类名应采用驼峰命名法，即将类名中的每个单词的首字母都大写，而不使用下划线。实例名和模块名都采用小写格式，并在单词之间加上下划线。对于每个类，都应紧跟在类定义后面包含一个文档字符串。这种文档字符串简要地描述类的\n",
    "功能，并遵循编写函数的文档字符串时采用的格式约定。每个模块也都应包含一个文档字符串，对其中的类可用于做什么进行描述。\n",
    "\n",
    "可使用空行来组织代码，但不要滥用。在类中，可使用一个空行来分隔方法；而在模块中，可使用两个空行来分隔类。需要同时导入标准库中的模块和你编写的模块时，先编写导入标准库模块的import语句，再添加一个空行，然后编写导入你自己编写的模块的import语句。在包含多条import语句的程序中，这种做法让人更容易明白程序使用的各个模块都来自何方。"
   ]
  },
  {
   "cell_type": "raw",
   "id": "70991930",
   "metadata": {},
   "source": [
    "with open('D:\\计算传播学作业\\cfps2018person_202012.txt) as file_object:#文件路径\n",
    "    contents = file_object.read()#read读取文件\n",
    "    print(contents)\n",
    "#readlines() 按行读取"
   ]
  },
  {
   "cell_type": "markdown",
   "id": "82abd997",
   "metadata": {},
   "source": [
    "读取文本文件时，Python将其中的所有文本都解读为字符串。如果你读取的是数字，并要将其作为数值使用，就必须使用函数int()将其转换为整数，或使用函数float()将其转换为浮点数。"
   ]
  },
  {
   "cell_type": "raw",
   "id": "bdbc876b",
   "metadata": {},
   "source": [
    "Python只能将字符串写入文本文件。要将数值数据存储到文本文件中，必须先使用函数str()将其转换为字符串格式。\n",
    "filename = 'programming.txt'\n",
    " with open(filename, 'w') as file_object:#可指定读取模式（'r'）、写入模式（'w'）、附加模式（'a'）或让你能够读取和写入文件的模式（'r+'）\n",
    " file_object.write(\"I love programming.\")"
   ]
  },
  {
   "cell_type": "markdown",
   "id": "97ebb85a",
   "metadata": {},
   "source": [
    "try-except代码块让Python执行指定的操作，同时告诉Python发生异常时怎么办。使用了try-except代码块时，即便出现异常，程序也将继续运行"
   ]
  },
  {
   "cell_type": "code",
   "execution_count": null,
   "id": "61fb1d14",
   "metadata": {},
   "outputs": [],
   "source": [
    "#try-except的使用，可以让代码错误时给出提示，而且不影响后续一系列代码的运行\n",
    "try:\n",
    "    print(5/0)\n",
    "except ZeroDivisionError:\n",
    "    print(\"You can't divide by zero!\")"
   ]
  },
  {
   "cell_type": "code",
   "execution_count": null,
   "id": "6f59ddcd",
   "metadata": {},
   "outputs": [],
   "source": [
    "filename = 'alice.txt'\n",
    "try:\n",
    "    with open(filename) as f_obj:\n",
    "        contents = f_obj.read()\n",
    "except FileNotFoundError:\n",
    "    msg = \"Sorry, the file \" + filename + \" does not exist.\"\n",
    "print(msg)"
   ]
  },
  {
   "cell_type": "code",
   "execution_count": null,
   "id": "a35cdf5c",
   "metadata": {},
   "outputs": [],
   "source": [
    "import json #导入json模块\n",
    "numbers = [2, 3, 5, 7, 11, 13]\n",
    "filename = 'numbers.json'#指定了要将该数字列表存储到其中的文件的名称 #文件扩展名.json来指出文件存储的数据为JSON格式\n",
    "with open(filename, 'w') as f_obj:\n",
    "    json.dump(numbers, f_obj) #使用函数json.dump()将数字列表存储到文件numbers.json中\n",
    "\n",
    "filename = 'numbers.json'\n",
    "with open(filename) as f_obj:\n",
    "    numbers = json.load(f_obj)#加载存储在numbers.json中的信息\n",
    "print(numbers)"
   ]
  },
  {
   "cell_type": "code",
   "execution_count": null,
   "id": "e48b14e5",
   "metadata": {},
   "outputs": [],
   "source": [
    "import json\n",
    "username = input(\"What is your name? \")\n",
    "filename = 'username.json'\n",
    "with open(filename, 'w') as f_obj:\n",
    "    json.dump(username, f_obj)\n",
    "    print(\"We'll remember you when you come back, \" + username + \"!\")\n",
    "\n",
    "filename = 'username.json'\n",
    "with open(filename) as f_obj:\n",
    "    username = json.load(f_obj)\n",
    "    print('\\n'+\"Welcome back, \" + username + \"!\")"
   ]
  },
  {
   "cell_type": "code",
   "execution_count": null,
   "id": "3bb6dea1",
   "metadata": {},
   "outputs": [],
   "source": [
    "#下面采用的是集成化的思想在写代码，用不同的函数处理不同的问题。注意培养这种模块化的思维。\n",
    "#第一个函数是获取已经储存的用户名，如果找不到文件，就返回“找不到文件”，如果找得到，就返回用户名\n",
    "#第二个函数是在提示用户输入新的用户名，并且将写入的数据生成Json格式的文件，最后再返回用户名\n",
    "#第三个函数是问候用户，如果有名字，执行第一个函数；如果没名字，执行第二个函数。\n",
    "\n",
    "import json\n",
    "\n",
    "def get_stored_username():\n",
    "    \"\"\"如果存储了用户名，就获取它\"\"\"\n",
    "    filename = 'username.json'\n",
    "    try:\n",
    "        with open(filename) as f_obj:\n",
    "            username = json.load(f_obj)\n",
    "    except FileNotFoundError:\n",
    "        return None\n",
    "    else:\n",
    "        return username\n",
    "#try except语句的基础上再添加一个else 块，即try except else结构。使用else 包裹的代码，只有当try没有捕获到任何异常时，才会得到执行\n",
    "\n",
    "def get_new_username():\n",
    "    \"\"\"提示用户输入用户名\"\"\"\n",
    "    username = input(\"What is your name? \")\n",
    "    filename = 'username.json'\n",
    "    with open(filename, 'w') as f_obj:\n",
    "        json.dump(username, f_obj)\n",
    "        return username\n",
    "    \n",
    "def greet_user():\n",
    "    \"\"\"问候用户，并指出其名字\"\"\"\n",
    "    username = get_stored_username()\n",
    "    if username:\n",
    "        print(\"Welcome back, \" + username + \"!\")\n",
    "    else:\n",
    "        username = get_new_username()\n",
    "    print(\"We'll remember you when you come back, \" + username + \"!\")\n",
    "    \n",
    "greet_user()"
   ]
  },
  {
   "cell_type": "markdown",
   "id": "d12f9e4f",
   "metadata": {},
   "source": [
    "try except语句的基础上再添加一个else 块，即try except else结构。使用else 包裹的代码，只有当try没有捕获到任何异常时，才会得到执行；反之，如果 try 块捕获到异常，即便调用对应的 except 处理完异常，else 块中的代码也不会得到执行。"
   ]
  },
  {
   "cell_type": "markdown",
   "id": "1ce34b64-66ce-446d-b922-d348c27bc7a5",
   "metadata": {},
   "source": [
    "创建测试用例的语法需要一段时间才能习惯，但测试用例创建后，再添加针对函数的单元测试就很简单了。要为函数编写测试用例，可先导入模块unittest以及要测试的函数，再创建一个继承unittest.TestCase的类，并编写一系列方法对函数行为的不同方面进行测试。"
   ]
  },
  {
   "cell_type": "code",
   "execution_count": 3,
   "id": "f6502d8a-6f5b-4796-a74c-2edf2f0806a0",
   "metadata": {
    "tags": []
   },
   "outputs": [
    {
     "name": "stderr",
     "output_type": "stream",
     "text": [
      "..\n",
      "----------------------------------------------------------------------\n",
      "Ran 2 tests in 0.001s\n",
      "\n",
      "OK\n"
     ]
    }
   ],
   "source": [
    "#单独把这块拿出来测试两个都能通过，只放在这里就总是出问题，不知道为什么?\n",
    "\n",
    "import unittest #导入了模块unittest\n",
    "from name_function import get_formatted_name #导入要测试的函数get_formatted_ name()\n",
    "\n",
    "class NamesTestCase(unittest.TestCase):\n",
    "#创建了一个名为NamesTestCase的类，用于包含一系列针对get_formatted_name()的测试\n",
    "#这个类必须继承unittest.TestCase类，这样Python才知道如何运行你编写的测试。\n",
    "    \"\"\"测试name_function.py\"\"\"\n",
    "    \n",
    "    def test_first_last_name(self):#注意self形参\n",
    "        \"\"\"能够正确地处理像Janis Joplin这样的姓名吗？\"\"\"\n",
    "        formatted_name = get_formatted_name('janis', 'joplin')#使用实参调用get_formatted_name()，并将结果存储到变量中\n",
    "        self.assertEqual(formatted_name, 'Janis Joplin')#断言方法用来核实得到的结果是否与期望的结果一致\n",
    "        #我们调用unittest的方法assertEqual()，并向它传递formatted_name和'Janis Joplin'。\n",
    "        #将formatted_name的值同字符串'Janis Joplin'进行比较，如果它们相等，就测试成功。\n",
    "        \n",
    "    def test_first_last_middle_name(self):\n",
    "        \"\"\"能够正确地处理像Wolfgang Amadeus Mozart这样的姓名吗？\"\"\"\n",
    "        formatted_name = get_formatted_name('wolfgang', 'mozart', 'amadeus')\n",
    "        self.assertEqual(formatted_name, 'Wolfgang Amadeus Mozart')\n",
    "           \n",
    "if __name__ == '__main__':\n",
    "     unittest.main(argv=['first-arg-is-ignored'],exit=False)"
   ]
  },
  {
   "cell_type": "markdown",
   "id": "0d790919-d6cc-4cb6-a253-a3924353a5b3",
   "metadata": {},
   "source": [
    "jupter中只用unittest.main()时无法运行测试，参考了网络上的解决方案，把下面的代码放上去，有以下三种方案，只有第三种可以实施，日后碰到这种情况可以解决。\n",
    "参考网址：https://www.jianshu.com/p/e4d4fbbda8e1"
   ]
  },
  {
   "cell_type": "raw",
   "id": "6ddc344e-c69e-43a5-b19e-c5b86dcf6986",
   "metadata": {},
   "source": [
    "#jupter中只用unittest.main()时无法运行测试，参考了网络上的解决方案，但是显示测试0.00，无法测试\n",
    "suite = unittest.TestSuite()\n",
    "runner = unittest.TextTestRunner(verbosity=2)\n",
    "if __name__ == '__main__':\n",
    "    runner.run(suite)\n",
    "    \n",
    "#下面是另一钟网友提供的解决方案，依然无法成功  # \n",
    "#if __name__ == '__main__':\n",
    "    #unittest.main()\n",
    "    \n",
    "#用下面这种方式就可以成功了\n",
    "#if __name__ == '__main__':\n",
    "     unittest.main(argv=['first-arg-is-ignored'],exit=False)"
   ]
  },
  {
   "cell_type": "raw",
   "id": "2c6c6e73-c0b9-444d-bf12-d68be274a867",
   "metadata": {},
   "source": [
    "#unittest Module中的断言方法\n",
    "\n",
    "assertEqual(a, b) 核实a == b\n",
    "assertNotEqual(a, b) 核实a != b\n",
    "assertTrue(x) 核实x为True\n",
    "assertFalse(x) 核实x为False\n",
    "assertIn(item, list) 核实item在list中\n",
    "assertNotIn(item, list) 核实item不在list中"
   ]
  },
  {
   "cell_type": "code",
   "execution_count": 2,
   "id": "b086463b-f835-499e-9cf3-6117578dde43",
   "metadata": {},
   "outputs": [
    {
     "name": "stdout",
     "output_type": "stream",
     "text": [
      "What language did you first learn to speak?\n",
      "Enter 'q' at any time to quit.\n",
      "\n"
     ]
    },
    {
     "name": "stdin",
     "output_type": "stream",
     "text": [
      "Language:  马婕盈\n",
      "Language:  张阳\n",
      "Language:  q\n"
     ]
    },
    {
     "name": "stdout",
     "output_type": "stream",
     "text": [
      "\n",
      "Thank you to everyone who participated in the survey!\n",
      "Survey results:\n",
      "- 马婕盈\n",
      "- 张阳\n"
     ]
    }
   ],
   "source": [
    "from Survey import AnonymousSurvey\n",
    "\n",
    "question = \"What language did you first learn to speak?\"\n",
    "my_survey = AnonymousSurvey(question)#为类创建实例 #question就是类AnonymousSurvey的属性，就像是汽车的品牌、速度\n",
    "my_survey.show_question()#实例运用方法\n",
    "print(\"Enter 'q' at any time to quit.\\n\")\n",
    "while True:\n",
    "#当while 后的条件为真时进行loop，False则终止循环 \n",
    "#while True即意思是要一直进行loop（死循环）\n",
    "#通常while true 循环中会加入break条件判断用以在循环内部的某个条件达成时终止循环\n",
    "    response = input(\"Language: \")\n",
    "    if response == 'q':\n",
    "        break\n",
    "    my_survey.store_response(response)#显示调查结果\n",
    "print(\"\\nThank you to everyone who participated in the survey!\")\n",
    "my_survey.show_results()"
   ]
  },
  {
   "cell_type": "code",
   "execution_count": 4,
   "id": "5ced06f3-4f62-4fbf-b630-206bdbb8120d",
   "metadata": {},
   "outputs": [
    {
     "name": "stderr",
     "output_type": "stream",
     "text": [
      "..\n",
      "----------------------------------------------------------------------\n",
      "Ran 2 tests in 0.001s\n",
      "\n",
      "OK\n"
     ]
    }
   ],
   "source": [
    "import unittest\n",
    "from Survey import AnonymousSurvey\n",
    "class TestAnonmyousSurvey(unittest.TestCase):\n",
    "    \"\"\"针对AnonymousSurvey类的测试\"\"\"\n",
    "def test_store_single_response(self):\n",
    "    \"\"\"测试单个答案会被妥善地存储\"\"\"\n",
    "    question = \"What language did you first learn to speak?\"\n",
    "    my_survey = AnonymousSurvey(question)\n",
    "    my_survey.store_response('English')\n",
    "    self.assertIn('English', my_survey.responses)\n",
    "    \n",
    "def test_store_three_responses(self):\n",
    "    \"\"\"测试三个答案会被妥善地存储\"\"\"\n",
    "    question = \"What language did you first learn to speak?\"\n",
    "    my_survey = AnonymousSurvey(question)\n",
    "    responses = ['English', 'Spanish', 'Mandarin']\n",
    "    for response in responses:\n",
    "        my_survey.store_response(response)\n",
    "    for response in responses:\n",
    "        self.assertIn(response, my_survey.responses)\n",
    "        \n",
    "if __name__ == '__main__':\n",
    "     unittest.main(argv=['first-arg-is-ignored'],exit=False)"
   ]
  },
  {
   "cell_type": "code",
   "execution_count": 7,
   "id": "22fe47dd-1db8-432b-820e-5d1fd6ce19df",
   "metadata": {},
   "outputs": [
    {
     "name": "stderr",
     "output_type": "stream",
     "text": [
      "....\n",
      "----------------------------------------------------------------------\n",
      "Ran 4 tests in 0.002s\n",
      "\n",
      "OK\n"
     ]
    }
   ],
   "source": [
    "import unittest\n",
    "from Survey import AnonymousSurvey\n",
    "class TestAnonymousSurvey(unittest.TestCase):\n",
    "    \"\"\" 针对 AnonymousSurvey 类的测试 \"\"\"\n",
    "    def setUp(self):\n",
    "        \"\"\"\n",
    "        创建一个调查对象和一组答案,供使用的测试方法使用\n",
    "        \"\"\"\n",
    "        question = \"What language did you first learn to speak?\"\n",
    "        self.my_survey = AnonymousSurvey(question)\n",
    "        self.responses = ['English', 'Spanish', 'Mandarin']\n",
    "    \n",
    "    def test_store_single_response(self):\n",
    "        \"\"\" 测试单个答案会被妥善地存储 \"\"\"\n",
    "        self.my_survey.store_response(self.responses[0])\n",
    "        self.assertIn(self.responses[0], self.my_survey.responses)\n",
    "    \n",
    "    def test_store_three_responses(self):\n",
    "        \"\"\" 测试三个答案会被妥善地存储 \"\"\"\n",
    "        for response in self.responses:\n",
    "            self.my_survey.store_response(response)\n",
    "        for response in self.responses:\n",
    "            self.assertIn(response, self.my_survey.responses)         \n",
    "        \n",
    "if __name__ == '__main__':\n",
    "     unittest.main(argv=['first-arg-is-ignored'],exit=False)"
   ]
  },
  {
   "cell_type": "markdown",
   "id": "cf72c761-006e-471c-bbc2-875541c348a7",
   "metadata": {},
   "source": [
    "运行测试用例时，每完成一个单元测试，Python都打印一个字符：测试通过时打印一个句点；测试引发错误时打印一个E；测试导致断言失败时打印一个F"
   ]
  }
 ],
 "metadata": {
  "celltoolbar": "原始单元格格式",
  "kernelspec": {
   "display_name": "Python 3 (ipykernel)",
   "language": "python",
   "name": "python3"
  },
  "language_info": {
   "codemirror_mode": {
    "name": "ipython",
    "version": 3
   },
   "file_extension": ".py",
   "mimetype": "text/x-python",
   "name": "python",
   "nbconvert_exporter": "python",
   "pygments_lexer": "ipython3",
   "version": "3.8.8"
  }
 },
 "nbformat": 4,
 "nbformat_minor": 5
}
