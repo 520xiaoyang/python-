{
 "cells": [
  {
   "cell_type": "markdown",
   "id": "51ac7465-aaac-4489-b7f1-70cbcb40a329",
   "metadata": {
    "tags": []
   },
   "source": [
    "# jutper基础操作技巧"
   ]
  },
  {
   "cell_type": "markdown",
   "id": "ebd76eb2-b4cb-45b0-bbe4-eb6d04059ac4",
   "metadata": {},
   "source": [
    "？询问含义\n",
    "\n",
    "？？查看源代码"
   ]
  },
  {
   "cell_type": "code",
   "execution_count": 1,
   "id": "19dc926f-67b6-48f9-ab2f-a027e8f31ee4",
   "metadata": {},
   "outputs": [
    {
     "data": {
      "text/plain": [
       "\u001b[1;31mSignature:\u001b[0m \u001b[0msorted\u001b[0m\u001b[1;33m(\u001b[0m\u001b[0miterable\u001b[0m\u001b[1;33m,\u001b[0m \u001b[1;33m/\u001b[0m\u001b[1;33m,\u001b[0m \u001b[1;33m*\u001b[0m\u001b[1;33m,\u001b[0m \u001b[0mkey\u001b[0m\u001b[1;33m=\u001b[0m\u001b[1;32mNone\u001b[0m\u001b[1;33m,\u001b[0m \u001b[0mreverse\u001b[0m\u001b[1;33m=\u001b[0m\u001b[1;32mFalse\u001b[0m\u001b[1;33m)\u001b[0m\u001b[1;33m\u001b[0m\u001b[1;33m\u001b[0m\u001b[0m\n",
       "\u001b[1;31mDocstring:\u001b[0m\n",
       "Return a new list containing all items from the iterable in ascending order.\n",
       "\n",
       "A custom key function can be supplied to customize the sort order, and the\n",
       "reverse flag can be set to request the result in descending order.\n",
       "\u001b[1;31mType:\u001b[0m      builtin_function_or_method\n"
      ]
     },
     "metadata": {},
     "output_type": "display_data"
    }
   ],
   "source": [
    "sorted?"
   ]
  },
  {
   "cell_type": "markdown",
   "id": "36da8e41-9f14-4a41-86cd-e9c1f180bce7",
   "metadata": {},
   "source": [
    "tab 导入功能时的补齐提示：\n",
    "例如，导入matplotlib时，记不清怎么拼写，只需要输入import mat，再按tab键，就会有弹窗弹出来补齐这个键"
   ]
  },
  {
   "cell_type": "code",
   "execution_count": 2,
   "id": "03039215-2729-4632-8d93-892dd8d5a1b1",
   "metadata": {},
   "outputs": [],
   "source": [
    "import matplotlib"
   ]
  },
  {
   "cell_type": "markdown",
   "id": "3c4a511e-f26c-4b39-a2d4-b03eded80be2",
   "metadata": {},
   "source": [
    "%timeit计算代码的运行时间"
   ]
  },
  {
   "cell_type": "code",
   "execution_count": 3,
   "id": "d14f7bd8-613e-45dc-a229-60f5fedb59f6",
   "metadata": {},
   "outputs": [
    {
     "name": "stdout",
     "output_type": "stream",
     "text": [
      "17.6 µs ± 167 ns per loop (mean ± std. dev. of 7 runs, 100000 loops each)\n"
     ]
    }
   ],
   "source": [
    "%timeit L = [n ** 2 for n in range(100)]"
   ]
  },
  {
   "cell_type": "markdown",
   "id": "90fb6a36-32c5-4727-b032-4fda5e98ce4c",
   "metadata": {
    "tags": []
   },
   "source": [
    "# numpy入门"
   ]
  },
  {
   "cell_type": "markdown",
   "id": "c77ce60f-79fb-4274-af51-d0847cbe20c7",
   "metadata": {},
   "source": [
    "numpy 教学网站：https://numpy.org/doc/stable/user/absolute_beginners.html"
   ]
  },
  {
   "cell_type": "markdown",
   "id": "76fd3532-6b0d-41c6-8d75-ea441f38bf86",
   "metadata": {},
   "source": [
    "有效导入、存储和操作内存数据的主题非常广泛，比如文档集合、图像集合、声音片段集合、数值数据集合，等等。这些数据虽然存在明显的异构性，但是将所有数据简单地看作数字数组非常有助于我们理解和处理数据。\n",
    "\n",
    "例如，可以将图像简单地看作二维数字数组，这些数字数组代表各区域的像素值；声音片段可以看作时间和强度的一维数组；文本也可以通过各种方式转换成数值表示，一种可能的转换是用二进制数表示特定单词或单词对出现的频率。不管数据是何种形式，第一步都是将这些数据转换成数值数组形式的可分析数据。"
   ]
  },
  {
   "cell_type": "code",
   "execution_count": 4,
   "id": "f0c4383a-f788-4b7e-a3ef-cd2a9f44f296",
   "metadata": {},
   "outputs": [
    {
     "data": {
      "text/plain": [
       "'1.21.4'"
      ]
     },
     "execution_count": 4,
     "metadata": {},
     "output_type": "execute_result"
    }
   ],
   "source": [
    "import numpy as np\n",
    "np.__version__ #检测模块的版本"
   ]
  },
  {
   "cell_type": "markdown",
   "id": "70846c88-a920-40f6-8d0d-079a10632d91",
   "metadata": {
    "tags": []
   },
   "source": [
    "## 创建数组"
   ]
  },
  {
   "cell_type": "markdown",
   "id": "7b1ca0c4-5075-4e55-984d-99ee2f962e4e",
   "metadata": {
    "tags": []
   },
   "source": [
    "### 从Python列表创建数组"
   ]
  },
  {
   "cell_type": "code",
   "execution_count": 5,
   "id": "8291dbd0-eaac-4726-bc2b-084f5236132d",
   "metadata": {},
   "outputs": [
    {
     "data": {
      "text/plain": [
       "array([1, 4, 2, 5, 3])"
      ]
     },
     "execution_count": 5,
     "metadata": {},
     "output_type": "execute_result"
    }
   ],
   "source": [
    "np.array([1, 4, 2, 5, 3]) #利用numpy.array创建一个数组"
   ]
  },
  {
   "cell_type": "code",
   "execution_count": 6,
   "id": "dd1bb769-128d-488b-b0ab-488f1d21c1ff",
   "metadata": {},
   "outputs": [
    {
     "data": {
      "text/plain": [
       "array([3.14, 4.  , 2.  , 3.  ])"
      ]
     },
     "execution_count": 6,
     "metadata": {},
     "output_type": "execute_result"
    }
   ],
   "source": [
    "np.array([3.14, 4, 2, 3]) #NumPy要求数组必须包含同一类型的数据，如果类型不匹配，NumPy会自动转换"
   ]
  },
  {
   "cell_type": "code",
   "execution_count": 7,
   "id": "693bc533-7cdc-44e1-b42d-9a4e2b4fc1b7",
   "metadata": {},
   "outputs": [
    {
     "data": {
      "text/plain": [
       "array([1., 2., 3., 4.], dtype=float32)"
      ]
     },
     "execution_count": 7,
     "metadata": {},
     "output_type": "execute_result"
    }
   ],
   "source": [
    "np.array([1, 2, 3, 4], dtype='float32') #用dtype关键字明确设置数组的数据类型，这里为浮点数"
   ]
  },
  {
   "cell_type": "code",
   "execution_count": 8,
   "id": "1706a93a-6341-4e4f-80b8-5cb5608a8ad0",
   "metadata": {},
   "outputs": [
    {
     "data": {
      "text/plain": [
       "array([[2, 3, 4],\n",
       "       [4, 5, 6],\n",
       "       [6, 7, 8]])"
      ]
     },
     "execution_count": 8,
     "metadata": {},
     "output_type": "execute_result"
    }
   ],
   "source": [
    "np.array([range(i, i + 3) for i in [2, 4, 6]]) #嵌套列表构成的多维数组"
   ]
  },
  {
   "cell_type": "markdown",
   "id": "812b3835-0f7b-4d47-87fc-123ee4430828",
   "metadata": {},
   "source": [
    "### 用NumPy 内置的方法从头创建数组"
   ]
  },
  {
   "cell_type": "markdown",
   "id": "bf1ee34e-19cc-4eec-92b8-fbd3be20cafd",
   "metadata": {},
   "source": [
    "np.zeros：创立都是0的数组\n",
    "\n",
    "np.ones：创立都是1的数组\n",
    "\n",
    "np.full：创立任意数的数组，需要指定数，如np.full(10, 3)：创立10个3的数组\n",
    "\n",
    "np.arange:函数返回一个有终点和起点的固定步长的排列\n",
    "\n",
    "np.linspace函数用于在线性空间中以均匀步长生成数字序列。\n",
    "\n",
    "np.random.xxxxx创建一系列随机数组\n",
    "\n",
    "np.eye 创建矩阵"
   ]
  },
  {
   "cell_type": "markdown",
   "id": "08c3ef76-674e-4fa0-93b5-10aba9f37dd5",
   "metadata": {
    "tags": []
   },
   "source": [
    "<font color='red'> numpy随机数函数</font>"
   ]
  },
  {
   "cell_type": "markdown",
   "id": "c49965b6-3163-4dc8-9de0-4dd4f810032f",
   "metadata": {},
   "source": [
    "<font color='red'> np.random.randint()</font>\n",
    "\n",
    "语法： numpy.random.randint(low, high=None, size=None, dtype=’l’)\n",
    "\n",
    "功能： 通过low来指定起点，通过high来指定终点，通过size参数来指定数组的维度，通过dtype来确定类型。\n",
    "\n",
    "说明：返回值为随机整数，范围区间为[low,high），包含low，不包含high\n",
    "\n",
    "参数：low为最小值，high为最大值，size为数组维度大小，dtype为数据类型，默认的数据类型是np.int\n",
    "\n",
    "high没有写时，默认生成随机数的范围是[0，low)，但此时必须将size=(x,x)写上去，否则报错；同理，如果不写‘size=’,则要在前面把low和high的值都写上"
   ]
  },
  {
   "cell_type": "markdown",
   "id": "58639289-cca1-47a4-b196-1f02ad68ae47",
   "metadata": {},
   "source": [
    "<font color='red'> np.random.randn()</font>\n",
    "\n",
    "语法： numpy.random.randn(d0,d1,…,dn)\n",
    "\n",
    "功能： 用法同np.random.rand()一样，只是服从正态分布。用法同上。\n",
    "\n",
    "说明：标准正态分布又称为u分布，是以0为均值、以1为标准差的正态分布，记为N（0，1）。\n",
    "\n",
    "randn函数返回一个或一组样本，具有标准正态分布，dn表格每个维度，返回值为指定维度的array"
   ]
  },
  {
   "cell_type": "code",
   "execution_count": 9,
   "id": "ef019966-4e50-4ee5-a6b0-7f29f530befd",
   "metadata": {},
   "outputs": [
    {
     "data": {
      "text/plain": [
       "array([0, 0, 0, 0, 0, 0, 0, 0, 0, 0])"
      ]
     },
     "execution_count": 9,
     "metadata": {},
     "output_type": "execute_result"
    }
   ],
   "source": [
    "np.zeros(10, dtype=int) #创建一个长度为10的数组，数组的值都是0"
   ]
  },
  {
   "cell_type": "code",
   "execution_count": 10,
   "id": "cba6c6c4-b9d7-40be-a850-c210e062c19c",
   "metadata": {},
   "outputs": [
    {
     "data": {
      "text/plain": [
       "array([[1., 1., 1., 1., 1.],\n",
       "       [1., 1., 1., 1., 1.],\n",
       "       [1., 1., 1., 1., 1.]])"
      ]
     },
     "execution_count": 10,
     "metadata": {},
     "output_type": "execute_result"
    }
   ],
   "source": [
    "np.ones((3, 5), dtype=float) #创建一个3×5的浮点型数组，数组的值都是1"
   ]
  },
  {
   "cell_type": "code",
   "execution_count": 11,
   "id": "3de5e68b-08d4-4d59-93a6-60db05069254",
   "metadata": {},
   "outputs": [
    {
     "data": {
      "text/plain": [
       "array([[3.14, 3.14, 3.14, 3.14, 3.14],\n",
       "       [3.14, 3.14, 3.14, 3.14, 3.14],\n",
       "       [3.14, 3.14, 3.14, 3.14, 3.14]])"
      ]
     },
     "execution_count": 11,
     "metadata": {},
     "output_type": "execute_result"
    }
   ],
   "source": [
    "np.full((3, 5), 3.14) #创建一个3×5的浮点型数组，数组的值都是3.14"
   ]
  },
  {
   "cell_type": "code",
   "execution_count": 12,
   "id": "39aff52d-3357-467f-a14d-32fc6211406b",
   "metadata": {},
   "outputs": [
    {
     "data": {
      "text/plain": [
       "array([ 0,  2,  4,  6,  8, 10, 12, 14, 16, 18])"
      ]
     },
     "execution_count": 12,
     "metadata": {},
     "output_type": "execute_result"
    }
   ],
   "source": [
    "np.arange(0, 20, 2) #创建一个3×5的浮点型数组，数组的值是一个线性序列，从0开始，到20结束，步长为2"
   ]
  },
  {
   "cell_type": "code",
   "execution_count": 13,
   "id": "79fa9f2d-675c-4efe-82b5-47ee036e4f0f",
   "metadata": {},
   "outputs": [
    {
     "data": {
      "text/plain": [
       "array([0.  , 0.25, 0.5 , 0.75, 1.  ])"
      ]
     },
     "execution_count": 13,
     "metadata": {},
     "output_type": "execute_result"
    }
   ],
   "source": [
    "np.linspace(0, 1, 5) #创建一个5个元素的数组，这5个数均匀地分配到0~1"
   ]
  },
  {
   "cell_type": "code",
   "execution_count": 14,
   "id": "d3e60082-fb5d-41fb-bbd4-2d7480928882",
   "metadata": {},
   "outputs": [
    {
     "data": {
      "text/plain": [
       "array([[0.27646442, 0.05676071, 0.86338211],\n",
       "       [0.64952379, 0.79002768, 0.87623497],\n",
       "       [0.49280283, 0.12366768, 0.8374937 ]])"
      ]
     },
     "execution_count": 14,
     "metadata": {},
     "output_type": "execute_result"
    }
   ],
   "source": [
    "np.random.random((3, 3)) #创建一个3×3的、在0~1均匀分布的随机数组成的数组"
   ]
  },
  {
   "cell_type": "code",
   "execution_count": 15,
   "id": "bc950d52-b320-463a-bb5c-5f44df79ca45",
   "metadata": {},
   "outputs": [
    {
     "data": {
      "text/plain": [
       "array([[ 1.07988656, -0.02515695, -0.10167356],\n",
       "       [ 0.37189939, -0.5335857 , -0.21778589],\n",
       "       [-0.99845906,  2.48049283,  0.57799232]])"
      ]
     },
     "execution_count": 15,
     "metadata": {},
     "output_type": "execute_result"
    }
   ],
   "source": [
    "np.random.normal(0, 1, (3, 3)) #创建一个3×3的、均值为0、方差为1的正态分布的随机数数组"
   ]
  },
  {
   "cell_type": "code",
   "execution_count": 16,
   "id": "e3f2225e-43b6-443d-b71a-1c1d3d8e216c",
   "metadata": {},
   "outputs": [
    {
     "data": {
      "text/plain": [
       "array([[3, 2, 0],\n",
       "       [1, 5, 9],\n",
       "       [3, 0, 9]])"
      ]
     },
     "execution_count": 16,
     "metadata": {},
     "output_type": "execute_result"
    }
   ],
   "source": [
    "np.random.randint(0, 10, (3, 3)) #创建一个3×3的、[0, 10)区间的随机整型数组"
   ]
  },
  {
   "cell_type": "code",
   "execution_count": 17,
   "id": "694b0c9e-74dc-403f-a296-53fb9632c07e",
   "metadata": {},
   "outputs": [
    {
     "data": {
      "text/plain": [
       "array([[1., 0., 0.],\n",
       "       [0., 1., 0.],\n",
       "       [0., 0., 1.]])"
      ]
     },
     "execution_count": 17,
     "metadata": {},
     "output_type": "execute_result"
    }
   ],
   "source": [
    "np.eye(3) #创建一个3×3的单位矩阵"
   ]
  },
  {
   "cell_type": "code",
   "execution_count": 18,
   "id": "c2570ab0-0944-4502-8e88-46ff77f9a455",
   "metadata": {},
   "outputs": [
    {
     "data": {
      "text/plain": [
       "array([         0, 1072693248])"
      ]
     },
     "execution_count": 18,
     "metadata": {},
     "output_type": "execute_result"
    }
   ],
   "source": [
    "np.empty(2, dtype=int)# 创建一个由3个整型数组成的未初始化的数组,数组的值是内存空间中的任意值"
   ]
  },
  {
   "cell_type": "markdown",
   "id": "e95adfae-1597-4dc2-9901-1ff1e649c605",
   "metadata": {
    "tags": []
   },
   "source": [
    "## NumPy数组基础"
   ]
  },
  {
   "cell_type": "markdown",
   "id": "06712e91-127e-4c54-9c26-396e8758aa44",
   "metadata": {
    "tags": []
   },
   "source": [
    "### NumPy数组的属性"
   ]
  },
  {
   "cell_type": "code",
   "execution_count": 19,
   "id": "760cf17b-1836-4629-890e-cae985f29e83",
   "metadata": {},
   "outputs": [],
   "source": [
    "np.random.seed(0) # 设置随机数种子,确保每次程序执行时都可以生成同样的随机数组\n",
    "x1 = np.random.randint(10, size=6) # 一维数组 #6个数字\n",
    "x2 = np.random.randint(10, size=(3, 4)) # 二维数组 #3行4列\n",
    "x3 = np.random.randint(10, size=(3, 4, 5)) # 三维数组 #3组4行5列"
   ]
  },
  {
   "cell_type": "code",
   "execution_count": 20,
   "id": "f0d5ea24-efa8-409d-83ca-4c2cdcc20286",
   "metadata": {},
   "outputs": [
    {
     "name": "stdout",
     "output_type": "stream",
     "text": [
      "[5 0 3 3 7 9]\n"
     ]
    }
   ],
   "source": [
    "print(x1)"
   ]
  },
  {
   "cell_type": "code",
   "execution_count": 21,
   "id": "40e362c1-7740-4187-b6cc-a2e2c74551e2",
   "metadata": {},
   "outputs": [
    {
     "name": "stdout",
     "output_type": "stream",
     "text": [
      "[[3 5 2 4]\n",
      " [7 6 8 8]\n",
      " [1 6 7 7]]\n"
     ]
    }
   ],
   "source": [
    "print(x2)"
   ]
  },
  {
   "cell_type": "code",
   "execution_count": 22,
   "id": "1f69a8b6-d89b-4bb1-ae93-d57f8ff2f57c",
   "metadata": {},
   "outputs": [
    {
     "name": "stdout",
     "output_type": "stream",
     "text": [
      "[[[8 1 5 9 8]\n",
      "  [9 4 3 0 3]\n",
      "  [5 0 2 3 8]\n",
      "  [1 3 3 3 7]]\n",
      "\n",
      " [[0 1 9 9 0]\n",
      "  [4 7 3 2 7]\n",
      "  [2 0 0 4 5]\n",
      "  [5 6 8 4 1]]\n",
      "\n",
      " [[4 9 8 1 1]\n",
      "  [7 9 9 3 6]\n",
      "  [7 2 0 3 5]\n",
      "  [9 4 4 6 4]]]\n"
     ]
    }
   ],
   "source": [
    "print(x3)"
   ]
  },
  {
   "cell_type": "code",
   "execution_count": 23,
   "id": "996a1345-25e4-4135-8899-a9b7c973e899",
   "metadata": {},
   "outputs": [
    {
     "name": "stdout",
     "output_type": "stream",
     "text": [
      "x3 ndim:  3\n",
      "x3 shape: (3, 4, 5)\n",
      "x3 size:  60\n"
     ]
    }
   ],
   "source": [
    "#每个数组有nidm（数组的维度）、shape（数组每个维度的大小）和 size（数组的总大小）属性\n",
    "\n",
    "print(\"x3 ndim: \", x3.ndim)\n",
    "print(\"x3 shape:\", x3.shape)\n",
    "print(\"x3 size: \", x3.size)"
   ]
  },
  {
   "cell_type": "code",
   "execution_count": 24,
   "id": "b1c7e639-3cbd-4743-bb20-84cc1edddc00",
   "metadata": {},
   "outputs": [
    {
     "name": "stdout",
     "output_type": "stream",
     "text": [
      "dtype: int32\n"
     ]
    }
   ],
   "source": [
    "#属性dtype是数组的数据类型\n",
    "\n",
    "print(\"dtype:\", x3.dtype)"
   ]
  },
  {
   "cell_type": "code",
   "execution_count": 25,
   "id": "d673c1c1-f4bb-46a9-80c8-9052f5422184",
   "metadata": {},
   "outputs": [
    {
     "name": "stdout",
     "output_type": "stream",
     "text": [
      "x3 itemsize: 4 bytes\n",
      "x3 size:  60\n",
      "x3 nbytes: 240 bytes\n"
     ]
    }
   ],
   "source": [
    "#每个数组元素字节大小的 itemsize，以及表示数组总字节大小的属性nbytes\n",
    "#一般来说，可以认为 nbytes 跟itemsize 和size 的乘积大小相等\n",
    "\n",
    "print(\"x3 itemsize:\", x3.itemsize, \"bytes\")\n",
    "print(\"x3 size: \", x3.size)\n",
    "print(\"x3 nbytes:\", x3.nbytes, \"bytes\")"
   ]
  },
  {
   "cell_type": "markdown",
   "id": "2d3397f6-6617-4b3f-8706-d86e406ded7a",
   "metadata": {
    "tags": []
   },
   "source": [
    "### 数组索引：获取单个元素"
   ]
  },
  {
   "cell_type": "code",
   "execution_count": 26,
   "id": "0272f78d-966c-4243-9159-383c7097ae76",
   "metadata": {},
   "outputs": [
    {
     "data": {
      "text/plain": [
       "5"
      ]
     },
     "execution_count": 26,
     "metadata": {},
     "output_type": "execute_result"
    }
   ],
   "source": [
    "x1[0]"
   ]
  },
  {
   "cell_type": "code",
   "execution_count": 27,
   "id": "147d266a-5152-45e3-8adc-4bc6fb548920",
   "metadata": {},
   "outputs": [
    {
     "data": {
      "text/plain": [
       "array([12,  0,  3,  3,  7,  9])"
      ]
     },
     "execution_count": 27,
     "metadata": {},
     "output_type": "execute_result"
    }
   ],
   "source": [
    "x1[0] = 12 #可以通过索引赋值的方式修改数组的值\n",
    "x1"
   ]
  },
  {
   "cell_type": "code",
   "execution_count": 28,
   "id": "f74c790a-d4c7-471e-b392-2607c8db119d",
   "metadata": {},
   "outputs": [
    {
     "data": {
      "text/plain": [
       "array([[4, 9, 8, 1, 1],\n",
       "       [7, 9, 9, 3, 6],\n",
       "       [7, 2, 0, 3, 5],\n",
       "       [9, 4, 4, 6, 4]])"
      ]
     },
     "execution_count": 28,
     "metadata": {},
     "output_type": "execute_result"
    }
   ],
   "source": [
    "x3[-1]"
   ]
  },
  {
   "cell_type": "code",
   "execution_count": 29,
   "id": "d1d8f0bc-c887-4223-9e87-f249ecfdab77",
   "metadata": {},
   "outputs": [
    {
     "data": {
      "text/plain": [
       "array([9, 4, 4, 6, 4])"
      ]
     },
     "execution_count": 29,
     "metadata": {},
     "output_type": "execute_result"
    }
   ],
   "source": [
    "x3[-1,-1]"
   ]
  },
  {
   "cell_type": "code",
   "execution_count": 30,
   "id": "72f1112b-caf0-4b68-9d74-e4fb137ad3e5",
   "metadata": {},
   "outputs": [
    {
     "data": {
      "text/plain": [
       "4"
      ]
     },
     "execution_count": 30,
     "metadata": {},
     "output_type": "execute_result"
    }
   ],
   "source": [
    "x3[-1,-1,-1]"
   ]
  },
  {
   "cell_type": "markdown",
   "id": "1162a5dc-4f06-44ac-82f4-b43cd130eddc",
   "metadata": {
    "tags": []
   },
   "source": [
    "### 数组切片与复制"
   ]
  },
  {
   "cell_type": "markdown",
   "id": "f0538c72-9327-4f62-9d1b-6e8a37664c62",
   "metadata": {},
   "source": [
    "我们可以用切片（slice）符号获取子数组，切片符号用冒号（:）表示"
   ]
  },
  {
   "cell_type": "code",
   "execution_count": 31,
   "id": "62f41e77-b093-44ec-aedf-cc35e16764a8",
   "metadata": {},
   "outputs": [
    {
     "data": {
      "text/plain": [
       "array([0, 1, 2, 3, 4, 5, 6, 7, 8, 9])"
      ]
     },
     "execution_count": 31,
     "metadata": {},
     "output_type": "execute_result"
    }
   ],
   "source": [
    "x = np.arange(10)\n",
    "x"
   ]
  },
  {
   "cell_type": "code",
   "execution_count": 32,
   "id": "6e80287e-2033-465f-a564-550fe37f7f1e",
   "metadata": {},
   "outputs": [
    {
     "data": {
      "text/plain": [
       "array([0, 1, 2, 3, 4])"
      ]
     },
     "execution_count": 32,
     "metadata": {},
     "output_type": "execute_result"
    }
   ],
   "source": [
    "x[:5]"
   ]
  },
  {
   "cell_type": "code",
   "execution_count": 33,
   "id": "5069e407-b051-477a-9f28-a30ad8ac2fba",
   "metadata": {},
   "outputs": [
    {
     "data": {
      "text/plain": [
       "array([5, 6, 7, 8, 9])"
      ]
     },
     "execution_count": 33,
     "metadata": {},
     "output_type": "execute_result"
    }
   ],
   "source": [
    "x[5:]"
   ]
  },
  {
   "cell_type": "code",
   "execution_count": 34,
   "id": "ed7df9a5-c8ff-40aa-9f9d-f5dc1cda681d",
   "metadata": {},
   "outputs": [
    {
     "data": {
      "text/plain": [
       "array([4, 5, 6])"
      ]
     },
     "execution_count": 34,
     "metadata": {},
     "output_type": "execute_result"
    }
   ],
   "source": [
    "x[4:7] # 中间的子数组"
   ]
  },
  {
   "cell_type": "code",
   "execution_count": 35,
   "id": "21d20d37-5d7b-425b-8295-e0994f3504f5",
   "metadata": {},
   "outputs": [
    {
     "data": {
      "text/plain": [
       "array([0, 2, 4, 6, 8])"
      ]
     },
     "execution_count": 35,
     "metadata": {},
     "output_type": "execute_result"
    }
   ],
   "source": [
    "x[::2] # 每隔一个元素, 索引0始"
   ]
  },
  {
   "cell_type": "code",
   "execution_count": 36,
   "id": "73ee4fdc-6c51-4cb0-ad29-a1187d381c6b",
   "metadata": {},
   "outputs": [
    {
     "data": {
      "text/plain": [
       "array([1, 3, 5, 7, 9])"
      ]
     },
     "execution_count": 36,
     "metadata": {},
     "output_type": "execute_result"
    }
   ],
   "source": [
    "x[1::2] # 每隔一个元素，从索引1开始"
   ]
  },
  {
   "cell_type": "code",
   "execution_count": 37,
   "id": "9b84f1f1-416c-47c8-8858-a7abc582f57d",
   "metadata": {},
   "outputs": [
    {
     "name": "stdout",
     "output_type": "stream",
     "text": [
      "[[3 5 2 4]\n",
      " [7 6 8 8]\n",
      " [1 6 7 7]]\n"
     ]
    }
   ],
   "source": [
    "print(x2)"
   ]
  },
  {
   "cell_type": "code",
   "execution_count": 38,
   "id": "19a8fbc1-ef33-4d1e-a392-97be1bb9f73c",
   "metadata": {},
   "outputs": [
    {
     "data": {
      "text/plain": [
       "array([[3, 5, 2],\n",
       "       [7, 6, 8]])"
      ]
     },
     "execution_count": 38,
     "metadata": {},
     "output_type": "execute_result"
    }
   ],
   "source": [
    "x2[:2, :3]  # 行的维度取前两个，列的维度取前三个，形状变为(2, 3)"
   ]
  },
  {
   "cell_type": "code",
   "execution_count": 39,
   "id": "ddf8ee26-95b1-49ce-87b8-d75b645aa222",
   "metadata": {},
   "outputs": [
    {
     "data": {
      "text/plain": [
       "array([[3, 2],\n",
       "       [7, 8],\n",
       "       [1, 7]])"
      ]
     },
     "execution_count": 39,
     "metadata": {},
     "output_type": "execute_result"
    }
   ],
   "source": [
    "x2[:3, ::2]  # 行的维度取前三个（全部），列的维度每个一个取一列，形状变为(3, 2)"
   ]
  },
  {
   "cell_type": "code",
   "execution_count": 40,
   "id": "6c991b20-e9d0-4a41-9989-5718e928cfda",
   "metadata": {},
   "outputs": [
    {
     "data": {
      "text/plain": [
       "array([[7, 7, 6, 1],\n",
       "       [8, 8, 6, 7],\n",
       "       [4, 2, 5, 3]])"
      ]
     },
     "execution_count": 40,
     "metadata": {},
     "output_type": "execute_result"
    }
   ],
   "source": [
    "x2[::-1, ::-1] # 行和列都反序，形状保持(3, 4)"
   ]
  },
  {
   "cell_type": "code",
   "execution_count": 41,
   "id": "5f1a2a4e-9cc1-436e-acc6-905e64b4722d",
   "metadata": {},
   "outputs": [
    {
     "name": "stdout",
     "output_type": "stream",
     "text": [
      "[3 7 1]\n"
     ]
    }
   ],
   "source": [
    "print(x2[:, 0])  # x2的第一列"
   ]
  },
  {
   "cell_type": "code",
   "execution_count": 42,
   "id": "f381479e-f113-4190-9641-9e8f78056850",
   "metadata": {},
   "outputs": [
    {
     "name": "stdout",
     "output_type": "stream",
     "text": [
      "[3 5 2 4]\n"
     ]
    }
   ],
   "source": [
    "print(x2[0, :])  # x2的第一行"
   ]
  },
  {
   "cell_type": "code",
   "execution_count": 43,
   "id": "206c5329-7fb9-49b5-8688-72a6416b0751",
   "metadata": {},
   "outputs": [
    {
     "name": "stdout",
     "output_type": "stream",
     "text": [
      "[3 5 2 4]\n"
     ]
    }
   ],
   "source": [
    "print(x2[0]) #如果是获取行数据的话，可以省略后续的切片，写成更加简洁的方式："
   ]
  },
  {
   "cell_type": "code",
   "execution_count": 44,
   "id": "19091008-50f3-4beb-9a8a-ae9bf2d0fad4",
   "metadata": {},
   "outputs": [
    {
     "name": "stdout",
     "output_type": "stream",
     "text": [
      "[[3 5]\n",
      " [7 6]]\n"
     ]
    }
   ],
   "source": [
    "x2_sub_copy = x2[:2, :2].copy() #copy方法，复制x2数组的前两行前两列，单独拿出来\n",
    "print(x2_sub_copy)"
   ]
  },
  {
   "cell_type": "markdown",
   "id": "bf7bf183-a485-4985-8a7c-1a06a5dc320e",
   "metadata": {},
   "source": [
    "### 改变数组的形状"
   ]
  },
  {
   "cell_type": "markdown",
   "id": "bf68e19f-4b5d-4ed0-9057-dc6ece8b902e",
   "metadata": {},
   "source": [
    "另一个数组的常用操作是改变形状。最方便的方式是使用`reshape`方法实现。例如，如果你希望将1~100的数放入一个10x10的数组里面"
   ]
  },
  {
   "cell_type": "markdown",
   "id": "56e7539b-d336-4a9c-b04e-83e4f61cbcb9",
   "metadata": {},
   "source": [
    "注意，改变形状要能成功，原始数组和新的形状的数组的总长度`size`必须一样"
   ]
  },
  {
   "cell_type": "code",
   "execution_count": 45,
   "id": "898f83d0-dff4-47e4-bd63-af350a88b245",
   "metadata": {},
   "outputs": [
    {
     "name": "stdout",
     "output_type": "stream",
     "text": [
      "[[  1   2   3   4   5   6   7   8   9  10]\n",
      " [ 11  12  13  14  15  16  17  18  19  20]\n",
      " [ 21  22  23  24  25  26  27  28  29  30]\n",
      " [ 31  32  33  34  35  36  37  38  39  40]\n",
      " [ 41  42  43  44  45  46  47  48  49  50]\n",
      " [ 51  52  53  54  55  56  57  58  59  60]\n",
      " [ 61  62  63  64  65  66  67  68  69  70]\n",
      " [ 71  72  73  74  75  76  77  78  79  80]\n",
      " [ 81  82  83  84  85  86  87  88  89  90]\n",
      " [ 91  92  93  94  95  96  97  98  99 100]]\n"
     ]
    }
   ],
   "source": [
    "grid = np.arange(1, 101).reshape((10, 10)) \n",
    "print(grid)"
   ]
  },
  {
   "cell_type": "code",
   "execution_count": 46,
   "id": "e45ae37d-83ea-45ab-99e3-5d368070bed3",
   "metadata": {},
   "outputs": [
    {
     "data": {
      "text/plain": [
       "array([[1, 2, 3]])"
      ]
     },
     "execution_count": 46,
     "metadata": {},
     "output_type": "execute_result"
    }
   ],
   "source": [
    "x = np.array([1, 2, 3])\n",
    "x.reshape((1, 3)) #1行3列"
   ]
  },
  {
   "cell_type": "code",
   "execution_count": 47,
   "id": "5c45323f-fea9-4fa8-a611-3fc058afffc5",
   "metadata": {},
   "outputs": [
    {
     "data": {
      "text/plain": [
       "array([[1],\n",
       "       [2],\n",
       "       [3]])"
      ]
     },
     "execution_count": 47,
     "metadata": {},
     "output_type": "execute_result"
    }
   ],
   "source": [
    "x.reshape((3, 1)) #3行1列"
   ]
  },
  {
   "cell_type": "markdown",
   "id": "291d6af6-a746-4890-b0b7-adc0883906c4",
   "metadata": {},
   "source": [
    "### 数组拼接和分裂"
   ]
  },
  {
   "cell_type": "markdown",
   "id": "d7871c1d-cd33-461f-a1ed-aba6179e8236",
   "metadata": {},
   "source": [
    "以上所有的操作都是针对单一数组的，但有时也需要将多个数组合并为一个，或将一个数组分裂成多个。"
   ]
  },
  {
   "cell_type": "markdown",
   "id": "6f36aaf5-2c5f-418e-989a-37e566b50140",
   "metadata": {},
   "source": [
    "拼接或连接NumPy 中的两个数组主要由np.concatenate、np.vstack 和np.hstack 例程实现。分裂可以通过np.split、np.hsplit 和np.vsplit 函数来实现。"
   ]
  },
  {
   "cell_type": "code",
   "execution_count": 48,
   "id": "6f2cdfce-dbc1-4d93-9fe5-f9b11a7597af",
   "metadata": {},
   "outputs": [
    {
     "data": {
      "text/plain": [
       "array([ 1,  2,  3,  3,  2,  1, 99, 99, 99])"
      ]
     },
     "execution_count": 48,
     "metadata": {},
     "output_type": "execute_result"
    }
   ],
   "source": [
    "x = np.array([1, 2, 3])\n",
    "y = np.array([3, 2, 1])\n",
    "z = [99, 99, 99]\n",
    "np.concatenate([x, y, z])"
   ]
  },
  {
   "cell_type": "markdown",
   "id": "8d3b35fe-bedd-4b69-93f9-f6b3587f582a",
   "metadata": {},
   "source": [
    "使用np.vstack（垂直栈）和np.hstack（水平栈）函数可以合并多维数组"
   ]
  },
  {
   "cell_type": "code",
   "execution_count": 49,
   "id": "b3816616-c134-4a4c-983a-1fb348227bb2",
   "metadata": {},
   "outputs": [
    {
     "data": {
      "text/plain": [
       "array([[1, 2, 3],\n",
       "       [9, 8, 7],\n",
       "       [6, 5, 4]])"
      ]
     },
     "execution_count": 49,
     "metadata": {},
     "output_type": "execute_result"
    }
   ],
   "source": [
    "x = np.array([1, 2, 3])\n",
    "grid = np.array([[9, 8, 7],\n",
    "                 [6, 5, 4]])\n",
    "np.vstack([x, grid])"
   ]
  },
  {
   "cell_type": "code",
   "execution_count": 50,
   "id": "63980054-1c27-4dbd-8dae-b22621c03cc6",
   "metadata": {},
   "outputs": [
    {
     "data": {
      "text/plain": [
       "array([[ 9,  8,  7, 99],\n",
       "       [ 6,  5,  4, 99]])"
      ]
     },
     "execution_count": 50,
     "metadata": {},
     "output_type": "execute_result"
    }
   ],
   "source": [
    "y = np.array([[99],\n",
    "              [99]])\n",
    "grid = np.array([[9, 8, 7],\n",
    "                 [6, 5, 4]])\n",
    "np.hstack([grid, y])"
   ]
  },
  {
   "cell_type": "code",
   "execution_count": 51,
   "id": "a452df04-6720-4df8-a889-95cf112fde26",
   "metadata": {},
   "outputs": [
    {
     "name": "stdout",
     "output_type": "stream",
     "text": [
      "[[4 8 8]\n",
      " [6 9 2]]\n",
      "[4 8 8 6 9 2]\n"
     ]
    }
   ],
   "source": [
    "a=np.array([4, 8, 8])\n",
    "b=np.array([6, 9, 2])\n",
    "print(np.vstack([a, b]))\n",
    "print(np.hstack([a, b]))"
   ]
  },
  {
   "cell_type": "markdown",
   "id": "071ad3d2-5953-4d01-87ef-91f39fed48bb",
   "metadata": {},
   "source": [
    "split 分割一维数组\n",
    "\n",
    "numpy.split 函数沿特定的轴将数组分割为子数组，格式如下： \n",
    "\n",
    "numpy.split(ary, indices_or_sections, axis) \n",
    "\n",
    "参数说明： \n",
    "\n",
    "ary：被分割的数组 \n",
    "\n",
    "indices_or_sections：如果是一个整数，就用该数平均切分，如果是一个数组，为沿轴切分的位置。\n",
    "\n",
    "axis：沿着哪个维度进行切向，默认为0，纵向切分(垂直方向)。为1时，横向切分(水平方向)。axis的值看作是x轴的值，为0时即在y轴上那么就是垂直方向，为1是在x轴上那么久是水平方向。axis=0纵向切分，即对着y轴切开；axis=1横向切分，即对着x轴切开。"
   ]
  },
  {
   "cell_type": "code",
   "execution_count": 52,
   "id": "5aa95f62-5b05-40e2-9184-5e3a4f5d4029",
   "metadata": {},
   "outputs": [
    {
     "name": "stdout",
     "output_type": "stream",
     "text": [
      "[1 2 3 4 5 6 7 8]\n"
     ]
    },
    {
     "data": {
      "text/plain": [
       "[array([1, 2]), array([3, 4]), array([5, 6]), array([7, 8])]"
      ]
     },
     "execution_count": 52,
     "metadata": {},
     "output_type": "execute_result"
    }
   ],
   "source": [
    "x=np.arange(1,9)\n",
    "print(x)\n",
    "a=np.split(x,4) #传递整数4表示平均切分为4等份\n",
    "a"
   ]
  },
  {
   "cell_type": "code",
   "execution_count": 53,
   "id": "c570c954-6ab2-41d6-a4a1-b70dfbf1d2f7",
   "metadata": {},
   "outputs": [
    {
     "name": "stdout",
     "output_type": "stream",
     "text": [
      "[1 2 3] [99 99] [3 2 1]\n"
     ]
    }
   ],
   "source": [
    "x = [1, 2, 3, 99, 99, 3, 2, 1]\n",
    "x1, x2, x3 = np.split(x, [3, 5]) #[3,5]表示将原数组按，索引0-2为一组，3-4为一组，5-末尾为一组切分\n",
    "print(x1, x2, x3)"
   ]
  },
  {
   "cell_type": "code",
   "execution_count": 54,
   "id": "aa49a947-7c99-4259-b358-d825d04f2c4f",
   "metadata": {},
   "outputs": [
    {
     "data": {
      "text/plain": [
       "array([[ 0,  1,  2,  3],\n",
       "       [ 4,  5,  6,  7],\n",
       "       [ 8,  9, 10, 11],\n",
       "       [12, 13, 14, 15]])"
      ]
     },
     "execution_count": 54,
     "metadata": {},
     "output_type": "execute_result"
    }
   ],
   "source": [
    "grid = np.arange(16).reshape((4, 4)) #将一个1到15的整数数列变形为4x4的数列\n",
    "grid"
   ]
  },
  {
   "cell_type": "code",
   "execution_count": 55,
   "id": "d407d35c-b170-4345-b3c9-0f40a7661d4e",
   "metadata": {},
   "outputs": [
    {
     "name": "stdout",
     "output_type": "stream",
     "text": [
      "[[0 1 2 3]\n",
      " [4 5 6 7]]\n",
      "[[ 8  9 10 11]\n",
      " [12 13 14 15]]\n"
     ]
    }
   ],
   "source": [
    "upper, lower = np.vsplit(grid, [2]) #沿横向分裂\n",
    "print(upper)\n",
    "print(lower)"
   ]
  },
  {
   "cell_type": "code",
   "execution_count": 56,
   "id": "7eacbdff-ebc3-455b-9bdb-e5fd2028afd1",
   "metadata": {},
   "outputs": [
    {
     "name": "stdout",
     "output_type": "stream",
     "text": [
      "[[ 0  1]\n",
      " [ 4  5]\n",
      " [ 8  9]\n",
      " [12 13]]\n",
      "[[ 2  3]\n",
      " [ 6  7]\n",
      " [10 11]\n",
      " [14 15]]\n"
     ]
    }
   ],
   "source": [
    "left, right = np.hsplit(grid, [2]) #沿纵向分裂\n",
    "print(left)\n",
    "print(right)"
   ]
  },
  {
   "cell_type": "markdown",
   "id": "f29901c1-40c1-4dae-bef8-4fae6df6cdaf",
   "metadata": {},
   "source": [
    "## NumPy数组的计算：通用函数"
   ]
  },
  {
   "cell_type": "markdown",
   "id": "f0ac6fad-f7e0-4614-bc95-5a6c18ba49c8",
   "metadata": {},
   "source": [
    "NumPy 中的向量操作是通过通用函数实现的。通用函数的主要目的是对NumPy 数组中的值执行更快的重复操作。\n",
    "\n",
    "通用函数有两种存在形式：一元通用函数（unary ufunc）对单个输入操作，二元通用函数（binary ufunc）对两个输入操作。"
   ]
  },
  {
   "cell_type": "markdown",
   "id": "c0a7767f-b240-483e-af20-a966658b9cd4",
   "metadata": {},
   "source": [
    "np.add 加法运算（即1 + 1 = 2）\n",
    "\n",
    "np.subtract 减法运算（即3 - 2 = 1）\n",
    "\n",
    "np.negative 负数运算（ 即 -2）\n",
    "\n",
    "np.multiply 乘法运算（ 即 2 * 3 = 6）\n",
    "\n",
    "np.divide 除法运算（ 即 3 / 2 = 1.5）\n",
    "\n",
    "np.floor_divide 地板除法运算（floor division，即3 // 2 = 1）\n",
    "\n",
    "np.power 指数运算（ 即 2 ** 3 = 8）\n",
    "\n",
    "np.mod 模 / 余数（ 即9 % 4 = 1）\n",
    "\n",
    "np.absolute (np.abs) 绝对值"
   ]
  },
  {
   "cell_type": "code",
   "execution_count": 57,
   "id": "6b1be674-ed23-4f3a-bf43-3a847cfabd36",
   "metadata": {},
   "outputs": [
    {
     "data": {
      "text/plain": [
       "array([0, 1, 2, 3])"
      ]
     },
     "execution_count": 57,
     "metadata": {},
     "output_type": "execute_result"
    }
   ],
   "source": [
    "import numpy as np\n",
    "x=np.arange(4)\n",
    "x"
   ]
  },
  {
   "cell_type": "code",
   "execution_count": 58,
   "id": "615aca75-a7db-4b81-8d66-88ba64a8cc57",
   "metadata": {},
   "outputs": [
    {
     "name": "stdout",
     "output_type": "stream",
     "text": [
      "x + 5 = [5 6 7 8]\n",
      "x * 2 = [0 2 4 6]\n",
      "x ** 2 =  [0 1 4 9]\n",
      "x % 2 =  [0 1 0 1]\n"
     ]
    }
   ],
   "source": [
    "print(\"x + 5 =\", x + 5)\n",
    "print(\"x * 2 =\", x * 2)\n",
    "print(\"x ** 2 = \", x ** 2)\n",
    "print(\"x % 2 = \", x % 2)"
   ]
  },
  {
   "cell_type": "code",
   "execution_count": 59,
   "id": "4165240d-a615-4ea0-91f1-a62ab0935f5d",
   "metadata": {},
   "outputs": [
    {
     "name": "stdout",
     "output_type": "stream",
     "text": [
      "x + 5 = [5 6 7 8]\n",
      "x * 2 = [0 2 4 6]\n",
      "x ** 2 = [0 1 4 9]\n",
      "x % 2 = [0 1 0 1]\n"
     ]
    }
   ],
   "source": [
    "print(\"x + 5 =\",np.add(x, 5))\n",
    "print(\"x * 2 =\",np.multiply(x, 2))\n",
    "print(\"x ** 2 =\",np.power(x, 2))\n",
    "print(\"x % 2 =\",np.mod(x, 2))"
   ]
  },
  {
   "cell_type": "code",
   "execution_count": 60,
   "id": "f4a71ccb-1386-4bea-a56a-c5c230a35c8e",
   "metadata": {},
   "outputs": [
    {
     "data": {
      "text/plain": [
       "array([0, 1, 2, 3])"
      ]
     },
     "execution_count": 60,
     "metadata": {},
     "output_type": "execute_result"
    }
   ],
   "source": [
    "np.abs(-x) #绝对值"
   ]
  },
  {
   "cell_type": "code",
   "execution_count": 61,
   "id": "fbda1e63-fa44-4089-9854-5865839a1b2b",
   "metadata": {},
   "outputs": [
    {
     "name": "stdout",
     "output_type": "stream",
     "text": [
      "[0.         1.57079633 3.14159265]\n",
      "sin(theta) =  [0.0000000e+00 1.0000000e+00 1.2246468e-16]\n",
      "cos(theta) =  [ 1.000000e+00  6.123234e-17 -1.000000e+00]\n",
      "tan(theta) =  [ 0.00000000e+00  1.63312394e+16 -1.22464680e-16]\n"
     ]
    }
   ],
   "source": [
    "#计算三角函数\n",
    "\n",
    "theta = np.linspace(0, np.pi, 3) #定义一个角度数组\n",
    "print(theta)\n",
    "print(\"sin(theta) = \", np.sin(theta))\n",
    "print(\"cos(theta) = \", np.cos(theta))\n",
    "print(\"tan(theta) = \", np.tan(theta))"
   ]
  },
  {
   "cell_type": "code",
   "execution_count": 62,
   "id": "aa328121-140d-478e-a007-9c43e557bc29",
   "metadata": {},
   "outputs": [
    {
     "name": "stdout",
     "output_type": "stream",
     "text": [
      "x = [1, 2, 3]\n",
      "e^x = [ 2.71828183  7.3890561  20.08553692]\n",
      "2^x = [2. 4. 8.]\n",
      "3^x = [ 3  9 27]\n"
     ]
    }
   ],
   "source": [
    "#指数运算\n",
    "\n",
    "x = [1, 2, 3]\n",
    "print(\"x =\", x)\n",
    "print(\"e^x =\", np.exp(x))\n",
    "print(\"2^x =\", np.exp2(x))\n",
    "print(\"3^x =\", np.power(3, x))"
   ]
  },
  {
   "cell_type": "code",
   "execution_count": 63,
   "id": "7cc488b1-7ee5-4d72-ab0b-8f80948a5606",
   "metadata": {},
   "outputs": [
    {
     "name": "stdout",
     "output_type": "stream",
     "text": [
      "x = [1, 2, 4, 10]\n",
      "ln(x) = [0.         0.69314718 1.38629436 2.30258509]\n",
      "log2(x) = [0.         1.         2.         3.32192809]\n",
      "log10(x) = [0.         0.30103    0.60205999 1.        ]\n"
     ]
    }
   ],
   "source": [
    "x = [1, 2, 4, 10]\n",
    "print(\"x =\", x)\n",
    "print(\"ln(x) =\", np.log(x))\n",
    "print(\"log2(x) =\", np.log2(x))\n",
    "print(\"log10(x) =\", np.log10(x))"
   ]
  },
  {
   "cell_type": "markdown",
   "id": "1815c9f2-8ea3-4495-8407-1401fb37b787",
   "metadata": {},
   "source": [
    "除了以上介绍到的，NumPy 还提供了很多通用函数，包括双曲三角函数、比特位运算、比较运算符、弧度转化为角度的运算、取整和求余运算，等等。浏览NumPy 的文档将会揭示很多有趣的功能。\n",
    "\n",
    "还有一个更加专用，也更加晦涩的通用函数优异来源是子模块scipy.special。如果你希望对你的数据进行一些更晦涩的数学计算，scipy.special 可能包含了你需要的计算函数。这些函数能列一个长长的列表"
   ]
  },
  {
   "cell_type": "code",
   "execution_count": 64,
   "id": "cc799ad5-e3b2-4ab0-9fd7-0158e7054392",
   "metadata": {},
   "outputs": [
    {
     "name": "stdout",
     "output_type": "stream",
     "text": [
      "15\n",
      "120\n",
      "[ 1  3  6 10 15]\n",
      "[  1   2   6  24 120]\n"
     ]
    }
   ],
   "source": [
    "#聚合 \n",
    "\n",
    "x = np.arange(1, 6)\n",
    "print(np.add.reduce(x)) #对add通用函数调用reduce方法会返回数组中所有元素的和\n",
    "print(np.multiply.reduce(x)) #对multiply通用函数调用reduce方法会返回数组中所有元素的乘积\n",
    "\n",
    "#如果需要存储每次计算的中间结果，可以使用accumulate：\n",
    "print(np.add.accumulate(x)) \n",
    "print(np.multiply.accumulate(x))"
   ]
  },
  {
   "cell_type": "code",
   "execution_count": 65,
   "id": "e71c81ca-1a2f-499a-86e8-bf3b387fcd6e",
   "metadata": {},
   "outputs": [
    {
     "data": {
      "text/plain": [
       "array([[ 1,  2,  3,  4,  5,  6,  7,  8,  9],\n",
       "       [ 2,  4,  6,  8, 10, 12, 14, 16, 18],\n",
       "       [ 3,  6,  9, 12, 15, 18, 21, 24, 27],\n",
       "       [ 4,  8, 12, 16, 20, 24, 28, 32, 36],\n",
       "       [ 5, 10, 15, 20, 25, 30, 35, 40, 45],\n",
       "       [ 6, 12, 18, 24, 30, 36, 42, 48, 54],\n",
       "       [ 7, 14, 21, 28, 35, 42, 49, 56, 63],\n",
       "       [ 8, 16, 24, 32, 40, 48, 56, 64, 72],\n",
       "       [ 9, 18, 27, 36, 45, 54, 63, 72, 81]])"
      ]
     },
     "execution_count": 65,
     "metadata": {},
     "output_type": "execute_result"
    }
   ],
   "source": [
    "#外积\n",
    "#两行代码生成九九乘法表的结果\n",
    "\n",
    "x = np.arange(1, 10)\n",
    "np.multiply.outer(x, x)"
   ]
  },
  {
   "cell_type": "markdown",
   "id": "0f98bb9a-f79f-42d3-86c9-a4f458718f57",
   "metadata": {},
   "source": [
    "## 聚合：最小值、最大值和其他值"
   ]
  },
  {
   "cell_type": "markdown",
   "id": "d9d5a5c2-1ddd-4810-8c51-38c2e4331ccb",
   "metadata": {},
   "source": [
    "np.sum  计算元素的和\n",
    "\n",
    "np.min  找出最小值\n",
    "\n",
    "np.max  找出最大值\n",
    "\n",
    "np.argmin  找出最小值的索引\n",
    "\n",
    "np.argmax  找出最大值的索引\n",
    "\n",
    "np.prod 计算元素的积\n",
    "\n",
    "np.mean 计算元素的平均值\n",
    "\n",
    "np.median 计算元素的中位数\n",
    "\n",
    "np.std 计算元素的标准差\n",
    "\n",
    "np.var 计算元素的方差"
   ]
  },
  {
   "cell_type": "code",
   "execution_count": 66,
   "id": "ade8fdeb-abe3-4823-800f-76d52855108e",
   "metadata": {},
   "outputs": [
    {
     "name": "stdout",
     "output_type": "stream",
     "text": [
      "52.12818058833704\n",
      "52.12818058833702\n"
     ]
    }
   ],
   "source": [
    "import numpy as np\n",
    "L = np.random.random(100)\n",
    "print(sum(L)) #python内置的求和\n",
    "print(np.sum(L)) #np数组的求和"
   ]
  },
  {
   "cell_type": "code",
   "execution_count": 67,
   "id": "8639ce3a-401f-4438-8dc7-23c0afbeb755",
   "metadata": {},
   "outputs": [
    {
     "name": "stdout",
     "output_type": "stream",
     "text": [
      "[[0.16684751 0.77905102 0.8649333 ]\n",
      " [0.41139672 0.13997259 0.03322239]]\n"
     ]
    }
   ],
   "source": [
    "M = np.random.random((2, 3))\n",
    "print(M)"
   ]
  },
  {
   "cell_type": "code",
   "execution_count": 68,
   "id": "e90d70c9-ba77-4c50-bcc3-3e6e3cf27148",
   "metadata": {},
   "outputs": [
    {
     "name": "stdout",
     "output_type": "stream",
     "text": [
      "0.8649332956024927\n",
      "[0.16684751 0.13997259 0.03322239]\n",
      "[0.8649333  0.41139672]\n"
     ]
    }
   ],
   "source": [
    "print(M.max()) #默认情况下，NumPy聚合函数会返回对整个数组的聚合结果\n",
    "print(M.min(axis=0)) #聚合函数还有一个参数，用于指定沿着哪个轴的方向进行聚合。例如，可以通过指定axis=0 找到每一列的最小值\n",
    "print(M.max(axis=1)) #通过指定axis=1找到每一行的最大值\n",
    "\n",
    "#axis=0 意味着第一个轴将要被折叠————对于二维数组，这意味着每一列的值都将被聚合\n",
    "#axis=1 意味着第二个轴将要被折叠———对于二维数组，这意味着每一行的值都将被聚合"
   ]
  },
  {
   "cell_type": "markdown",
   "id": "9078c436-ef0b-4851-a0ff-49665d139bd2",
   "metadata": {},
   "source": [
    "NumPy 提供了很多其他聚合函数，但是这里不会详细地介绍它们。另外，大多数的聚合都有对NaN 值的安全处理策略（NaN-safe），即计算时忽略所有的缺失值。例如，np.sum的安全函数为np.nansum, 规律都是在函数前加上‘nan’。"
   ]
  },
  {
   "cell_type": "markdown",
   "id": "d12e4375-dca8-4d2f-8e70-32b692bac54d",
   "metadata": {},
   "source": [
    "python读取文件报错(unicode error) 'unicodeescape' codec can't decode bytes in position 2-3: truncated \\UXXXXXXXX escape，解决方法参考：https://www.cnblogs.com/rychh/p/9743864.html\n",
    "\n",
    "1、在路径前加上r；2、将一个反斜杠(\\)写成两个(\\\\)，改为绝对路径"
   ]
  },
  {
   "cell_type": "code",
   "execution_count": 69,
   "id": "1d05ba0f-1412-4602-af64-6480189b66f1",
   "metadata": {},
   "outputs": [
    {
     "data": {
      "text/html": [
       "<div>\n",
       "<style scoped>\n",
       "    .dataframe tbody tr th:only-of-type {\n",
       "        vertical-align: middle;\n",
       "    }\n",
       "\n",
       "    .dataframe tbody tr th {\n",
       "        vertical-align: top;\n",
       "    }\n",
       "\n",
       "    .dataframe thead th {\n",
       "        text-align: right;\n",
       "    }\n",
       "</style>\n",
       "<table border=\"1\" class=\"dataframe\">\n",
       "  <thead>\n",
       "    <tr style=\"text-align: right;\">\n",
       "      <th></th>\n",
       "      <th>order</th>\n",
       "      <th>name</th>\n",
       "      <th>height(cm)</th>\n",
       "    </tr>\n",
       "  </thead>\n",
       "  <tbody>\n",
       "    <tr>\n",
       "      <th>0</th>\n",
       "      <td>1</td>\n",
       "      <td>George Washington</td>\n",
       "      <td>189</td>\n",
       "    </tr>\n",
       "    <tr>\n",
       "      <th>1</th>\n",
       "      <td>2</td>\n",
       "      <td>John Adams</td>\n",
       "      <td>170</td>\n",
       "    </tr>\n",
       "    <tr>\n",
       "      <th>2</th>\n",
       "      <td>3</td>\n",
       "      <td>Thomas Jefferson</td>\n",
       "      <td>189</td>\n",
       "    </tr>\n",
       "    <tr>\n",
       "      <th>3</th>\n",
       "      <td>4</td>\n",
       "      <td>James Madison</td>\n",
       "      <td>163</td>\n",
       "    </tr>\n",
       "    <tr>\n",
       "      <th>4</th>\n",
       "      <td>5</td>\n",
       "      <td>James Monroe</td>\n",
       "      <td>183</td>\n",
       "    </tr>\n",
       "  </tbody>\n",
       "</table>\n",
       "</div>"
      ],
      "text/plain": [
       "   order               name  height(cm)\n",
       "0      1  George Washington         189\n",
       "1      2         John Adams         170\n",
       "2      3   Thomas Jefferson         189\n",
       "3      4      James Madison         163\n",
       "4      5       James Monroe         183"
      ]
     },
     "execution_count": 69,
     "metadata": {},
     "output_type": "execute_result"
    }
   ],
   "source": [
    "import pandas as pd\n",
    "import numpy as np\n",
    "\n",
    "filepath='C:\\\\Users\\\\12297\\\\python学习\\\\python数据分析\\\\python数据科学\\\\data\\\\president_heights.csv'\n",
    "df = pd.read_csv(filepath)\n",
    "df.head()"
   ]
  },
  {
   "cell_type": "markdown",
   "id": "046767b1-b594-47ab-a459-8fcc3c7cd596",
   "metadata": {},
   "source": [
    "另一种写法：filepath=r'C:\\Users\\12297\\python学习\\python数据分析\\python数据科学\\data\\president_heights.csv'"
   ]
  },
  {
   "cell_type": "code",
   "execution_count": 70,
   "id": "05098151-1c8a-420f-bb45-60a3e6657b75",
   "metadata": {},
   "outputs": [
    {
     "name": "stdout",
     "output_type": "stream",
     "text": [
      "[189 170 189 163 183 171 185 168 173 183 173 173 175 178 183 193 178 173\n",
      " 174 183 183 168 170 178 182 180 183 178 182 188 175 179 183 193 182 183\n",
      " 177 185 188 188 182 185] \n",
      "\n",
      "平均身高:  179.73809523809524\n",
      "身高标准差: 6.931843442745892\n",
      "身高最小值:  163\n",
      "身高最大值:  193\n",
      "身高25分位数:  174.25\n",
      "身高中位数:  182.0\n",
      "身高75分位数:   183.0\n"
     ]
    }
   ],
   "source": [
    "heights = np.array(df['height(cm)'])\n",
    "print(heights,'\\n')\n",
    "\n",
    "print(\"平均身高: \", heights.mean())\n",
    "print(\"身高标准差:\", heights.std())\n",
    "print(\"身高最小值: \", heights.min())\n",
    "print(\"身高最大值: \", heights.max())\n",
    "print(\"身高25分位数: \", np.percentile(heights, 25))\n",
    "print(\"身高中位数: \", np.median(heights))\n",
    "print(\"身高75分位数:  \", np.percentile(heights, 75))"
   ]
  },
  {
   "cell_type": "code",
   "execution_count": 71,
   "id": "ffbb66ff-6bcf-4e69-97f2-8ed852f010f0",
   "metadata": {},
   "outputs": [
    {
     "data": {
      "text/plain": [
       "Text(0, 0.5, 'number')"
      ]
     },
     "execution_count": 71,
     "metadata": {},
     "output_type": "execute_result"
    },
    {
     "data": {
      "image/png": "[encoded data removed]",
      "text/plain": [
       "<Figure size 432x288 with 1 Axes>"
      ]
     },
     "metadata": {},
     "output_type": "display_data"
    }
   ],
   "source": [
    "import matplotlib.pyplot as plt\n",
    "import seaborn; seaborn.set()\n",
    "\n",
    "plt.hist(heights)\n",
    "plt.title('Height Distribution of US Presidents')\n",
    "plt.xlabel('height (cm)')\n",
    "plt.ylabel('number')"
   ]
  },
  {
   "cell_type": "markdown",
   "id": "d863f785-aba6-4b45-8db4-623654d74714",
   "metadata": {
    "tags": []
   },
   "source": [
    "## 数组的计算：广播"
   ]
  },
  {
   "cell_type": "code",
   "execution_count": 72,
   "id": "28c29f71-2358-4589-a6a4-a3aafdac4b34",
   "metadata": {},
   "outputs": [
    {
     "name": "stdout",
     "output_type": "stream",
     "text": [
      "[0 1 2]\n",
      "[[0]\n",
      " [1]\n",
      " [2]]\n"
     ]
    }
   ],
   "source": [
    "a = np.arange(3)\n",
    "b = np.arange(3)[:, np.newaxis]\n",
    "print(a)\n",
    "print(b)"
   ]
  },
  {
   "cell_type": "code",
   "execution_count": 73,
   "id": "dd111e05-e48c-462d-b6bd-d11501117ca2",
   "metadata": {},
   "outputs": [
    {
     "data": {
      "text/plain": [
       "array([[0, 1, 2],\n",
       "       [1, 2, 3],\n",
       "       [2, 3, 4]])"
      ]
     },
     "execution_count": 73,
     "metadata": {},
     "output_type": "execute_result"
    }
   ],
   "source": [
    "a + b"
   ]
  },
  {
   "cell_type": "markdown",
   "id": "a4cd5b5c-db6c-4154-b34a-1f352e2c6f7b",
   "metadata": {},
   "source": [
    "数组的广播模式，大概可以从下面的图片中去理解，可以理解为是自动按最多维补齐后相加。"
   ]
  },
  {
   "attachments": {
    "9fc163fd-1803-4a56-9eec-6ed6abcca3fe.png": {
     "image/png": "[encoded data removed]"
    }
   },
   "cell_type": "markdown",
   "id": "667b0126-a74d-4552-bae7-e67455ccff48",
   "metadata": {},
   "source": [
    "![image.png](attachment:9fc163fd-1803-4a56-9eec-6ed6abcca3fe.png)"
   ]
  },
  {
   "cell_type": "markdown",
   "id": "353312f8-c94e-4f91-95aa-d283bc7ee6ac",
   "metadata": {},
   "source": [
    "NumPy 的广播遵循一组严格的规则，设定这组规则是为了决定两个数组间的操作。\n",
    "\n",
    "• 规则1：如果两个数组的维度数不相同，那么小维度数组的形状将会在最左边补1。\n",
    "\n",
    "• 规则2：如果两个数组的形状在任何一个维度上都不匹配，那么数组的形状会沿着维度为1 的维度扩展以匹配另外一个数组的形状。\n",
    "\n",
    "• 规则3：如果两个数组的形状在任何一个维度上都不匹配并且没有任何一个维度等于1，那么会引发异常。"
   ]
  },
  {
   "cell_type": "code",
   "execution_count": 74,
   "id": "33375478-dc71-4fbe-91b8-8da265539756",
   "metadata": {},
   "outputs": [
    {
     "name": "stdout",
     "output_type": "stream",
     "text": [
      "[[1 1 1]\n",
      " [1 1 1]] \n",
      "\n",
      "[0 1 2] \n",
      "\n",
      "[[1 2 3]\n",
      " [1 2 3]]\n"
     ]
    }
   ],
   "source": [
    "M = np.ones((2, 3),dtype='int32' )\n",
    "a = np.arange(3)\n",
    "print(M, '\\n')\n",
    "print(a, '\\n')\n",
    "print(M+a)"
   ]
  },
  {
   "cell_type": "code",
   "execution_count": 75,
   "id": "8513691f-65f0-455d-a804-558ecc00b345",
   "metadata": {},
   "outputs": [
    {
     "name": "stdout",
     "output_type": "stream",
     "text": [
      "[[0]\n",
      " [1]\n",
      " [2]] \n",
      "\n",
      "[0 1 2] \n",
      "\n",
      "[[0 1 2]\n",
      " [1 2 3]\n",
      " [2 3 4]]\n"
     ]
    }
   ],
   "source": [
    "a = np.arange(3).reshape((3, 1))\n",
    "b = np.arange(3)\n",
    "print(a, '\\n')\n",
    "print(b, '\\n')\n",
    "print(a+b)"
   ]
  },
  {
   "cell_type": "code",
   "execution_count": 76,
   "id": "ea329299-c668-458a-8bd6-6ce96ce023d9",
   "metadata": {},
   "outputs": [
    {
     "name": "stdout",
     "output_type": "stream",
     "text": [
      "[[1 1]\n",
      " [1 1]\n",
      " [1 1]] \n",
      "\n",
      "[0 1 2] \n",
      "\n"
     ]
    },
    {
     "data": {
      "text/plain": [
       "array([[0],\n",
       "       [1],\n",
       "       [2]])"
      ]
     },
     "execution_count": 76,
     "metadata": {},
     "output_type": "execute_result"
    }
   ],
   "source": [
    "c = np.ones((3, 2),dtype='int32' )\n",
    "d = np.arange(3)\n",
    "print(c, '\\n')\n",
    "print(d, '\\n')\n",
    "d[:, np.newaxis,] #np.newaxis的作用就是在这一位置增加一个一维，这一位置指的是np.newaxis所在的位置"
   ]
  },
  {
   "cell_type": "code",
   "execution_count": 77,
   "id": "0665bd6c-e45c-426e-a004-5476c6ef06d7",
   "metadata": {},
   "outputs": [
    {
     "name": "stdout",
     "output_type": "stream",
     "text": [
      "[[1 1]\n",
      " [2 2]\n",
      " [3 3]]\n"
     ]
    }
   ],
   "source": [
    "print(c + d[:, np.newaxis]) #np.newaxis的作用就是在这一位置增加一个一维，这一位置指的是np.newaxis所在的位置"
   ]
  },
  {
   "cell_type": "markdown",
   "id": "face90ea-0bbe-48b5-8558-32e70ae05df3",
   "metadata": {},
   "source": [
    "### $\\color{#FF3030}{数组的归一化？不理解}$"
   ]
  },
  {
   "cell_type": "code",
   "execution_count": 78,
   "id": "f0c29bb1-0f59-4a27-a777-4e834293a544",
   "metadata": {},
   "outputs": [
    {
     "name": "stdout",
     "output_type": "stream",
     "text": [
      "[[0.98257496 0.37329075 0.42007537]\n",
      " [0.05058812 0.36549611 0.01662797]\n",
      " [0.23074234 0.7649117  0.94412352]\n",
      " [0.74999925 0.33940382 0.48954894]\n",
      " [0.33898512 0.17949026 0.1709866 ]\n",
      " [0.46345098 0.87457296 0.94411975]\n",
      " [0.60825287 0.59665541 0.78364425]\n",
      " [0.5000263  0.05037006 0.69909807]\n",
      " [0.9923964  0.26726254 0.67909062]\n",
      " [0.86428144 0.75084425 0.96448977]]\n"
     ]
    },
    {
     "data": {
      "text/plain": [
       "array([0.57812978, 0.45622978, 0.61118049])"
      ]
     },
     "execution_count": 78,
     "metadata": {},
     "output_type": "execute_result"
    }
   ],
   "source": [
    "X = np.random.random((10, 3))\n",
    "print(X)\n",
    "Xmean = X.mean(0)\n",
    "Xmean"
   ]
  },
  {
   "cell_type": "code",
   "execution_count": 79,
   "id": "fd87037f-826a-4c64-a5b1-e9ba745ce349",
   "metadata": {},
   "outputs": [
    {
     "data": {
      "text/plain": [
       "array([-8.88178420e-17, -2.22044605e-17, -1.11022302e-17])"
      ]
     },
     "execution_count": 79,
     "metadata": {},
     "output_type": "execute_result"
    }
   ],
   "source": [
    "X_centered = X - Xmean\n",
    "X_centered.mean(0)"
   ]
  },
  {
   "cell_type": "markdown",
   "id": "b00a91af-d015-4ca7-9d80-19990efb5e6c",
   "metadata": {},
   "source": [
    "### $\\color{#FF3030}{画一个二维函数？不理解}$"
   ]
  },
  {
   "cell_type": "code",
   "execution_count": 80,
   "id": "d9ecc44c-7b80-4b85-ab34-486c9aa9fade",
   "metadata": {},
   "outputs": [],
   "source": [
    "# x和y表示0~5区间50个步长的序列\n",
    "x = np.linspace(0, 5, 50)\n",
    "y = np.linspace(0, 5, 50)[:, np.newaxis]\n",
    "z = np.sin(x) ** 10 + np.cos(10 + y * x) * np.cos(x)"
   ]
  },
  {
   "cell_type": "code",
   "execution_count": 81,
   "id": "4505ddc4-39c8-4dfc-bdce-b921b9a41168",
   "metadata": {},
   "outputs": [
    {
     "name": "stderr",
     "output_type": "stream",
     "text": [
      "C:\\Users\\12297\\AppData\\Local\\Temp/ipykernel_8204/3242533819.py:4: MatplotlibDeprecationWarning: Auto-removal of grids by pcolor() and pcolormesh() is deprecated since 3.5 and will be removed two minor releases later; please call grid(False) first.\n",
      "  plt.colorbar()\n"
     ]
    },
    {
     "data": {
      "text/plain": [
       "<matplotlib.colorbar.Colorbar at 0x2acc3dcdd00>"
      ]
     },
     "execution_count": 81,
     "metadata": {},
     "output_type": "execute_result"
    },
    {
     "data": {
      "image/png": "[encoded data removed]",
      "text/plain": [
       "<Figure size 432x288 with 2 Axes>"
      ]
     },
     "metadata": {},
     "output_type": "display_data"
    }
   ],
   "source": [
    "import matplotlib.pyplot as plt\n",
    "\n",
    "plt.imshow(z, origin='lower', extent=[0, 5, 0, 5],cmap='viridis')\n",
    "plt.colorbar()"
   ]
  },
  {
   "cell_type": "markdown",
   "id": "7e828145-ab3f-46da-982b-be373474a175",
   "metadata": {
    "tags": []
   },
   "source": [
    "## 比较、掩码和布尔逻辑"
   ]
  },
  {
   "cell_type": "markdown",
   "id": "6cd06ffd-229c-4c78-ae38-c7ea413b3bf5",
   "metadata": {},
   "source": [
    "### 示例：统计下雨天数"
   ]
  },
  {
   "cell_type": "markdown",
   "id": "9a725623-20b9-4139-a515-37f8f99d5a7b",
   "metadata": {},
   "source": [
    "当你想基于某些准则来抽取、修改、计数或对一个数组中的值进行其他操作时，掩码就可以派上用场了。例如你可能希望统计数组中有多少值大于某一个给定值，或者删除所有超出某些门限值的异常点。在NumPy 中，布尔掩码通常是完成这类任务的最高效方式"
   ]
  },
  {
   "cell_type": "code",
   "execution_count": 82,
   "id": "5486736c-b613-4084-afb3-1556528fcb59",
   "metadata": {},
   "outputs": [
    {
     "data": {
      "text/html": [
       "<div>\n",
       "<style scoped>\n",
       "    .dataframe tbody tr th:only-of-type {\n",
       "        vertical-align: middle;\n",
       "    }\n",
       "\n",
       "    .dataframe tbody tr th {\n",
       "        vertical-align: top;\n",
       "    }\n",
       "\n",
       "    .dataframe thead th {\n",
       "        text-align: right;\n",
       "    }\n",
       "</style>\n",
       "<table border=\"1\" class=\"dataframe\">\n",
       "  <thead>\n",
       "    <tr style=\"text-align: right;\">\n",
       "      <th></th>\n",
       "      <th>STATION</th>\n",
       "      <th>STATION_NAME</th>\n",
       "      <th>DATE</th>\n",
       "      <th>PRCP</th>\n",
       "      <th>SNWD</th>\n",
       "      <th>SNOW</th>\n",
       "      <th>TMAX</th>\n",
       "      <th>TMIN</th>\n",
       "      <th>AWND</th>\n",
       "      <th>WDF2</th>\n",
       "      <th>WDF5</th>\n",
       "      <th>WSF2</th>\n",
       "      <th>WSF5</th>\n",
       "      <th>WT01</th>\n",
       "      <th>WT05</th>\n",
       "      <th>WT02</th>\n",
       "      <th>WT03</th>\n",
       "    </tr>\n",
       "  </thead>\n",
       "  <tbody>\n",
       "    <tr>\n",
       "      <th>0</th>\n",
       "      <td>GHCND:USW00024233</td>\n",
       "      <td>SEATTLE TACOMA INTERNATIONAL AIRPORT WA US</td>\n",
       "      <td>20140101</td>\n",
       "      <td>0</td>\n",
       "      <td>0</td>\n",
       "      <td>0</td>\n",
       "      <td>72</td>\n",
       "      <td>33</td>\n",
       "      <td>12</td>\n",
       "      <td>340</td>\n",
       "      <td>310</td>\n",
       "      <td>36</td>\n",
       "      <td>40</td>\n",
       "      <td>-9999</td>\n",
       "      <td>-9999</td>\n",
       "      <td>-9999</td>\n",
       "      <td>-9999</td>\n",
       "    </tr>\n",
       "    <tr>\n",
       "      <th>1</th>\n",
       "      <td>GHCND:USW00024233</td>\n",
       "      <td>SEATTLE TACOMA INTERNATIONAL AIRPORT WA US</td>\n",
       "      <td>20140102</td>\n",
       "      <td>41</td>\n",
       "      <td>0</td>\n",
       "      <td>0</td>\n",
       "      <td>106</td>\n",
       "      <td>61</td>\n",
       "      <td>32</td>\n",
       "      <td>190</td>\n",
       "      <td>200</td>\n",
       "      <td>94</td>\n",
       "      <td>116</td>\n",
       "      <td>-9999</td>\n",
       "      <td>-9999</td>\n",
       "      <td>-9999</td>\n",
       "      <td>-9999</td>\n",
       "    </tr>\n",
       "    <tr>\n",
       "      <th>2</th>\n",
       "      <td>GHCND:USW00024233</td>\n",
       "      <td>SEATTLE TACOMA INTERNATIONAL AIRPORT WA US</td>\n",
       "      <td>20140103</td>\n",
       "      <td>15</td>\n",
       "      <td>0</td>\n",
       "      <td>0</td>\n",
       "      <td>89</td>\n",
       "      <td>28</td>\n",
       "      <td>26</td>\n",
       "      <td>30</td>\n",
       "      <td>50</td>\n",
       "      <td>63</td>\n",
       "      <td>72</td>\n",
       "      <td>1</td>\n",
       "      <td>-9999</td>\n",
       "      <td>-9999</td>\n",
       "      <td>-9999</td>\n",
       "    </tr>\n",
       "    <tr>\n",
       "      <th>3</th>\n",
       "      <td>GHCND:USW00024233</td>\n",
       "      <td>SEATTLE TACOMA INTERNATIONAL AIRPORT WA US</td>\n",
       "      <td>20140104</td>\n",
       "      <td>0</td>\n",
       "      <td>0</td>\n",
       "      <td>0</td>\n",
       "      <td>78</td>\n",
       "      <td>6</td>\n",
       "      <td>27</td>\n",
       "      <td>40</td>\n",
       "      <td>40</td>\n",
       "      <td>45</td>\n",
       "      <td>58</td>\n",
       "      <td>1</td>\n",
       "      <td>-9999</td>\n",
       "      <td>-9999</td>\n",
       "      <td>-9999</td>\n",
       "    </tr>\n",
       "    <tr>\n",
       "      <th>4</th>\n",
       "      <td>GHCND:USW00024233</td>\n",
       "      <td>SEATTLE TACOMA INTERNATIONAL AIRPORT WA US</td>\n",
       "      <td>20140105</td>\n",
       "      <td>0</td>\n",
       "      <td>0</td>\n",
       "      <td>0</td>\n",
       "      <td>83</td>\n",
       "      <td>-5</td>\n",
       "      <td>37</td>\n",
       "      <td>10</td>\n",
       "      <td>10</td>\n",
       "      <td>67</td>\n",
       "      <td>76</td>\n",
       "      <td>-9999</td>\n",
       "      <td>-9999</td>\n",
       "      <td>-9999</td>\n",
       "      <td>-9999</td>\n",
       "    </tr>\n",
       "  </tbody>\n",
       "</table>\n",
       "</div>"
      ],
      "text/plain": [
       "             STATION                                STATION_NAME      DATE  \\\n",
       "0  GHCND:USW00024233  SEATTLE TACOMA INTERNATIONAL AIRPORT WA US  20140101   \n",
       "1  GHCND:USW00024233  SEATTLE TACOMA INTERNATIONAL AIRPORT WA US  20140102   \n",
       "2  GHCND:USW00024233  SEATTLE TACOMA INTERNATIONAL AIRPORT WA US  20140103   \n",
       "3  GHCND:USW00024233  SEATTLE TACOMA INTERNATIONAL AIRPORT WA US  20140104   \n",
       "4  GHCND:USW00024233  SEATTLE TACOMA INTERNATIONAL AIRPORT WA US  20140105   \n",
       "\n",
       "   PRCP  SNWD  SNOW  TMAX  TMIN  AWND  WDF2  WDF5  WSF2  WSF5  WT01  WT05  \\\n",
       "0     0     0     0    72    33    12   340   310    36    40 -9999 -9999   \n",
       "1    41     0     0   106    61    32   190   200    94   116 -9999 -9999   \n",
       "2    15     0     0    89    28    26    30    50    63    72     1 -9999   \n",
       "3     0     0     0    78     6    27    40    40    45    58     1 -9999   \n",
       "4     0     0     0    83    -5    37    10    10    67    76 -9999 -9999   \n",
       "\n",
       "   WT02  WT03  \n",
       "0 -9999 -9999  \n",
       "1 -9999 -9999  \n",
       "2 -9999 -9999  \n",
       "3 -9999 -9999  \n",
       "4 -9999 -9999  "
      ]
     },
     "execution_count": 82,
     "metadata": {},
     "output_type": "execute_result"
    }
   ],
   "source": [
    "import numpy as np\n",
    "import pandas as pd\n",
    "\n",
    "filepath='C:\\\\Users\\\\12297\\\\python学习\\\\python数据分析\\\\python数据科学\\\\data\\\\Seattle2014.csv'\n",
    "rainfall = pd.read_csv(filepath)\n",
    "rainfall.head()"
   ]
  },
  {
   "cell_type": "code",
   "execution_count": 83,
   "id": "4a5acf1b-1cb6-404e-97d6-418021622120",
   "metadata": {},
   "outputs": [
    {
     "data": {
      "text/plain": [
       "(365,)"
      ]
     },
     "execution_count": 83,
     "metadata": {},
     "output_type": "execute_result"
    }
   ],
   "source": [
    "import matplotlib.pyplot as plt\n",
    "\n",
    "rainfall = pd.read_csv(filepath)['PRCP'].values #利用Pandas抽取降雨量，放入一个NumPy数组\n",
    "inches = rainfall / 254\n",
    "inches.shape"
   ]
  },
  {
   "cell_type": "code",
   "execution_count": 84,
   "id": "72e15882-3c1a-4e51-a393-b10112b27b71",
   "metadata": {},
   "outputs": [
    {
     "data": {
      "image/png": "[encoded data removed]",
      "text/plain": [
       "<Figure size 432x288 with 1 Axes>"
      ]
     },
     "metadata": {},
     "output_type": "display_data"
    }
   ],
   "source": [
    "plt.hist(inches, 40);"
   ]
  },
  {
   "cell_type": "markdown",
   "id": "acc7304a-f08d-431e-85da-4e80d919cb14",
   "metadata": {},
   "source": [
    "### 和通用函数类似的比较操作"
   ]
  },
  {
   "cell_type": "code",
   "execution_count": 85,
   "id": "49e46bd9-9525-43d3-af38-bddce6a86a77",
   "metadata": {},
   "outputs": [],
   "source": [
    "x = np.array([1, 2, 3, 4, 5])"
   ]
  },
  {
   "cell_type": "code",
   "execution_count": 86,
   "id": "0152bd17-af9c-43a0-a236-73ae222ab2ee",
   "metadata": {},
   "outputs": [
    {
     "data": {
      "text/plain": [
       "array([ True,  True,  True, False, False])"
      ]
     },
     "execution_count": 86,
     "metadata": {},
     "output_type": "execute_result"
    }
   ],
   "source": [
    "x <= 3"
   ]
  },
  {
   "cell_type": "code",
   "execution_count": 87,
   "id": "160c393f-7c2f-4d88-a6fb-eb2c4871dc5f",
   "metadata": {},
   "outputs": [
    {
     "data": {
      "text/plain": [
       "array([ True,  True, False,  True,  True])"
      ]
     },
     "execution_count": 87,
     "metadata": {},
     "output_type": "execute_result"
    }
   ],
   "source": [
    "x != 3"
   ]
  },
  {
   "cell_type": "code",
   "execution_count": 88,
   "id": "c2c9fc85-6025-4200-812c-ac304461df4c",
   "metadata": {},
   "outputs": [
    {
     "data": {
      "text/plain": [
       "array([False,  True, False, False, False])"
      ]
     },
     "execution_count": 88,
     "metadata": {},
     "output_type": "execute_result"
    }
   ],
   "source": [
    "(2 * x) == (x ** 2)"
   ]
  },
  {
   "cell_type": "code",
   "execution_count": 89,
   "id": "8d80621a-7991-4f45-9149-f2a82cc66a19",
   "metadata": {},
   "outputs": [
    {
     "name": "stdout",
     "output_type": "stream",
     "text": [
      "[[5 0 3 3]\n",
      " [7 9 3 5]\n",
      " [2 4 7 6]]\n",
      "[[False  True  True  True]\n",
      " [False False  True False]\n",
      " [ True False False False]]\n"
     ]
    }
   ],
   "source": [
    "rng = np.random.RandomState(0) #通过numpy工具包生成模拟数据集，使用RandomState获得随机数生成器\n",
    "\n",
    "x = rng.randint(10, size=(3, 4))\n",
    "print(x)\n",
    "print(x < 4)"
   ]
  },
  {
   "cell_type": "code",
   "execution_count": 90,
   "id": "c4bbd378-be6c-44c1-b6d0-539fbc9415ae",
   "metadata": {},
   "outputs": [
    {
     "data": {
      "text/plain": [
       "5"
      ]
     },
     "execution_count": 90,
     "metadata": {},
     "output_type": "execute_result"
    }
   ],
   "source": [
    "np.count_nonzero(x < 4) #有多少值小于 4？"
   ]
  },
  {
   "cell_type": "code",
   "execution_count": 91,
   "id": "335892a6-3fb6-404d-94a2-02a0093b85ec",
   "metadata": {},
   "outputs": [
    {
     "data": {
      "text/plain": [
       "array([1, 1, 2, 1])"
      ]
     },
     "execution_count": 91,
     "metadata": {},
     "output_type": "execute_result"
    }
   ],
   "source": [
    "np.sum(x < 4, axis=0) # 每列有多少值小于 4？"
   ]
  },
  {
   "cell_type": "code",
   "execution_count": 92,
   "id": "d1ee8f1c-719e-4d72-9bb9-733000d1c766",
   "metadata": {},
   "outputs": [
    {
     "data": {
      "text/plain": [
       "array([3, 1, 1])"
      ]
     },
     "execution_count": 92,
     "metadata": {},
     "output_type": "execute_result"
    }
   ],
   "source": [
    "np.sum(x < 4, axis=1) # 每行有多少值小于 4？"
   ]
  },
  {
   "cell_type": "markdown",
   "id": "cc9377a0-bf39-4f9d-acb5-bea07bbe82f3",
   "metadata": {},
   "source": [
    "要快速检查任意或者所有这些值是否为True，可以用np.any() 或np.all()"
   ]
  },
  {
   "cell_type": "code",
   "execution_count": 93,
   "id": "2f56dc41-217a-4f4e-b8fb-95f22bda1d13",
   "metadata": {},
   "outputs": [
    {
     "data": {
      "text/plain": [
       "True"
      ]
     },
     "execution_count": 93,
     "metadata": {},
     "output_type": "execute_result"
    }
   ],
   "source": [
    "np.any(x > 8) #有没有值大于8？"
   ]
  },
  {
   "cell_type": "code",
   "execution_count": 94,
   "id": "198336cf-6e64-431b-87f0-fe0b18a9779d",
   "metadata": {},
   "outputs": [
    {
     "data": {
      "text/plain": [
       "False"
      ]
     },
     "execution_count": 94,
     "metadata": {},
     "output_type": "execute_result"
    }
   ],
   "source": [
    "np.all(x == 6) #是否所有值都等于6？"
   ]
  },
  {
   "cell_type": "markdown",
   "id": "6819b673-8460-4d4d-90e6-2d4907996bfe",
   "metadata": {},
   "source": [
    "Python 有内置的sum()、any() 和all() 函数，这些函数在NumPy 中有不同的语法版本。如果在多维数组上混用这两个版本，会导致失败或产生不可预知的错误结果。因此，确保在以上的示例中用的都是np.sum()、np.any()和np.all() 函数"
   ]
  },
  {
   "cell_type": "code",
   "execution_count": 95,
   "id": "1715f991-a715-439c-8720-f0d7b7c023c2",
   "metadata": {},
   "outputs": [
    {
     "data": {
      "text/plain": [
       "29"
      ]
     },
     "execution_count": 95,
     "metadata": {},
     "output_type": "execute_result"
    }
   ],
   "source": [
    "np.sum((inches > 0.5) & (inches < 1)) #降水量大于0.5并且小于1英寸的天数有多少"
   ]
  },
  {
   "cell_type": "markdown",
   "id": "c3ea425f-493f-4789-910f-9ca68b1fb018",
   "metadata": {},
   "source": [
    "利用A AND B 和NOT (A OR B) 的等价原理"
   ]
  },
  {
   "cell_type": "code",
   "execution_count": 96,
   "id": "b7a6e641-5210-4f8b-9eeb-c674fbf131ba",
   "metadata": {},
   "outputs": [
    {
     "data": {
      "text/plain": [
       "29"
      ]
     },
     "execution_count": 96,
     "metadata": {},
     "output_type": "execute_result"
    }
   ],
   "source": [
    "np.sum(~( (inches <= 0.5) | (inches >= 1) )) # 总共有多少：[非（降水量小于等于0.5英寸或大于1英寸）]"
   ]
  },
  {
   "cell_type": "markdown",
   "id": "6d30c88b-786d-466b-bf46-bab0b5773ddf",
   "metadata": {},
   "source": [
    "逐位的布尔运算符和其对应的通用函数\n",
    "\n",
    "& : np.bitwise_and\n",
    "\n",
    "| : np.bitwise_or\n",
    "\n",
    "^ : np.bitwise_xor\n",
    "\n",
    "~ : np.bitwise_not"
   ]
  },
  {
   "cell_type": "code",
   "execution_count": 97,
   "id": "2ea8a0d1-1626-4fce-a641-1571d042af54",
   "metadata": {},
   "outputs": [
    {
     "name": "stdout",
     "output_type": "stream",
     "text": [
      "Number days without rain:  215\n",
      "Number days with rain:  150\n",
      "Days with more than 0.5 inches: 37\n",
      "Rainy days with < 0.1 inches : 75\n"
     ]
    }
   ],
   "source": [
    "print(\"Number days without rain: \", np.sum(inches == 0))\n",
    "print(\"Number days with rain: \", np.sum(inches != 0))\n",
    "print(\"Days with more than 0.5 inches:\", np.sum(inches > 0.5))\n",
    "print(\"Rainy days with < 0.1 inches :\", np.sum((inches > 0) &(inches < 0.2)))"
   ]
  },
  {
   "cell_type": "code",
   "execution_count": 98,
   "id": "cc7012c9-7f05-44e3-a468-fc147e72eb32",
   "metadata": {},
   "outputs": [
    {
     "name": "stdout",
     "output_type": "stream",
     "text": [
      "[[5 0 3 3]\n",
      " [7 9 3 5]\n",
      " [2 4 7 6]]\n"
     ]
    },
    {
     "data": {
      "text/plain": [
       "array([0, 3, 3, 3, 2, 4])"
      ]
     },
     "execution_count": 98,
     "metadata": {},
     "output_type": "execute_result"
    }
   ],
   "source": [
    "print(x)\n",
    "x[x < 5] #将这些值从数组中选出，可以进行简单的索引，即掩码操作"
   ]
  },
  {
   "cell_type": "code",
   "execution_count": 99,
   "id": "0fc07921-9a0f-4f03-ae3c-53b2b405c880",
   "metadata": {},
   "outputs": [
    {
     "name": "stdout",
     "output_type": "stream",
     "text": [
      "Median precip on rainy days in 2014 (inches):  0.19488188976377951\n",
      "Median precip on summer days in 2014 (inches):  0.0\n",
      "Maximum precip on summer days in 2014 (inches):  0.8503937007874016\n",
      "Median precip on non-summer rainy days (inches): 0.20078740157480315\n"
     ]
    }
   ],
   "source": [
    "#通过将布尔操作、掩码操作和聚合结合，可以快速回答对数据集提出的这类问题\n",
    "\n",
    "# 为所有下雨天创建一个掩码\n",
    "rainy = (inches > 0)\n",
    "\n",
    "# 构建一个包含整个夏季日期的掩码（6月21日是第172天）\n",
    "summer = (np.arange(365) - 172 < 90) & (np.arange(365) - 172 > 0)\n",
    "\n",
    "print(\"Median precip on rainy days in 2014 (inches): \",np.median(inches[rainy]))\n",
    "print(\"Median precip on summer days in 2014 (inches): \",np.median(inches[summer]))\n",
    "print(\"Maximum precip on summer days in 2014 (inches): \",np.max(inches[summer]))\n",
    "print(\"Median precip on non-summer rainy days (inches):\",np.median(inches[rainy & ~summer]))"
   ]
  },
  {
   "cell_type": "markdown",
   "id": "27963067-6c4d-406b-9065-47118c1a7ba3",
   "metadata": {},
   "source": [
    "and 和or 对整个对象执行单个布尔运算，而& 和| 对一个对象的内容（单个比特或字节）执行多个布尔运算。对于NumPy 布尔数组，后者是常用的操作。\n",
    "\n",
    "对给定数组进行逻辑运算时，你也应该使用| 或&，而不是or 或and。"
   ]
  },
  {
   "cell_type": "markdown",
   "id": "28ac6cfa-e193-4d12-b7ba-0f6fe0d0fcc6",
   "metadata": {},
   "source": [
    "## 花哨的索引"
   ]
  },
  {
   "cell_type": "markdown",
   "id": "1518a008-7808-4f03-82a6-a86a7ff603ad",
   "metadata": {},
   "source": [
    "在前面的小节中，我们看到了如何利用简单的索引值（如arr[0]）、切片（如arr[:5]）和布尔掩码（如arr[arr > 0]）获得并修改部分数组。在这一节中，我们将介绍另外一种数组索引，也称作花哨的索引（fancy indexing）。花哨的索引和前面那些简单的索引非常类似，但是传递的是索引数组，而不是单个标量。花哨的索引让我们能够快速获得并修改复杂的数组值的子数据集。"
   ]
  },
  {
   "cell_type": "code",
   "execution_count": 100,
   "id": "848d0f83-b0d3-482c-a1de-74f14d691e31",
   "metadata": {},
   "outputs": [
    {
     "name": "stdout",
     "output_type": "stream",
     "text": [
      "[[44 47 64 67 67]\n",
      " [ 9 83 21 36 87]\n",
      " [70 88 88 12 58]\n",
      " [65 39 87 46 88]\n",
      " [81 37 25 77 72]] \n",
      "\n",
      "[44 47 64 67 67] \n",
      "\n",
      "[44 47 64 67 67] \n",
      "\n",
      "[[47 64 67 67]\n",
      " [83 21 36 87]]\n"
     ]
    }
   ],
   "source": [
    "# 注意，以2维数组X1为例，X1[0]意为选择第1行,X1[0, :]意为也选择第1行,X1[:2,1:]意为选择第1到2行和2到最后一列的数据\n",
    "#注意 X1[:2,1:]，其中：2表示[0,2]应该是第1到2行，而不是1到3行，因为左开右闭，2是开区间所以取不到第3行\n",
    "\n",
    "rng = np.random.RandomState(0) #通过numpy工具包生成模拟数据集，使用RandomState获得随机数生成器\n",
    "X1= rng.randint(99, size=(5, 5))\n",
    "print(X1, '\\n')\n",
    "print(X1[0], '\\n')\n",
    "print(X1[0, :], '\\n')\n",
    "print(X1[:2,1:])"
   ]
  },
  {
   "cell_type": "code",
   "execution_count": 101,
   "id": "328fc473-6d93-4bfb-a92d-280999e7ee86",
   "metadata": {},
   "outputs": [
    {
     "data": {
      "text/plain": [
       "array([[5, 0, 3, 3],\n",
       "       [7, 9, 3, 5],\n",
       "       [2, 4, 7, 6]])"
      ]
     },
     "execution_count": 101,
     "metadata": {},
     "output_type": "execute_result"
    }
   ],
   "source": [
    "import numpy as np\n",
    "rng = np.random.RandomState(0) #通过numpy工具包生成模拟数据集，使用RandomState获得随机数生成器\n",
    "x = rng.randint(10, size=(3, 4))\n",
    "x"
   ]
  },
  {
   "cell_type": "code",
   "execution_count": 102,
   "id": "c8cababb-d767-485f-9352-45575bedd088",
   "metadata": {},
   "outputs": [
    {
     "data": {
      "text/plain": [
       "array([7, 2, 4])"
      ]
     },
     "execution_count": 102,
     "metadata": {},
     "output_type": "execute_result"
    }
   ],
   "source": [
    "# 将花哨的索引和简单的索引组合使用：\n",
    "\n",
    "x[2, [2, 0, 1]] # 索引数组x的第3行，第3、1、2列"
   ]
  },
  {
   "cell_type": "code",
   "execution_count": 103,
   "id": "7f5ec6f6-a12b-4120-ad63-fa86bf7c577e",
   "metadata": {},
   "outputs": [
    {
     "data": {
      "text/plain": [
       "array([[3, 7, 9],\n",
       "       [7, 2, 4]])"
      ]
     },
     "execution_count": 103,
     "metadata": {},
     "output_type": "execute_result"
    }
   ],
   "source": [
    "# 将花哨的索引和切片组合使用：\n",
    "\n",
    "x[1:, [2, 0, 1]] #索引数组第2到最后一行、第3、1、2列，注意2, 0, 1的顺序关乎索引的顺序"
   ]
  },
  {
   "cell_type": "code",
   "execution_count": 104,
   "id": "a67873ee-0aee-4e5f-82ad-94a84d6066a5",
   "metadata": {},
   "outputs": [
    {
     "ename": "NameError",
     "evalue": "name 'row' is not defined",
     "output_type": "error",
     "traceback": [
      "\u001b[1;31m---------------------------------------------------------------------------\u001b[0m",
      "\u001b[1;31mNameError\u001b[0m                                 Traceback (most recent call last)",
      "\u001b[1;32m~\\AppData\\Local\\Temp/ipykernel_8204/1529322255.py\u001b[0m in \u001b[0;36m<module>\u001b[1;34m\u001b[0m\n\u001b[0;32m      1\u001b[0m \u001b[1;31m# 将花哨的索引和掩码组合使用：\u001b[0m\u001b[1;33m\u001b[0m\u001b[1;33m\u001b[0m\u001b[1;33m\u001b[0m\u001b[0m\n\u001b[0;32m      2\u001b[0m \u001b[0mmask\u001b[0m \u001b[1;33m=\u001b[0m \u001b[0mnp\u001b[0m\u001b[1;33m.\u001b[0m\u001b[0marray\u001b[0m\u001b[1;33m(\u001b[0m\u001b[1;33m[\u001b[0m\u001b[1;36m1\u001b[0m\u001b[1;33m,\u001b[0m \u001b[1;36m0\u001b[0m\u001b[1;33m,\u001b[0m \u001b[1;36m1\u001b[0m\u001b[1;33m,\u001b[0m \u001b[1;36m0\u001b[0m\u001b[1;33m]\u001b[0m\u001b[1;33m,\u001b[0m \u001b[0mdtype\u001b[0m\u001b[1;33m=\u001b[0m\u001b[0mbool\u001b[0m\u001b[1;33m)\u001b[0m\u001b[1;33m\u001b[0m\u001b[1;33m\u001b[0m\u001b[0m\n\u001b[1;32m----> 3\u001b[1;33m \u001b[0mx\u001b[0m\u001b[1;33m[\u001b[0m\u001b[0mrow\u001b[0m\u001b[1;33m[\u001b[0m\u001b[1;33m:\u001b[0m\u001b[1;33m,\u001b[0m \u001b[0mnp\u001b[0m\u001b[1;33m.\u001b[0m\u001b[0mnewaxis\u001b[0m\u001b[1;33m]\u001b[0m\u001b[1;33m,\u001b[0m \u001b[0mmask\u001b[0m\u001b[1;33m]\u001b[0m\u001b[1;33m\u001b[0m\u001b[1;33m\u001b[0m\u001b[0m\n\u001b[0m",
      "\u001b[1;31mNameError\u001b[0m: name 'row' is not defined"
     ]
    }
   ],
   "source": [
    "# 将花哨的索引和掩码组合使用：\n",
    "mask = np.array([1, 0, 1, 0], dtype=bool)\n",
    "x[row[:, np.newaxis], mask]"
   ]
  },
  {
   "cell_type": "markdown",
   "id": "9e7c0b9c-bdf6-4309-be62-43c1838c6409",
   "metadata": {},
   "source": [
    "花哨的索引的一个常见用途是从一个矩阵中选择行的子集。例如我们有一个N×D 的矩阵，表示在D 个维度的N 个点。以下是一个二维正态分布的点组成的数组"
   ]
  },
  {
   "cell_type": "code",
   "execution_count": 105,
   "id": "760f60e7-f86f-4cb9-bd98-c1a336ac99a6",
   "metadata": {},
   "outputs": [
    {
     "data": {
      "text/plain": [
       "(100, 2)"
      ]
     },
     "execution_count": 105,
     "metadata": {},
     "output_type": "execute_result"
    }
   ],
   "source": [
    "# 以下是一个二维正态分布的点组成的数组\n",
    "\n",
    "rng = np.random.RandomState(0) #通过numpy工具包生成模拟数据集，使用RandomState获得随机数生成器\n",
    "\n",
    "mean = [0, 0] #mean：均值，n维分布的平均值\n",
    "cov = [[1, 2],[2, 5]] # cov：分布的协方差矩阵\n",
    "X = rng.multivariate_normal(mean, cov, 100) #从多元正态分布中随机抽取样本\n",
    "X.shape #获取数组的形状"
   ]
  },
  {
   "cell_type": "code",
   "execution_count": 106,
   "id": "54ab57cd-04bd-4db9-8849-4d52ffc7cc50",
   "metadata": {
    "tags": []
   },
   "outputs": [
    {
     "data": {
      "image/png": "[encoded data removed]",
      "text/plain": [
       "<Figure size 432x288 with 1 Axes>"
      ]
     },
     "metadata": {},
     "output_type": "display_data"
    }
   ],
   "source": [
    "import matplotlib.pyplot as plt\n",
    "plt.scatter(X[:, 0], X[:, 1]); # X[:, 0]索引第一列，X[:, 1]索引第二列"
   ]
  },
  {
   "cell_type": "code",
   "execution_count": 107,
   "id": "39cc2aaa-2f77-4644-90a0-30f6b79c6067",
   "metadata": {},
   "outputs": [
    {
     "data": {
      "text/plain": [
       "array([ 6, 94, 67, 95, 90, 61,  1, 60, 37, 53, 26, 47, 88, 62, 31, 96,  9,\n",
       "        3, 65, 80])"
      ]
     },
     "execution_count": 107,
     "metadata": {},
     "output_type": "execute_result"
    }
   ],
   "source": [
    "# 选择20个随机的、不重复的索引值，并利用这些索引值选取到原始数组对应的值：\n",
    "#numpy.random.choice(a, size=None, replace=True, p=None)\n",
    "#从a(只要是ndarray都可以，但必须是一维的)中随机抽取数字，并组成指定大小(size)的数组\n",
    "#replace:True表示可以取相同数字，False表示不可以取相同数字\n",
    "#数组p：与数组a相对应，表示取数组a中每个元素的概率，默认为选取每个元素的概率相同\n",
    "\n",
    "indices = np.random.choice(X.shape[0], 20, replace=False) #从0——99抽取20个数\n",
    "indices"
   ]
  },
  {
   "cell_type": "code",
   "execution_count": 108,
   "id": "e6a6f583-2e6a-4ab7-b4d9-9505dbbf379e",
   "metadata": {},
   "outputs": [
    {
     "data": {
      "text/plain": [
       "(20, 2)"
      ]
     },
     "execution_count": 108,
     "metadata": {},
     "output_type": "execute_result"
    }
   ],
   "source": [
    "selection = X[indices] #在数组X中随机抽取的20个数字，抽取的序号位置是上面随机生成的 indices数组\n",
    "selection.shape"
   ]
  },
  {
   "cell_type": "code",
   "execution_count": 109,
   "id": "0378f046-8fd5-450b-88d1-200075130a36",
   "metadata": {},
   "outputs": [
    {
     "data": {
      "image/png": "[encoded data removed]",
      "text/plain": [
       "<Figure size 432x288 with 1 Axes>"
      ]
     },
     "metadata": {},
     "output_type": "display_data"
    }
   ],
   "source": [
    "plt.scatter(X[:, 0], X[:, 1], alpha=0.3) #X[:, 0]意为索引二维数组X的第一列，X[:, 1]意为索引二维数组X的第二列\n",
    "plt.scatter(selection[:, 0], selection[:, 1], \n",
    "            facecolor='none', edgecolor='b', s=200);#facecolor表面颜色、edgecolor：边缘颜色"
   ]
  },
  {
   "cell_type": "markdown",
   "id": "6a8ab7da-d7f6-4745-9f7a-45c609ea646b",
   "metadata": {},
   "source": [
    "print(x2[0])  如果是获取行数据的话，可以省略后续的切片，写成左边更加简洁的方式"
   ]
  },
  {
   "cell_type": "code",
   "execution_count": 110,
   "id": "d6f5a53f-6913-4b23-98d3-4e645076b353",
   "metadata": {},
   "outputs": [
    {
     "name": "stdout",
     "output_type": "stream",
     "text": [
      "[0 1 2 3 4 5 6 7 8 9]\n"
     ]
    }
   ],
   "source": [
    "x = np.arange(10)\n",
    "i = np.array([2, 1, 8, 4])\n",
    "print(x)"
   ]
  },
  {
   "cell_type": "code",
   "execution_count": 111,
   "id": "df7de838-d564-4642-871e-66737b36fb2a",
   "metadata": {},
   "outputs": [
    {
     "name": "stdout",
     "output_type": "stream",
     "text": [
      "[ 0 99 99  3 99  5  6  7 99  9]\n"
     ]
    }
   ],
   "source": [
    "x[i] = 99\n",
    "print(x)"
   ]
  },
  {
   "cell_type": "code",
   "execution_count": 112,
   "id": "f8465299-d746-45fb-9617-c1dd727efbf5",
   "metadata": {},
   "outputs": [
    {
     "name": "stdout",
     "output_type": "stream",
     "text": [
      "[ 0 89 89  3 89  5  6  7 89  9]\n"
     ]
    }
   ],
   "source": [
    "x[i] -= 10\n",
    "print(x)"
   ]
  },
  {
   "cell_type": "code",
   "execution_count": 113,
   "id": "a143c1c8-914f-422e-9e56-24cd6d413c85",
   "metadata": {},
   "outputs": [
    {
     "name": "stdout",
     "output_type": "stream",
     "text": [
      "[0. 0. 1. 2. 3. 0. 0. 0. 0. 0.]\n"
     ]
    }
   ],
   "source": [
    "# at() 函数在这里对给定的操作、给定的索引（这里是i）以及给定的值（这里是1）执行的是就地操作\n",
    "# 另一个可以实现该功能的类似方法是通用函数中的reduceat() 函数\n",
    "\n",
    "x = np.zeros(10)\n",
    "i = [2, 3, 3, 4, 4, 4]\n",
    "np.add.at(x, i, 1) # 借助通用函数中的add.at() 方法实现累加\n",
    "print(x)"
   ]
  },
  {
   "cell_type": "markdown",
   "id": "10a5da0a-41bf-4b99-9f70-f48f724b70a0",
   "metadata": {},
   "source": [
    "np.random.randn()\n",
    "\n",
    "语法： numpy.random.randn(d0,d1,…,dn)\n",
    "\n",
    "功能： 用法同np.random.rand()一样，只是服从正态分布。用法同上。\n",
    "\n",
    "说明：标准正态分布又称为u分布，是以0为均值、以1为标准差的正态分布，记为N（0，1）。\n",
    "\n",
    "randn函数返回一个或一组样本，具有标准正态分布，dn表格每个维度，返回值为指定维度的array"
   ]
  },
  {
   "cell_type": "code",
   "execution_count": 114,
   "id": "964df146-8738-49ae-ab89-90747c3abc73",
   "metadata": {},
   "outputs": [
    {
     "data": {
      "image/png": "[encoded data removed]",
      "text/plain": [
       "<Figure size 432x288 with 1 Axes>"
      ]
     },
     "metadata": {},
     "output_type": "display_data"
    }
   ],
   "source": [
    "np.random.seed(42)\n",
    "x = np.random.randn(100) #rand函数根据给定维度生成[0,1)之间的数据，包含0，不包含1\n",
    "bins = np.linspace(-5, 5, 20) # #创建一个20个元素的数组，这20个数均匀地分配到-5~5\n",
    "plt.hist(x, bins, histtype='step');"
   ]
  },
  {
   "cell_type": "markdown",
   "id": "9cdf21a6-0b0d-447c-87cb-510f7047f1d9",
   "metadata": {},
   "source": [
    "## 数组的排序"
   ]
  },
  {
   "cell_type": "code",
   "execution_count": 115,
   "id": "f151f4c2-fe9a-46a0-bd1d-9e3ada82d849",
   "metadata": {},
   "outputs": [],
   "source": [
    "#普通的通过一次次循环对数组排序的方法\n",
    "#注意，当x为[2, 1, 4, 3, 5]，np.argmin(x[2:])意为找出[4,3,5]中最小的数的索引数(排序)\n",
    "#这里3最最小，索引数应该是1，而不是看3在整个数组中的位置，索引值不是想当然的3\n",
    "\n",
    "def selection_sort(x):\n",
    "    for i in range(len(x)):\n",
    "        swap = i + np.argmin(x[i:]) # armin用来查找最小值的下标\n",
    "        (x[i], x[swap]) = (x[swap], x[i]) #通过索引的方式修改了数组的值\n",
    "    return x"
   ]
  },
  {
   "cell_type": "code",
   "execution_count": 116,
   "id": "ffd548e1-3734-47aa-9aa4-e1a51afbc0ba",
   "metadata": {},
   "outputs": [
    {
     "data": {
      "text/plain": [
       "1"
      ]
     },
     "execution_count": 116,
     "metadata": {},
     "output_type": "execute_result"
    }
   ],
   "source": [
    "x = np.array([2, 1, 4, 3, 5]) #注意，当x为[2, 1, 4, 3, 5]，np.argmin(x[2:])意为找出[4,3,5]中最小的数的索引数(排序)\n",
    "np.argmin(x[2:])#这里3最最小，索引数应该是1，而不是看3在整个数组中的位置，索引值不是想当然的3"
   ]
  },
  {
   "cell_type": "code",
   "execution_count": 117,
   "id": "bb3c5c77-aacb-46e7-ad4c-5e673611ad59",
   "metadata": {},
   "outputs": [
    {
     "data": {
      "text/plain": [
       "array([1, 2, 3, 4, 5])"
      ]
     },
     "execution_count": 117,
     "metadata": {},
     "output_type": "execute_result"
    }
   ],
   "source": [
    "selection_sort(x) #调用函数进行排序"
   ]
  },
  {
   "cell_type": "markdown",
   "id": "731125ad-1b9d-4fb7-ba4e-d9ac13565a6e",
   "metadata": {},
   "source": [
    "这种排序方法因为其简洁而非常有用，但是它对于大数组来说太慢了。对于一个包含N个值的数组来说，它需要做N个循环，速度太慢"
   ]
  },
  {
   "cell_type": "code",
   "execution_count": 118,
   "id": "278aa2a4-884c-4f0a-a261-88030da80e0f",
   "metadata": {},
   "outputs": [],
   "source": [
    "# 更方便更傻但是效率最低的 bogosort排序算法\n",
    "# 这个很傻的算法的实现完全是碰运气：它不断对数组元素进行随机重排，直到成为有序数组才停止\n",
    "# 这个算法的复杂度为[N × N !]（N 乘以N 的阶乘）\n",
    "\n",
    "def bogosort(x):\n",
    "    while np.any(x[:-1] > x[1:]):\n",
    "        np.random.shuffle(x) #random.shuffle()函数将序列中的元素随机打乱\n",
    "    return x"
   ]
  },
  {
   "cell_type": "code",
   "execution_count": 119,
   "id": "22b14833-7833-48be-b8ef-95655e9f8d8c",
   "metadata": {},
   "outputs": [
    {
     "data": {
      "text/plain": [
       "array([1, 2, 3, 4, 5])"
      ]
     },
     "execution_count": 119,
     "metadata": {},
     "output_type": "execute_result"
    }
   ],
   "source": [
    "x = np.array([2, 1, 4, 3, 5])\n",
    "bogosort(x)"
   ]
  },
  {
   "cell_type": "markdown",
   "id": "5310504f-43dd-4f29-aa6c-44f699940de9",
   "metadata": {},
   "source": [
    "尽管Python 有内置的sort 和sorted 函数可以对列表进行排序，但是这里不会介绍这两个函数，因为NumPy 的np.sort 函数实际上效率更高。默认情况下，np.sort 的排序算法是快速排序，另外也可以选择归并排序和堆排序。对于大多数应用场景，默认的快速排序已经足够高效了"
   ]
  },
  {
   "cell_type": "code",
   "execution_count": 120,
   "id": "51de11e3-49ba-4f9a-8cb4-8322d9c3745b",
   "metadata": {},
   "outputs": [
    {
     "data": {
      "text/plain": [
       "array([1, 2, 3, 4, 5])"
      ]
     },
     "execution_count": 120,
     "metadata": {},
     "output_type": "execute_result"
    }
   ],
   "source": [
    "#如果想在不修改原始输入数组的基础上返回一个排好序的数组,可以使用np.sort：\n",
    "#sorted()类似，也是产生一个新的列表\n",
    "\n",
    "x = np.array([2, 1, 4, 3, 5])\n",
    "np.sort(x) #np.sort等价于sorted(x) "
   ]
  },
  {
   "cell_type": "code",
   "execution_count": 121,
   "id": "ba70ac3b-5e39-4d8c-aee0-85c5cabc248a",
   "metadata": {},
   "outputs": [
    {
     "name": "stdout",
     "output_type": "stream",
     "text": [
      "[2 1 4 3 5]\n"
     ]
    }
   ],
   "source": [
    "print(x) #原数组未改变"
   ]
  },
  {
   "cell_type": "code",
   "execution_count": 122,
   "id": "f6a7fee0-5ae7-4aa8-bef2-a14d43f57870",
   "metadata": {},
   "outputs": [
    {
     "name": "stdout",
     "output_type": "stream",
     "text": [
      "[1 2 3 4 5]\n"
     ]
    }
   ],
   "source": [
    "#如果希望用排好序的数组替代原始数组，可以使用数组的sort 方法：\n",
    "\n",
    "x = np.array([2, 1, 4, 3, 5])\n",
    "x.sort()\n",
    "print(x)"
   ]
  },
  {
   "cell_type": "code",
   "execution_count": 123,
   "id": "2ee3909d-4acf-40c6-a6fb-5c3ce0c95388",
   "metadata": {},
   "outputs": [
    {
     "name": "stdout",
     "output_type": "stream",
     "text": [
      "[1 0 3 2 4]\n"
     ]
    },
    {
     "data": {
      "text/plain": [
       "array([1, 2, 3, 4, 5])"
      ]
     },
     "execution_count": 123,
     "metadata": {},
     "output_type": "execute_result"
    }
   ],
   "source": [
    "#argsort函数返回的原始数组排好序的索引值：\n",
    "\n",
    "x = np.array([2, 1, 4, 3, 5])\n",
    "i = np.argsort(x)\n",
    "print(i)\n",
    "\n",
    "x[i] #这些索引值可以被用于（通过花哨的索引）创建有序的数组"
   ]
  },
  {
   "cell_type": "markdown",
   "id": "fa6d2322-2831-4c6c-9d99-5c6eeecb41fc",
   "metadata": {},
   "source": [
    "### 沿着行或列排序"
   ]
  },
  {
   "cell_type": "markdown",
   "id": "4f670fef-b469-4723-9342-96504f86c47d",
   "metadata": {},
   "source": [
    "np.random.randint()\n",
    "\n",
    "语法： numpy.random.randint(low, high=None, size=None, dtype=’l’)\n",
    "\n",
    "功能： 通过low来指定起点，通过high来指定终点，通过size参数来指定数组的维度，通过dtype来确定类型。\n",
    "\n",
    "说明：返回值为随机整数，范围区间为[low,high），包含low，不包含high\n",
    "\n",
    "参数：low为最小值，high为最大值，size为数组维度大小，dtype为数据类型，默认的数据类型是np.int\n",
    "\n",
    "high没有写时，默认生成随机数的范围是[0，low)，但此时必须将size=(x,x)写上去，否则报错；同理，如果不写‘size=’,则要在前面把low和high的值都写上"
   ]
  },
  {
   "cell_type": "code",
   "execution_count": 124,
   "id": "cd5884ca-4fe9-43b5-9ded-b15dc418f97b",
   "metadata": {},
   "outputs": [
    {
     "name": "stdout",
     "output_type": "stream",
     "text": [
      "[[6 3 7 4 6 9]\n",
      " [2 6 7 4 3 7]\n",
      " [7 2 5 4 1 7]\n",
      " [5 1 4 0 9 5]]\n"
     ]
    }
   ],
   "source": [
    "#创建一个\n",
    "\n",
    "rng = np.random.RandomState(42)\n",
    "X2 = rng.randint(0,10, (4,6)) #\n",
    "print(X2)"
   ]
  },
  {
   "cell_type": "code",
   "execution_count": 125,
   "id": "3fef34dd-0da0-4ea7-adca-37b18661f8c7",
   "metadata": {},
   "outputs": [
    {
     "data": {
      "text/plain": [
       "array([[2, 1, 4, 0, 1, 5],\n",
       "       [5, 2, 5, 4, 3, 7],\n",
       "       [6, 3, 7, 4, 6, 7],\n",
       "       [7, 6, 7, 4, 9, 9]])"
      ]
     },
     "execution_count": 125,
     "metadata": {},
     "output_type": "execute_result"
    }
   ],
   "source": [
    "#对X的每一列排序\n",
    "#需要记住的是，这种处理方式是将行或列当作独立的数组，任何行或列的值之间的关系将会丢失\n",
    "\n",
    "np.sort(X2, axis=0) "
   ]
  },
  {
   "cell_type": "code",
   "execution_count": 126,
   "id": "8037edaa-281a-40c6-87c4-17b81d19c7a0",
   "metadata": {},
   "outputs": [
    {
     "data": {
      "text/plain": [
       "array([[3, 4, 6, 6, 7, 9],\n",
       "       [2, 3, 4, 6, 7, 7],\n",
       "       [1, 2, 4, 5, 7, 7],\n",
       "       [0, 1, 4, 5, 5, 9]])"
      ]
     },
     "execution_count": 126,
     "metadata": {},
     "output_type": "execute_result"
    }
   ],
   "source": [
    "#对X的每一行排序\n",
    "#需要记住的是，这种处理方式是将行或列当作独立的数组，任何行或列的值之间的关系将会丢失\n",
    "\n",
    "np.sort(X2, axis=1)"
   ]
  },
  {
   "cell_type": "markdown",
   "id": "0802c160-4681-418c-9d72-1900d1d9d87e",
   "metadata": {},
   "source": [
    "有时候我们不希望对整个数组进行排序，仅仅希望找到数组中第K 小的值，NumPy 的np.partition 函数提供了该功能。np.partition 函数的输入是数组和数字K，输出结果是一个新数组，最左边是第K 小的值，往右是任意顺序的其他值："
   ]
  },
  {
   "cell_type": "code",
   "execution_count": 127,
   "id": "f84f119c-2776-431f-b85b-b7efb9496040",
   "metadata": {},
   "outputs": [
    {
     "data": {
      "text/plain": [
       "array([2, 1, 3, 4, 6, 5, 7])"
      ]
     },
     "execution_count": 127,
     "metadata": {},
     "output_type": "execute_result"
    }
   ],
   "source": [
    "x = np.array([7, 2, 3, 1, 6, 5, 4])\n",
    "np.partition(x, 3) #partition函数，在这里把前三小的数放在最左边重新排列，在这两个分隔区间中，元素都是任意排列的"
   ]
  },
  {
   "cell_type": "code",
   "execution_count": 128,
   "id": "89917a33-5493-4e73-888f-7132144d904d",
   "metadata": {},
   "outputs": [
    {
     "data": {
      "text/plain": [
       "array([[3, 4, 6, 7, 6, 9],\n",
       "       [2, 3, 4, 7, 6, 7],\n",
       "       [1, 2, 4, 5, 7, 7],\n",
       "       [0, 1, 4, 5, 9, 5]])"
      ]
     },
     "execution_count": 128,
     "metadata": {},
     "output_type": "execute_result"
    }
   ],
   "source": [
    "np.partition(X2, 2, axis=1) #找到每一行前两小的值放在最左边重新排列，在这两个分隔区间中，元素都是任意排列的"
   ]
  },
  {
   "cell_type": "markdown",
   "id": "17dd131e-8759-4736-8306-5408cf5956a4",
   "metadata": {},
   "source": [
    "### 示例：K个最近邻"
   ]
  },
  {
   "cell_type": "code",
   "execution_count": 129,
   "id": "277d9e4f-b8d3-481c-8412-a6daf2806017",
   "metadata": {},
   "outputs": [],
   "source": [
    "import numpy as np\n",
    "\n",
    "rng = np.random.RandomState() #设置随机种子\n",
    "X = rng.rand(10,2) #返回服从[0,1)均匀分布的随机样本值 # 10行2列,意思是10个(x,y)点"
   ]
  },
  {
   "cell_type": "code",
   "execution_count": 130,
   "id": "39b66c34-3af7-49b2-ac75-3fac7114741d",
   "metadata": {},
   "outputs": [
    {
     "data": {
      "image/png": "[encoded data removed]",
      "text/plain": [
       "<Figure size 432x288 with 1 Axes>"
      ]
     },
     "metadata": {},
     "output_type": "display_data"
    }
   ],
   "source": [
    "import matplotlib.pyplot as plt\n",
    "import seaborn; seaborn.set() #设置画图风格,在这里可以显示网格线\n",
    "\n",
    "plt.scatter(X[:, 0], X[:, 1], s=100); #第一列数据是X轴，第二列数据是Y轴"
   ]
  },
  {
   "cell_type": "markdown",
   "id": "c3280cc7-3698-4d4e-976c-37687fa9663e",
   "metadata": {},
   "source": [
    "对于《Python数据科学手册》p78页示例：K个最近邻的dist_sq理解 https://blog.csdn.net/weixin_44765605/article/details/106178424"
   ]
  },
  {
   "cell_type": "code",
   "execution_count": 131,
   "id": "0dced17b-f06d-4d54-8d9a-2dfaf4a68ae0",
   "metadata": {},
   "outputs": [],
   "source": [
    " #用一行代码计算矩阵的平方距离 \n",
    "\n",
    "dist_sq = np.sum((X[:,np.newaxis,:] - X[np.newaxis,:,:]) ** 2, axis=-1) \n",
    "\n",
    "#axis=-1意思就是在最后一个轴展开求平方和运算，就是把（X-Y）的平方加在一起\n",
    "# 我们学过两点间距离的平方等于每个维度的距离差的平方的和（勾股定理）\n",
    "# X实际上是一个10行2列的二维数组，如果不扩列，X[:,:]- X[:,:]得到的结果全都是0，因为每个X，Y都在和自身相减。\n",
    "# 我们需要的是让每一个X坐标和Y坐标都能和其他坐标相减，所以要升维操作并利用数组的广播规则。\n",
    "# 具体来说，如X[:,np.newaxis,:] - X[np.newaxis,:,:]，广播之后就计算每一个坐标之间的差值\n",
    "# 广播之后的形状为：（10,10,2），每一个X坐标、Y坐标都被重复10次，每一个点都要被其他点减去10次，这样才可以计算每个点和其他点的距离"
   ]
  },
  {
   "cell_type": "code",
   "execution_count": 132,
   "id": "74d1c638-58a9-4a81-98de-b73442c076e0",
   "metadata": {},
   "outputs": [
    {
     "data": {
      "text/plain": [
       "array([0., 0., 0., 0., 0., 0., 0., 0., 0., 0.])"
      ]
     },
     "execution_count": 132,
     "metadata": {},
     "output_type": "execute_result"
    }
   ],
   "source": [
    "dist_sq.diagonal() #该矩阵的对角线（也就是每个点到其自身的距离）的值都是0，表明计算方法正确"
   ]
  },
  {
   "cell_type": "code",
   "execution_count": 133,
   "id": "ec6b0f0a-34f7-48c2-8187-d8a048a6cb79",
   "metadata": {},
   "outputs": [
    {
     "name": "stdout",
     "output_type": "stream",
     "text": [
      "[[0 9 2 6 4 3 7 5 1 8]\n",
      " [1 3 5 8 9 4 7 0 2 6]\n",
      " [2 4 6 0 7 9 3 5 8 1]\n",
      " [3 1 5 9 4 8 7 0 2 6]\n",
      " [4 7 2 5 3 0 8 9 6 1]\n",
      " [5 8 3 7 1 4 9 2 0 6]\n",
      " [6 2 0 4 9 7 3 5 8 1]\n",
      " [7 4 8 5 2 3 0 9 1 6]\n",
      " [8 5 7 4 3 1 2 9 0 6]\n",
      " [9 0 3 2 4 1 6 5 7 8]]\n"
     ]
    }
   ],
   "source": [
    "nearest = np.argsort(dist_sq, axis=1) #使用np.argsort函数沿着每行进行排序，返回的原始数组排好序的索引值：\n",
    "print(nearest)"
   ]
  },
  {
   "cell_type": "markdown",
   "id": "1a65220f-8ce5-4210-8291-c4d97af6fd3b",
   "metadata": {},
   "source": [
    "numpy.argpatition() 应用详解  https://blog.csdn.net/SanyHo/article/details/105455175"
   ]
  },
  {
   "cell_type": "code",
   "execution_count": 134,
   "id": "6c72e621-e620-4752-aadd-6ba7063fe29c",
   "metadata": {},
   "outputs": [],
   "source": [
    "# np.argpartition()将传入的数组分成两部分，即从第K个小的数将数组分成两部分\n",
    "# 前半部分为前K小的索引，后半部分为其他，###注意：两部分内部(可能前半部分排序？)都不排序\n",
    "# 取出K个最邻近，分隔每一行\n",
    "\n",
    "K = 2\n",
    "nearest_partition = np.argpartition(dist_sq, K, axis=1) #将前3小（位置2）的平方和的值挑选出来\n",
    "\n",
    "#为何？要这样挑选？"
   ]
  },
  {
   "cell_type": "code",
   "execution_count": 135,
   "id": "d3d93a13-6be7-437e-a796-7be73dd54637",
   "metadata": {},
   "outputs": [
    {
     "data": {
      "text/plain": [
       "array([6, 0, 2, 4, 1, 5, 3, 7, 8], dtype=int64)"
      ]
     },
     "execution_count": 135,
     "metadata": {},
     "output_type": "execute_result"
    }
   ],
   "source": [
    "# np.argpartition()的例子\n",
    "\n",
    "N=np.array([10,90,30,50,40,80,20,70,60])\n",
    "K = 3\n",
    "np.argpartition(N, K) #选出前4小的数字的索引，按照索引将数组分成两部分\n",
    "\n",
    "#下方可见，10,20,30,40最小，分别对应索引0,6,2,4"
   ]
  },
  {
   "cell_type": "code",
   "execution_count": 136,
   "id": "b26f660d-7f4e-4e4f-b679-d22fe8abf2ca",
   "metadata": {},
   "outputs": [
    {
     "data": {
      "image/png": "[encoded data removed]",
      "text/plain": [
       "<Figure size 432x288 with 1 Axes>"
      ]
     },
     "metadata": {},
     "output_type": "display_data"
    }
   ],
   "source": [
    "import seaborn; seaborn.set() #设置画图风格,在这里可以显示网格线\n",
    "\n",
    "plt.scatter(X[:, 0], X[:, 1], s=10)\n",
    "\n",
    "K = 2\n",
    "\n",
    "#为每一个坐标找到距离这个点最近的K个点，并连线\n",
    "for i in range(X.shape[0]):\n",
    "    for j in nearest_partition[i, :K+1]: \n",
    "        # K+1是开区间，索引不到K+1刚好索引到K  \n",
    "        # 找到前3个数连线，是因为还有原点包括在其中\n",
    "        plt.plot(*zip(X[j], X[i]), color='black')"
   ]
  },
  {
   "cell_type": "markdown",
   "id": "2b582bbb-e440-473c-b40f-a7477b35f106",
   "metadata": {},
   "source": [
    "## 结构化数据：NumPy的结构化数组"
   ]
  },
  {
   "cell_type": "markdown",
   "id": "2451e170-9b3e-42e4-8aff-283c70b3262e",
   "metadata": {},
   "source": [
    "假定现在有关于一些人的分类数据（如姓名、年龄和体重），我们将它们存在三个单独的数组中"
   ]
  },
  {
   "cell_type": "code",
   "execution_count": 137,
   "id": "0e1acf8a-9041-4679-8761-b0465bd115b0",
   "metadata": {},
   "outputs": [],
   "source": [
    "name = ['Alice', 'Bob', 'Cathy', 'Doug']\n",
    "age = [25, 45, 37, 19]\n",
    "weight = [55.0, 85.5, 68.0, 61.5]"
   ]
  },
  {
   "cell_type": "markdown",
   "id": "0da66cb4-f698-4f43-9570-b14e32ac05c6",
   "metadata": {},
   "source": [
    "如果可以用一种单一结构来存储所有的数据，那么看起来会更自然。NumPy 可以用结构化数组实现这种存储，这些结构化数组是复合数据类型的。"
   ]
  },
  {
   "cell_type": "markdown",
   "id": "4682ddb0-b895-4338-b464-31fb109091d5",
   "metadata": {},
   "source": [
    "通过指定复合数据类型，可以构造一个结构化数组：\n",
    "\n",
    "<strong>data = np.zeros(4, dtype={'names':('name', 'age', 'weight'),'formats':('U10', 'i4', 'f8')})<strong>"
   ]
  },
  {
   "cell_type": "code",
   "execution_count": 138,
   "id": "d5373dce-a206-4379-a3db-197124c1a0fa",
   "metadata": {},
   "outputs": [
    {
     "name": "stdout",
     "output_type": "stream",
     "text": [
      "[('Alice', 25, 55. ) ('Bob', 45, 85.5) ('Cathy', 37, 68. )\n",
      " ('Doug', 19, 61.5)]\n"
     ]
    }
   ],
   "source": [
    "# 使用复合数据结构的结构化数组\n",
    "data = np.zeros(4, dtype={'names':('name', 'age', 'weight'),'formats':('U10', 'i4', 'f8')})\n",
    "\n",
    "# U10 表示“长度不超过10的Unicode 字符串”\n",
    "# i4 表示“4 字节（即32比特）整型”，\n",
    "# f8 表示“8 字节（即64比特）浮点型”\n",
    "\n",
    "#数据列表如下\n",
    "name = ['Alice', 'Bob', 'Cathy', 'Doug']\n",
    "age = [25, 45, 37, 19]\n",
    "weight = [55.0, 85.5, 68.0, 61.5]\n",
    "\n",
    "#将列表数据放入数组中\n",
    "data['name'] = name \n",
    "data['age'] = age\n",
    "data['weight'] = weight\n",
    "\n",
    "#输出结构化数组\n",
    "print(data)"
   ]
  },
  {
   "cell_type": "code",
   "execution_count": 139,
   "id": "9966fc32-a694-47cb-8d65-c09b6fb908d1",
   "metadata": {},
   "outputs": [
    {
     "data": {
      "text/plain": [
       "array(['Alice', 'Bob', 'Cathy', 'Doug'], dtype='<U10')"
      ]
     },
     "execution_count": 139,
     "metadata": {},
     "output_type": "execute_result"
    }
   ],
   "source": [
    "data['name'] #获取所有名字"
   ]
  },
  {
   "cell_type": "code",
   "execution_count": 140,
   "id": "3f5ee412-e56f-462f-b7d8-52689f9a96fa",
   "metadata": {},
   "outputs": [
    {
     "data": {
      "text/plain": [
       "('Alice', 25, 55.)"
      ]
     },
     "execution_count": 140,
     "metadata": {},
     "output_type": "execute_result"
    }
   ],
   "source": [
    "data[0] #获取数据第一行"
   ]
  },
  {
   "cell_type": "code",
   "execution_count": 141,
   "id": "19c3094e-d5f8-44ab-a1d7-c905844c6924",
   "metadata": {},
   "outputs": [
    {
     "data": {
      "text/plain": [
       "'Doug'"
      ]
     },
     "execution_count": 141,
     "metadata": {},
     "output_type": "execute_result"
    }
   ],
   "source": [
    "data[-1]['name'] #获取最后一行的名字 #双重索引"
   ]
  },
  {
   "cell_type": "code",
   "execution_count": 142,
   "id": "716278fb-81c0-46b9-b859-efe68bfbe17f",
   "metadata": {},
   "outputs": [
    {
     "data": {
      "text/plain": [
       "array(['Alice', 'Doug'], dtype='<U10')"
      ]
     },
     "execution_count": 142,
     "metadata": {},
     "output_type": "execute_result"
    }
   ],
   "source": [
    "data[data['age'] < 30]['name'] #获取年龄小于30岁的人的名字"
   ]
  },
  {
   "cell_type": "markdown",
   "id": "e65552fb-dcfb-46cc-8333-0ed636389144",
   "metadata": {},
   "source": [
    "<strong>双重+条件索引的写法，很值得学习</strong>\n",
    "\n",
    "<strong>[data['age'] < 30]['name']  #获取年龄小于30岁的人的名字"
   ]
  },
  {
   "cell_type": "markdown",
   "id": "7ab2ecea-dcb8-4a35-a128-7889a3688670",
   "metadata": {},
   "source": [
    "结构化数组的数据类型有多种制定方式。此前我们看过了采用字典的方法"
   ]
  },
  {
   "cell_type": "code",
   "execution_count": 143,
   "id": "fd36437d-7e37-410b-be73-519323cd6648",
   "metadata": {},
   "outputs": [
    {
     "data": {
      "text/plain": [
       "dtype([('name', '<U10'), ('age', '<i4'), ('weight', '<f8')])"
      ]
     },
     "execution_count": 143,
     "metadata": {},
     "output_type": "execute_result"
    }
   ],
   "source": [
    "#np.dtype意为获取or定义数据类型\n",
    "\n",
    "np.dtype({'names':('name', 'age', 'weight'),'formats':('U10', 'i4', 'f8')})"
   ]
  },
  {
   "cell_type": "code",
   "execution_count": 144,
   "id": "5a8583ae-2896-4714-a01f-0c43d2d97b68",
   "metadata": {},
   "outputs": [
    {
     "data": {
      "text/plain": [
       "dtype([('name', '<U10'), ('age', '<i4'), ('weight', '<f4')])"
      ]
     },
     "execution_count": 144,
     "metadata": {},
     "output_type": "execute_result"
    }
   ],
   "source": [
    "#数值数据类型可以用Python类型或NumPy的dtype类型指定\n",
    "np.dtype({'names':('name', 'age', 'weight'),'formats':((np.str_, 10), int, np.float32)})"
   ]
  },
  {
   "cell_type": "markdown",
   "id": "c1c9a8e4-7234-4c22-bcdb-0cb15b8beaa5",
   "metadata": {},
   "source": [
    "复合类型也可以是元组组成的列表"
   ]
  },
  {
   "cell_type": "code",
   "execution_count": 145,
   "id": "3a5e5e22-6102-4a6d-9ca1-40feb04cba64",
   "metadata": {},
   "outputs": [
    {
     "data": {
      "text/plain": [
       "dtype([('name', 'S10'), ('age', '<i4'), ('weight', '<f8')])"
      ]
     },
     "execution_count": 145,
     "metadata": {},
     "output_type": "execute_result"
    }
   ],
   "source": [
    "np.dtype([('name', 'S10'), ('age', 'i4'), ('weight', 'f8')])"
   ]
  },
  {
   "cell_type": "code",
   "execution_count": 146,
   "id": "e7832642-c2e8-44dd-8c7d-f5cb03026080",
   "metadata": {},
   "outputs": [
    {
     "data": {
      "text/plain": [
       "dtype([('f0', 'S10'), ('f1', '<i4'), ('f2', '<f8')])"
      ]
     },
     "execution_count": 146,
     "metadata": {},
     "output_type": "execute_result"
    }
   ],
   "source": [
    "np.dtype('S10,i4,f8') #如果类型的名称对你来说并不重要，那你可以仅仅用一个字符串来指定它"
   ]
  },
  {
   "attachments": {
    "3e9f1031-58ca-4f43-bb1e-b6b6294dd36f.png": {
     "image/png": "[encoded data removed]"
    }
   },
   "cell_type": "markdown",
   "id": "eb4b28e3-7c1d-4559-94db-5f28ddb3f26c",
   "metadata": {},
   "source": [
    "![image.png](attachment:3e9f1031-58ca-4f43-bb1e-b6b6294dd36f.png)"
   ]
  },
  {
   "cell_type": "code",
   "execution_count": 147,
   "id": "aad05e82-8a13-43a9-a5ba-1129be5a551b",
   "metadata": {},
   "outputs": [
    {
     "data": {
      "text/plain": [
       "array([(0, [[0., 0., 0.], [0., 0., 0.], [0., 0., 0.]])],\n",
       "      dtype=[('id', '<i8'), ('mat', '<f8', (3, 3))])"
      ]
     },
     "execution_count": 147,
     "metadata": {},
     "output_type": "execute_result"
    }
   ],
   "source": [
    "tp = np.dtype([('id', 'i8'), ('mat', 'f8', (3, 3))])\n",
    "X = np.zeros(1, dtype=tp) #创立一个结构化数组\n",
    "X"
   ]
  },
  {
   "cell_type": "code",
   "execution_count": 148,
   "id": "c674d28f-d13f-4047-9f01-d8205d896c1b",
   "metadata": {},
   "outputs": [
    {
     "name": "stdout",
     "output_type": "stream",
     "text": [
      "(0, [[0., 0., 0.], [0., 0., 0.], [0., 0., 0.]])\n",
      "[[0. 0. 0.]\n",
      " [0. 0. 0.]\n",
      " [0. 0. 0.]]\n"
     ]
    }
   ],
   "source": [
    "print(X[0])\n",
    "print(X['mat'][0])"
   ]
  },
  {
   "cell_type": "markdown",
   "id": "ce1ca2dc-9f3c-4d18-9470-0c4a14b13f97",
   "metadata": {},
   "source": [
    "现在X 数组的每个元素都包含一个id 和一个3×3 的矩阵。为什么我们宁愿用这种方法存储数据，也不用简单的多维数组，或者Python 字典呢？原因是NumPy 的dtype 直接映射到C 结构的定义，因此包含数组内容的缓存可以直接在C 程序中使用。如果你想写一个Python 接口与一个遗留的C 语言或Fortran 库交互，从而操作结构化数据，你将会发现结构化数组非常有用！"
   ]
  },
  {
   "cell_type": "markdown",
   "id": "4c73e3fd-0f48-41fa-ab5c-d4c0a0a95c49",
   "metadata": {},
   "source": [
    "**几种索引方式的比较**"
   ]
  },
  {
   "cell_type": "code",
   "execution_count": 149,
   "id": "000afeeb-3556-487b-b9ba-fbffc7d6a153",
   "metadata": {},
   "outputs": [
    {
     "data": {
      "text/plain": [
       "array([25, 45, 37, 19])"
      ]
     },
     "execution_count": 149,
     "metadata": {},
     "output_type": "execute_result"
    }
   ],
   "source": [
    "data['age']"
   ]
  },
  {
   "cell_type": "code",
   "execution_count": 150,
   "id": "8e8b231b-2c09-4586-a77b-571cf2169318",
   "metadata": {},
   "outputs": [
    {
     "data": {
      "text/plain": [
       "array([25, 45, 37, 19])"
      ]
     },
     "execution_count": 150,
     "metadata": {},
     "output_type": "execute_result"
    }
   ],
   "source": [
    "#NumPy 还提供了np.recarray 类，它有一个独特的特征：域可以像属性一样获取，而不是像字典的键那样获取。\n",
    "\n",
    "data_rec = data.view(np.recarray)\n",
    "data_rec.age"
   ]
  },
  {
   "cell_type": "code",
   "execution_count": 151,
   "id": "5b1d3afb-03a4-4ec1-9aa0-adaa5a4a6226",
   "metadata": {},
   "outputs": [
    {
     "data": {
      "text/plain": [
       "array([25, 45, 37, 19])"
      ]
     },
     "execution_count": 151,
     "metadata": {},
     "output_type": "execute_result"
    }
   ],
   "source": [
    "data_rec['age']"
   ]
  },
  {
   "cell_type": "code",
   "execution_count": 152,
   "id": "8a4d6ad0-bb92-4183-845b-1f6746bf0674",
   "metadata": {},
   "outputs": [
    {
     "name": "stdout",
     "output_type": "stream",
     "text": [
      "80.2 ns ± 0.427 ns per loop (mean ± std. dev. of 7 runs, 10000000 loops each)\n",
      "1.28 µs ± 10.8 ns per loop (mean ± std. dev. of 7 runs, 1000000 loops each)\n",
      "2.14 µs ± 30 ns per loop (mean ± std. dev. of 7 runs, 100000 loops each)\n"
     ]
    }
   ],
   "source": [
    "%timeit data['age']\n",
    "%timeit data_rec['age']\n",
    "%timeit data_rec.age"
   ]
  }
 ],
 "metadata": {
  "kernelspec": {
   "display_name": "Python 3 (ipykernel)",
   "language": "python",
   "name": "python3"
  },
  "language_info": {
   "codemirror_mode": {
    "name": "ipython",
    "version": 3
   },
   "file_extension": ".py",
   "mimetype": "text/x-python",
   "name": "python",
   "nbconvert_exporter": "python",
   "pygments_lexer": "ipython3",
   "version": "3.8.8"
  }
 },
 "nbformat": 4,
 "nbformat_minor": 5
}
